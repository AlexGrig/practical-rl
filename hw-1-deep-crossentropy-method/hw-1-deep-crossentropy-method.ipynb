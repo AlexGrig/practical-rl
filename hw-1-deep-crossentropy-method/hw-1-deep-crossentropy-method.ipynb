{
  "cells": [
    {
      "cell_type": "markdown",
      "metadata": {
        "id": "view-in-github",
        "colab_type": "text"
      },
      "source": [
        "<a href=\"https://colab.research.google.com/github/AlexGrig/practical-rl/blob/master/hw-1-deep-crossentropy-method/hw-1-deep-crossentropy-method.ipynb\" target=\"_parent\"><img src=\"https://colab.research.google.com/assets/colab-badge.svg\" alt=\"Open In Colab\"/></a>"
      ]
    },
    {
      "cell_type": "markdown",
      "metadata": {
        "id": "vmCrIussDqu7"
      },
      "source": [
        "# Deep Crossentropy method\n",
        "\n",
        "In this section we'll extend your CEM implementation with neural networks! You will train a multi-layer neural network to solve simple continuous state space games. __Please make sure you're done with tabular crossentropy method from the previous notebook.__\n",
        "\n",
        "![img](https://tip.duke.edu/independent_learning/greek/lesson/digging_deeper_final.jpg)\n"
      ]
    },
    {
      "cell_type": "code",
      "source": [
        "import sys, os\n",
        "if 'google.colab' in sys.modules and not os.path.exists('.setup_complete'):\n",
        "    !wget -q https://raw.githubusercontent.com/yandexdataschool/Practical_RL/master/setup_colab.sh -O- | bash\n",
        "\n",
        "    !touch .setup_complete\n",
        "\n",
        "# This code creates a virtual display to draw game images on.\n",
        "# It will have no effect if your machine has a monitor.\n",
        "if type(os.environ.get(\"DISPLAY\")) is not str or len(os.environ.get(\"DISPLAY\")) == 0:\n",
        "    !bash ../xvfb start\n",
        "    os.environ['DISPLAY'] = ':1'"
      ],
      "metadata": {
        "colab": {
          "base_uri": "https://localhost:8080/"
        },
        "id": "xsVs1oW0Et4W",
        "outputId": "820b012d-29e3-4e3a-ff02-7fef2db62a3e"
      },
      "execution_count": 8,
      "outputs": [
        {
          "output_type": "stream",
          "name": "stdout",
          "text": [
            "Selecting previously unselected package xvfb.\n",
            "(Reading database ... 155685 files and directories currently installed.)\n",
            "Preparing to unpack .../xvfb_2%3a1.19.6-1ubuntu4.11_amd64.deb ...\n",
            "Unpacking xvfb (2:1.19.6-1ubuntu4.11) ...\n",
            "Setting up xvfb (2:1.19.6-1ubuntu4.11) ...\n",
            "Processing triggers for man-db (2.8.3-2ubuntu0.1) ...\n",
            "Starting virtual X frame buffer: Xvfb.\n"
          ]
        }
      ]
    },
    {
      "cell_type": "code",
      "source": [
        "!pip install gym[toy_text]"
      ],
      "metadata": {
        "colab": {
          "base_uri": "https://localhost:8080/"
        },
        "id": "G2ySWyWeE9gW",
        "outputId": "61d21b9a-c366-4e77-cb9a-8481d5fa6a8a"
      },
      "execution_count": 9,
      "outputs": [
        {
          "output_type": "stream",
          "name": "stdout",
          "text": [
            "Looking in indexes: https://pypi.org/simple, https://us-python.pkg.dev/colab-wheels/public/simple/\n",
            "Requirement already satisfied: gym[toy_text] in /usr/local/lib/python3.7/dist-packages (0.25.2)\n",
            "Requirement already satisfied: gym-notices>=0.0.4 in /usr/local/lib/python3.7/dist-packages (from gym[toy_text]) (0.0.8)\n",
            "Requirement already satisfied: cloudpickle>=1.2.0 in /usr/local/lib/python3.7/dist-packages (from gym[toy_text]) (1.5.0)\n",
            "Requirement already satisfied: numpy>=1.18.0 in /usr/local/lib/python3.7/dist-packages (from gym[toy_text]) (1.21.6)\n",
            "Requirement already satisfied: importlib-metadata>=4.8.0 in /usr/local/lib/python3.7/dist-packages (from gym[toy_text]) (4.12.0)\n",
            "Collecting pygame==2.1.0\n",
            "  Downloading pygame-2.1.0-cp37-cp37m-manylinux_2_17_x86_64.manylinux2014_x86_64.whl (18.3 MB)\n",
            "\u001b[K     |████████████████████████████████| 18.3 MB 5.5 MB/s \n",
            "\u001b[?25hRequirement already satisfied: zipp>=0.5 in /usr/local/lib/python3.7/dist-packages (from importlib-metadata>=4.8.0->gym[toy_text]) (3.8.1)\n",
            "Requirement already satisfied: typing-extensions>=3.6.4 in /usr/local/lib/python3.7/dist-packages (from importlib-metadata>=4.8.0->gym[toy_text]) (4.1.1)\n",
            "Installing collected packages: pygame\n",
            "Successfully installed pygame-2.1.0\n"
          ]
        }
      ]
    },
    {
      "cell_type": "code",
      "source": [
        "!df -h"
      ],
      "metadata": {
        "id": "nIbZ_4QAK02L",
        "outputId": "fa3dac56-e154-41f7-a837-c6fda1ba73c6",
        "colab": {
          "base_uri": "https://localhost:8080/"
        }
      },
      "execution_count": 10,
      "outputs": [
        {
          "output_type": "stream",
          "name": "stdout",
          "text": [
            "Filesystem      Size  Used Avail Use% Mounted on\n",
            "overlay         108G   38G   71G  35% /\n",
            "tmpfs            64M     0   64M   0% /dev\n",
            "shm             5.8G     0  5.8G   0% /dev/shm\n",
            "/dev/root       2.0G  1.2G  812M  59% /sbin/docker-init\n",
            "tmpfs           6.4G   36K  6.4G   1% /var/colab\n",
            "/dev/sda1        81G   40G   42G  49% /etc/hosts\n",
            "tmpfs           6.4G     0  6.4G   0% /proc/acpi\n",
            "tmpfs           6.4G     0  6.4G   0% /proc/scsi\n",
            "tmpfs           6.4G     0  6.4G   0% /sys/firmware\n"
          ]
        }
      ]
    },
    {
      "cell_type": "code",
      "source": [
        "!cat /proc/cpuinfo"
      ],
      "metadata": {
        "id": "wZAFv4tvK1pr",
        "outputId": "fdfc5541-0a1e-4d65-8450-fde597d40bed",
        "colab": {
          "base_uri": "https://localhost:8080/"
        }
      },
      "execution_count": 11,
      "outputs": [
        {
          "output_type": "stream",
          "name": "stdout",
          "text": [
            "processor\t: 0\n",
            "vendor_id\t: GenuineIntel\n",
            "cpu family\t: 6\n",
            "model\t\t: 79\n",
            "model name\t: Intel(R) Xeon(R) CPU @ 2.20GHz\n",
            "stepping\t: 0\n",
            "microcode\t: 0x1\n",
            "cpu MHz\t\t: 2199.998\n",
            "cache size\t: 56320 KB\n",
            "physical id\t: 0\n",
            "siblings\t: 2\n",
            "core id\t\t: 0\n",
            "cpu cores\t: 1\n",
            "apicid\t\t: 0\n",
            "initial apicid\t: 0\n",
            "fpu\t\t: yes\n",
            "fpu_exception\t: yes\n",
            "cpuid level\t: 13\n",
            "wp\t\t: yes\n",
            "flags\t\t: fpu vme de pse tsc msr pae mce cx8 apic sep mtrr pge mca cmov pat pse36 clflush mmx fxsr sse sse2 ss ht syscall nx pdpe1gb rdtscp lm constant_tsc rep_good nopl xtopology nonstop_tsc cpuid tsc_known_freq pni pclmulqdq ssse3 fma cx16 pcid sse4_1 sse4_2 x2apic movbe popcnt aes xsave avx f16c rdrand hypervisor lahf_lm abm 3dnowprefetch invpcid_single ssbd ibrs ibpb stibp fsgsbase tsc_adjust bmi1 hle avx2 smep bmi2 erms invpcid rtm rdseed adx smap xsaveopt arat md_clear arch_capabilities\n",
            "bugs\t\t: cpu_meltdown spectre_v1 spectre_v2 spec_store_bypass l1tf mds swapgs taa\n",
            "bogomips\t: 4399.99\n",
            "clflush size\t: 64\n",
            "cache_alignment\t: 64\n",
            "address sizes\t: 46 bits physical, 48 bits virtual\n",
            "power management:\n",
            "\n",
            "processor\t: 1\n",
            "vendor_id\t: GenuineIntel\n",
            "cpu family\t: 6\n",
            "model\t\t: 79\n",
            "model name\t: Intel(R) Xeon(R) CPU @ 2.20GHz\n",
            "stepping\t: 0\n",
            "microcode\t: 0x1\n",
            "cpu MHz\t\t: 2199.998\n",
            "cache size\t: 56320 KB\n",
            "physical id\t: 0\n",
            "siblings\t: 2\n",
            "core id\t\t: 0\n",
            "cpu cores\t: 1\n",
            "apicid\t\t: 1\n",
            "initial apicid\t: 1\n",
            "fpu\t\t: yes\n",
            "fpu_exception\t: yes\n",
            "cpuid level\t: 13\n",
            "wp\t\t: yes\n",
            "flags\t\t: fpu vme de pse tsc msr pae mce cx8 apic sep mtrr pge mca cmov pat pse36 clflush mmx fxsr sse sse2 ss ht syscall nx pdpe1gb rdtscp lm constant_tsc rep_good nopl xtopology nonstop_tsc cpuid tsc_known_freq pni pclmulqdq ssse3 fma cx16 pcid sse4_1 sse4_2 x2apic movbe popcnt aes xsave avx f16c rdrand hypervisor lahf_lm abm 3dnowprefetch invpcid_single ssbd ibrs ibpb stibp fsgsbase tsc_adjust bmi1 hle avx2 smep bmi2 erms invpcid rtm rdseed adx smap xsaveopt arat md_clear arch_capabilities\n",
            "bugs\t\t: cpu_meltdown spectre_v1 spectre_v2 spec_store_bypass l1tf mds swapgs taa\n",
            "bogomips\t: 4399.99\n",
            "clflush size\t: 64\n",
            "cache_alignment\t: 64\n",
            "address sizes\t: 46 bits physical, 48 bits virtual\n",
            "power management:\n",
            "\n"
          ]
        }
      ]
    },
    {
      "cell_type": "code",
      "source": [
        "!cat /proc/meminfo"
      ],
      "metadata": {
        "id": "9xbrAhp1K5Kb",
        "outputId": "d9834657-7ef3-42ad-e905-cbaa01c5e454",
        "colab": {
          "base_uri": "https://localhost:8080/"
        }
      },
      "execution_count": 12,
      "outputs": [
        {
          "output_type": "stream",
          "name": "stdout",
          "text": [
            "MemTotal:       13298572 kB\n",
            "MemFree:         9666368 kB\n",
            "MemAvailable:   11968196 kB\n",
            "Buffers:           72612 kB\n",
            "Cached:          2301140 kB\n",
            "SwapCached:            0 kB\n",
            "Active:          1518316 kB\n",
            "Inactive:        1867648 kB\n",
            "Active(anon):     899356 kB\n",
            "Inactive(anon):      456 kB\n",
            "Active(file):     618960 kB\n",
            "Inactive(file):  1867192 kB\n",
            "Unevictable:           0 kB\n",
            "Mlocked:               0 kB\n",
            "SwapTotal:             0 kB\n",
            "SwapFree:              0 kB\n",
            "Dirty:              2132 kB\n",
            "Writeback:             0 kB\n",
            "AnonPages:       1012272 kB\n",
            "Mapped:           286708 kB\n",
            "Shmem:              1204 kB\n",
            "KReclaimable:     114512 kB\n",
            "Slab:             160084 kB\n",
            "SReclaimable:     114512 kB\n",
            "SUnreclaim:        45572 kB\n",
            "KernelStack:        5184 kB\n",
            "PageTables:        16348 kB\n",
            "NFS_Unstable:          0 kB\n",
            "Bounce:                0 kB\n",
            "WritebackTmp:          0 kB\n",
            "CommitLimit:     6649284 kB\n",
            "Committed_AS:    3417400 kB\n",
            "VmallocTotal:   34359738367 kB\n",
            "VmallocUsed:        7556 kB\n",
            "VmallocChunk:          0 kB\n",
            "Percpu:             1504 kB\n",
            "AnonHugePages:         0 kB\n",
            "ShmemHugePages:        0 kB\n",
            "ShmemPmdMapped:        0 kB\n",
            "FileHugePages:         0 kB\n",
            "FilePmdMapped:         0 kB\n",
            "CmaTotal:              0 kB\n",
            "CmaFree:               0 kB\n",
            "HugePages_Total:       0\n",
            "HugePages_Free:        0\n",
            "HugePages_Rsvd:        0\n",
            "HugePages_Surp:        0\n",
            "Hugepagesize:       2048 kB\n",
            "Hugetlb:               0 kB\n",
            "DirectMap4k:       95040 kB\n",
            "DirectMap2M:     5144576 kB\n",
            "DirectMap1G:    10485760 kB\n"
          ]
        }
      ]
    },
    {
      "cell_type": "code",
      "execution_count": 13,
      "metadata": {
        "colab": {
          "base_uri": "https://localhost:8080/",
          "height": 304
        },
        "id": "NbFurTtODqu8",
        "outputId": "0c530f21-b2b5-4cd8-89f2-113773f3481b"
      },
      "outputs": [
        {
          "output_type": "stream",
          "name": "stdout",
          "text": [
            "state vector dim = 4\n",
            "n_actions = 2\n"
          ]
        },
        {
          "output_type": "display_data",
          "data": {
            "text/plain": [
              "<Figure size 432x288 with 1 Axes>"
            ],
            "image/png": "[encoded data removed]"
          },
          "metadata": {
            "needs_background": "light"
          }
        }
      ],
      "source": [
        "import time\n",
        "import gym\n",
        "import numpy as np\n",
        "import matplotlib.pyplot as plt\n",
        "from joblib import Parallel, delayed\n",
        "%matplotlib inline\n",
        "\n",
        "# if you see \"<classname> has no attribute .env\", remove .env or update gym\n",
        "env = gym.make(\"CartPole-v1\", new_step_api=True, render_mode='rgb_array')\n",
        "\n",
        "env.reset()\n",
        "n_actions = env.action_space.n\n",
        "state_dim = env.observation_space.shape[0]\n",
        "\n",
        "plt.imshow(env.render()[0])\n",
        "print(\"state vector dim =\", state_dim)\n",
        "print(\"n_actions =\", n_actions)\n",
        "\n",
        "env.close()"
      ]
    },
    {
      "cell_type": "code",
      "execution_count": 14,
      "metadata": {
        "colab": {
          "base_uri": "https://localhost:8080/"
        },
        "id": "6C47ciwJDqu9",
        "outputId": "1d7c86a3-36c6-4ed9-b0d4-39b188b86a79"
      },
      "outputs": [
        {
          "output_type": "execute_result",
          "data": {
            "text/plain": [
              "(Box([-4.8000002e+00 -3.4028235e+38 -4.1887903e-01 -3.4028235e+38], [4.8000002e+00 3.4028235e+38 4.1887903e-01 3.4028235e+38], (4,), float32),\n",
              " Discrete(2))"
            ]
          },
          "metadata": {},
          "execution_count": 14
        }
      ],
      "source": [
        "env.observation_space, env.action_space"
      ]
    },
    {
      "cell_type": "code",
      "source": [
        "[env.reset()] * n_actions, range(n_actions), range(n_actions)"
      ],
      "metadata": {
        "id": "MbrBqx_gMxVX",
        "outputId": "5bf58c0f-32eb-40df-9054-16258a534c9f",
        "colab": {
          "base_uri": "https://localhost:8080/"
        }
      },
      "execution_count": 15,
      "outputs": [
        {
          "output_type": "execute_result",
          "data": {
            "text/plain": [
              "([array([ 0.04522778, -0.04865159, -0.02767718,  0.04581095], dtype=float32),\n",
              "  array([ 0.04522778, -0.04865159, -0.02767718,  0.04581095], dtype=float32)],\n",
              " range(0, 2),\n",
              " range(0, 2))"
            ]
          },
          "metadata": {},
          "execution_count": 15
        }
      ]
    },
    {
      "cell_type": "code",
      "source": [
        "env.reset()"
      ],
      "metadata": {
        "id": "WOWeBPebOT3M",
        "outputId": "90ec2370-0a38-4bec-d5d3-180d8c5290ce",
        "colab": {
          "base_uri": "https://localhost:8080/"
        }
      },
      "execution_count": 16,
      "outputs": [
        {
          "output_type": "execute_result",
          "data": {
            "text/plain": [
              "array([-0.02449074,  0.00682135, -0.00021241,  0.03972756], dtype=float32)"
            ]
          },
          "metadata": {},
          "execution_count": 16
        }
      ]
    },
    {
      "cell_type": "markdown",
      "metadata": {
        "id": "Bu6lwtL-Dqu-"
      },
      "source": [
        "# Neural Network Policy\n",
        "\n",
        "For this assignment we'll utilize the simplified neural network implementation from __[Scikit-learn](https://scikit-learn.org/stable/modules/generated/sklearn.neural_network.MLPClassifier.html)__. Here's what you'll need:\n",
        "\n",
        "* `agent.partial_fit(states, actions)` - make a single training pass over the data. Maximize the probabilitity of :actions: from :states:\n",
        "* `agent.predict_proba(states)` - predict probabilities of all actions, a matrix of shape __[len(states), n_actions]__\n",
        "\n",
        "You may also use your favorite neural framework, if it doesn't make it too difficult. The idea is the main thing."
      ]
    },
    {
      "cell_type": "code",
      "execution_count": 17,
      "metadata": {
        "colab": {
          "base_uri": "https://localhost:8080/"
        },
        "id": "sxe7mgAqDqu-",
        "outputId": "8ef92bda-dece-4692-cc8c-0ca9321405c7"
      },
      "outputs": [
        {
          "output_type": "execute_result",
          "data": {
            "text/plain": [
              "MLPClassifier(activation='tanh', hidden_layer_sizes=(20, 20))"
            ]
          },
          "metadata": {},
          "execution_count": 17
        }
      ],
      "source": [
        "from sklearn.neural_network import MLPClassifier\n",
        "\n",
        "agent = MLPClassifier(\n",
        "    hidden_layer_sizes=(20, 20),\n",
        "    activation='tanh',\n",
        ")\n",
        "\n",
        "# initialize agent to the dimension of state space and number of actions\n",
        "agent.partial_fit([env.reset()] * n_actions, range(n_actions), range(n_actions))"
      ]
    },
    {
      "cell_type": "code",
      "source": [
        "env.reset().reshape(1, -1)"
      ],
      "metadata": {
        "id": "LDyI5BX2O--X",
        "outputId": "d4cbc34b-3f60-480f-d649-8f8ccecbc6fb",
        "colab": {
          "base_uri": "https://localhost:8080/"
        }
      },
      "execution_count": 18,
      "outputs": [
        {
          "output_type": "execute_result",
          "data": {
            "text/plain": [
              "array([[0.02130516, 0.01770688, 0.04015532, 0.0002256 ]], dtype=float32)"
            ]
          },
          "metadata": {},
          "execution_count": 18
        }
      ]
    },
    {
      "cell_type": "code",
      "source": [
        "agent.predict_proba(env.reset().reshape(1, -1)).squeeze()"
      ],
      "metadata": {
        "id": "GduV-qF1MwK1",
        "outputId": "85f394c8-df03-4f15-886a-cb66f8c331de",
        "colab": {
          "base_uri": "https://localhost:8080/"
        }
      },
      "execution_count": 19,
      "outputs": [
        {
          "output_type": "execute_result",
          "data": {
            "text/plain": [
              "array([0.58403045, 0.41596955])"
            ]
          },
          "metadata": {},
          "execution_count": 19
        }
      ]
    },
    {
      "cell_type": "code",
      "source": [
        "ll = env.step(1)\n",
        "len(ll)"
      ],
      "metadata": {
        "id": "QsnkgF8u7Yka",
        "outputId": "6e04c12d-b3fe-4e82-ecd7-bb4cb51b6f4b",
        "colab": {
          "base_uri": "https://localhost:8080/"
        }
      },
      "execution_count": 20,
      "outputs": [
        {
          "output_type": "execute_result",
          "data": {
            "text/plain": [
              "5"
            ]
          },
          "metadata": {},
          "execution_count": 20
        }
      ]
    },
    {
      "cell_type": "code",
      "source": [
        "ll[4]"
      ],
      "metadata": {
        "id": "Q78ZbnHF8JGH",
        "outputId": "004bf07b-3e99-49a1-a9b2-dd2010365ceb",
        "colab": {
          "base_uri": "https://localhost:8080/"
        }
      },
      "execution_count": 21,
      "outputs": [
        {
          "output_type": "execute_result",
          "data": {
            "text/plain": [
              "{}"
            ]
          },
          "metadata": {},
          "execution_count": 21
        }
      ]
    },
    {
      "cell_type": "code",
      "execution_count": 22,
      "metadata": {
        "id": "dEtSumOaDqu_"
      },
      "outputs": [],
      "source": [
        "def generate_session(agent, t_max=1000, renderer=False, test=False, new_environment=False, env=None):\n",
        "    \"\"\"\n",
        "    Play a single game using agent neural network.\n",
        "    Terminate when game finishes or after :t_max: steps\n",
        "    renderer (bool or video recorder): if not bool then call capture_frame.\n",
        "    new_environment (bool): If we use joblib, we need this in order to parallel execution\n",
        "    env (env): existing environment\n",
        "    \"\"\"\n",
        "    states, actions = [], []\n",
        "    total_reward = 0\n",
        "    episode_len = -1\n",
        "\n",
        "    if new_environment:\n",
        "      env = gym.make(\"CartPole-v1\", new_step_api=True, render_mode='rgb_array') # make new environment here to use parallel execution.\n",
        "    else:\n",
        "      env=env\n",
        "\n",
        "    s = env.reset()\n",
        "\n",
        "    for t in range(t_max):\n",
        "        \n",
        "        # use agent to predict a vector of action probabilities for state :s:\n",
        "        probs = agent.predict_proba(s.reshape(1, -1)).squeeze()  #<YOUR CODE>\n",
        "\n",
        "        assert probs.shape == (n_actions,), \"make sure probabilities are a vector (hint: np.reshape)\"\n",
        "        \n",
        "        # use the probabilities you predicted to pick an action\n",
        "        if test:\n",
        "            # on the test use the best (the most likely) actions at test\n",
        "            # experiment, will it work on the train and vice versa?\n",
        "            a = np.argmax( probs ) #<YOUR CODE>\n",
        "            # ^-- hint: try np.argmax\n",
        "        else:\n",
        "            # sample proportionally to the probabilities,\n",
        "            # don't just take the most likely action at train\n",
        "            a = np.random.choice(np.arange(0, n_actions), p=probs )\n",
        "            # ^-- hint: try np.random.choice\n",
        "\n",
        "        \n",
        "        new_s, r, done, truenc, info = env.step(a)\n",
        "\n",
        "        if isinstance(renderer, bool):\n",
        "          if renderer:\n",
        "            plt.imshow(env.render())\n",
        "        else:\n",
        "          renderer.capture_frame()\n",
        "          \n",
        "        # record sessions like you did before\n",
        "        states.append(s)\n",
        "        actions.append(a)\n",
        "        total_reward += r\n",
        "\n",
        "        s = new_s\n",
        "\n",
        "        if done: # we can compute session's statistics\n",
        "            episode_len = t\n",
        "            break\n",
        "    if episode_len == -1:\n",
        "      episode_len = t_max\n",
        "    if renderer:\n",
        "        env.close()\n",
        "\n",
        "    return states, actions, total_reward, episode_len"
      ]
    },
    {
      "cell_type": "code",
      "execution_count": 23,
      "metadata": {
        "colab": {
          "base_uri": "https://localhost:8080/"
        },
        "id": "mHqpbTBLDqu_",
        "outputId": "2e8b6c6a-81ac-4812-d8f1-501f6b318a37"
      },
      "outputs": [
        {
          "output_type": "stream",
          "name": "stdout",
          "text": [
            "states: [[ 3.7376337e-02  1.3939688e-03  7.8506116e-03  4.7688741e-02]\n",
            " [ 3.7404217e-02  1.9640248e-01  8.8043856e-03 -2.4250695e-01]\n",
            " [ 4.1332263e-02  1.1558735e-03  3.9542471e-03  5.2940059e-02]\n",
            " [ 4.1355383e-02  1.9622090e-01  5.0130482e-03 -2.3849265e-01]\n",
            " [ 4.5279801e-02  3.9127088e-01  2.4319514e-04 -5.2959013e-01]]\n",
            "actions: [1, 0, 1, 1, 0]\n",
            "reward: 5.0\n",
            "episode len: 5\n"
          ]
        }
      ],
      "source": [
        "dummy_states, dummy_actions, dummy_reward, episode_len = generate_session(agent, t_max=5, env=env)\n",
        "print(\"states:\", np.stack(dummy_states))\n",
        "print(\"actions:\", dummy_actions)\n",
        "print(\"reward:\", dummy_reward)\n",
        "print(\"episode len:\", episode_len)"
      ]
    },
    {
      "cell_type": "markdown",
      "metadata": {
        "id": "YWTcWoaQDqvA"
      },
      "source": [
        "### CEM steps\n",
        "Deep CEM uses exactly the same strategy as the regular CEM, so you can copy your function code from previous notebook.\n",
        "\n",
        "The only difference is that now each observation is not a number but a `float32` vector.\n",
        "\n",
        "Let's see that it differs from tabular `select_elites`. Our neural network now is trained with one object and it takes an input of `(1, n_states)`. So, we should use `np.squeeze` to remove leading dimension in the deep `select_elites`."
      ]
    },
    {
      "cell_type": "code",
      "execution_count": 24,
      "metadata": {
        "id": "d4iwNN61DqvA"
      },
      "outputs": [],
      "source": [
        "def select_elites(states_batch, actions_batch, rewards_batch, percentile=50):\n",
        "    \"\"\"\n",
        "    Select states and actions from games that have rewards >= percentile\n",
        "    :param states_batch: list of lists of states, states_batch[session_i][t]\n",
        "    :param actions_batch: list of lists of actions, actions_batch[session_i][t]\n",
        "    :param rewards_batch: list of rewards, rewards_batch[session_i]\n",
        "\n",
        "    :returns: elite_states,elite_actions, both 1D lists of states and respective actions from elite sessions\n",
        "\n",
        "    Please return elite states and actions in their original order \n",
        "    [i.e. sorted by session number and timestep within session]\n",
        "\n",
        "    If you are confused, see examples below. Please don't assume that states are integers\n",
        "    (they will become different later).\n",
        "    \"\"\"\n",
        "\n",
        "    #<YOUR CODE>\n",
        "    threshold = np.percentile(rewards_batch, percentile)\n",
        "    \n",
        "    #states_batch = np.array(states_batch)\n",
        "    #actions_batch = np.array(actions_batch)\n",
        "    rewards_batch = np.array(rewards_batch)\n",
        "    mask = rewards_batch >= threshold # we might need to further improve mask to include less samples if they are all equal\n",
        "\n",
        "    elite_states = [np.array(states_batch[ii]) for ii in range(len(states_batch)) if mask[ii]>0 ]\n",
        "    #elite_states = states_batch[mask]\n",
        "    elite_states = np.vstack(elite_states)\n",
        "    elite_actions = [np.array(actions_batch[ii]) for ii in range(len(actions_batch)) if mask[ii]>0 ]\n",
        "    elite_actions = np.hstack(elite_actions) #np.array(sum(elite_actions, [])).reshape(-1,1) # need 1 dim Y's for NN.\n",
        "\n",
        "    # Let's see that it differs from tabular `select_elites`.\n",
        "    # Our neural network now is trained with one object and it takes an input of `(1, n_states)`.\n",
        "    # So, we should use `np.squeeze` to remove leading dimension in the deep `select_elites`.\n",
        "    \n",
        "    return elite_states, elite_actions"
      ]
    },
    {
      "cell_type": "code",
      "source": [
        "sessions = [generate_session(agent, t_max=5, renderer=False, test=False, env=env) for _ in range(0, 3)]\n",
        "states_batch, actions_batch, rewards_batch, episode_len_batch = zip(*sessions)\n",
        "ss, aa = select_elites(states_batch, actions_batch, rewards_batch, percentile=50)\n"
      ],
      "metadata": {
        "id": "BSiQiZBaRG2u"
      },
      "execution_count": 25,
      "outputs": []
    },
    {
      "cell_type": "code",
      "source": [
        "states_batch, actions_batch, rewards_batch"
      ],
      "metadata": {
        "id": "66UwNafaQ89L",
        "outputId": "8031e5f5-0942-45a5-fdb4-cfbd0749768b",
        "colab": {
          "base_uri": "https://localhost:8080/"
        }
      },
      "execution_count": 26,
      "outputs": [
        {
          "output_type": "execute_result",
          "data": {
            "text/plain": [
              "(([array([0.02633019, 0.02359702, 0.0226472 , 0.00290794], dtype=float32),\n",
              "   array([ 0.02680213, -0.17184228,  0.02270536,  0.3026494 ], dtype=float32),\n",
              "   array([0.02336528, 0.02294884, 0.02875835, 0.01721286], dtype=float32),\n",
              "   array([ 0.02382426, -0.17257348,  0.02910261,  0.31882888], dtype=float32),\n",
              "   array([0.02037279, 0.02212215, 0.03547918, 0.03546404], dtype=float32)],\n",
              "  [array([ 0.00184737, -0.04686454, -0.0263577 , -0.00047033], dtype=float32),\n",
              "   array([ 0.00091008,  0.14862531, -0.02636711, -0.30135152], dtype=float32),\n",
              "   array([ 0.00388259,  0.34411296, -0.03239414, -0.6022321 ], dtype=float32),\n",
              "   array([ 0.01076484,  0.14945874, -0.04443878, -0.31992617], dtype=float32),\n",
              "   array([ 0.01375402,  0.34518448, -0.05083731, -0.6262856 ], dtype=float32)],\n",
              "  [array([-0.00392907, -0.02774674,  0.01338134,  0.04729832], dtype=float32),\n",
              "   array([-0.00448401, -0.22305799,  0.0143273 ,  0.34417295], dtype=float32),\n",
              "   array([-0.00894517, -0.02814275,  0.02121076,  0.05604221], dtype=float32),\n",
              "   array([-0.00950802, -0.22356232,  0.02233161,  0.3553411 ], dtype=float32),\n",
              "   array([-0.01397927, -0.02876488,  0.02943843,  0.06978275], dtype=float32)]),\n",
              " ([0, 1, 0, 1, 1], [1, 1, 0, 1, 1], [0, 1, 0, 1, 0]),\n",
              " (5.0, 5.0, 5.0))"
            ]
          },
          "metadata": {},
          "execution_count": 26
        }
      ]
    },
    {
      "cell_type": "code",
      "source": [
        "aa"
      ],
      "metadata": {
        "id": "4OUtGB_QSUNB",
        "outputId": "f1e68e85-1675-4802-c805-9f5d4a3b196b",
        "colab": {
          "base_uri": "https://localhost:8080/"
        }
      },
      "execution_count": 27,
      "outputs": [
        {
          "output_type": "execute_result",
          "data": {
            "text/plain": [
              "array([0, 1, 0, 1, 1, 1, 1, 0, 1, 1, 0, 1, 0, 1, 0])"
            ]
          },
          "metadata": {},
          "execution_count": 27
        }
      ]
    },
    {
      "cell_type": "code",
      "source": [
        "sessions = Parallel(n_jobs=2)( delayed(generate_session)(agent, t_max=5, renderer=False, test=False, new_environment=True) for _ in range(0, 3))"
      ],
      "metadata": {
        "id": "Y8Onlr3sR_N6"
      },
      "execution_count": 28,
      "outputs": []
    },
    {
      "cell_type": "code",
      "source": [
        "sessions"
      ],
      "metadata": {
        "id": "25l7xvIpSHhq",
        "outputId": "e99f8cb2-1c7a-4a67-d25f-fcf693632018",
        "colab": {
          "base_uri": "https://localhost:8080/"
        }
      },
      "execution_count": 29,
      "outputs": [
        {
          "output_type": "execute_result",
          "data": {
            "text/plain": [
              "[([array([ 0.03801747, -0.00134676, -0.04104434, -0.045345  ], dtype=float32),\n",
              "   array([ 0.03799054, -0.19585685, -0.04195124,  0.23411076], dtype=float32),\n",
              "   array([ 0.0340734 , -0.0001614 , -0.03726903, -0.07150421], dtype=float32),\n",
              "   array([ 0.03407018, -0.19472978, -0.03869911,  0.20919113], dtype=float32),\n",
              "   array([ 0.03017558,  0.00092355, -0.03451529, -0.09544381], dtype=float32)],\n",
              "  [0, 1, 0, 1, 0],\n",
              "  5.0,\n",
              "  5),\n",
              " ([array([-0.04267943, -0.00296733, -0.03811541,  0.00347915], dtype=float32),\n",
              "   array([-0.04273878,  0.19267994, -0.03804583, -0.30098182], dtype=float32),\n",
              "   array([-0.03888518, -0.00187967, -0.04406547, -0.02053637], dtype=float32),\n",
              "   array([-0.03892278, -0.19634289, -0.04447619,  0.25792423], dtype=float32),\n",
              "   array([-0.04284963, -0.00061512, -0.03931771, -0.04844877], dtype=float32)],\n",
              "  [1, 0, 0, 1, 0],\n",
              "  5.0,\n",
              "  5),\n",
              " ([array([ 0.01169925, -0.03541952, -0.02043095, -0.01748629], dtype=float32),\n",
              "   array([ 0.01099086,  0.15998939, -0.02078068, -0.31654477], dtype=float32),\n",
              "   array([ 0.01419065, -0.0348305 , -0.02711157, -0.0304871 ], dtype=float32),\n",
              "   array([ 0.01349404, -0.22955337, -0.02772132,  0.25352004], dtype=float32),\n",
              "   array([ 0.00890297, -0.03404679, -0.02265091, -0.04777618], dtype=float32)],\n",
              "  [1, 0, 0, 1, 0],\n",
              "  5.0,\n",
              "  5)]"
            ]
          },
          "metadata": {},
          "execution_count": 29
        }
      ]
    },
    {
      "cell_type": "markdown",
      "metadata": {
        "id": "mijAvBy1DqvA"
      },
      "source": [
        "# Training loop\n",
        "Generate sessions, select N best and fit to those."
      ]
    },
    {
      "cell_type": "code",
      "execution_count": 30,
      "metadata": {
        "id": "q-cPQNyrDqvB"
      },
      "outputs": [],
      "source": [
        "from IPython.display import clear_output\n",
        "\n",
        "def show_progress(rewards_batch, log, percentile, epoch_time, reward_range=[-990, +10]):\n",
        "    \"\"\"\n",
        "    A convenience function that displays training progress. \n",
        "    No cool math here, just charts.\n",
        "    \"\"\"\n",
        "\n",
        "    mean_reward = np.mean(rewards_batch)\n",
        "    threshold = np.percentile(rewards_batch, percentile)\n",
        "    log.append([mean_reward, threshold, epoch_time])\n",
        "\n",
        "    print(\"mean reward = %.3f, threshold=%.3f\" % (mean_reward, threshold))\n",
        "    plt.figure(figsize=[12, 4])\n",
        "    plt.subplot(1, 3, 1)\n",
        "    plt.plot(list(zip(*log))[0], label='Mean rewards')\n",
        "    plt.plot(list(zip(*log))[1], label='Reward thresholds')\n",
        "    plt.legend()\n",
        "    plt.grid()\n",
        "\n",
        "    plt.subplot(1, 3, 2)\n",
        "    plt.hist(rewards_batch, range=reward_range)\n",
        "    plt.vlines([np.percentile(rewards_batch, percentile)],\n",
        "               [0], [100], label=f\"percentile {percentile}%\", color='red')\n",
        "    \n",
        "    plt.subplot(1, 3, 3)\n",
        "    epoch_times = list(zip(*log))[2]\n",
        "    plt.plot(epoch_times, label=f'Epoch time (Sec.), total time: {np.sum(epoch_times)}')\n",
        "\n",
        "    plt.legend()\n",
        "    plt.grid()\n",
        "\n",
        "    clear_output(True)\n",
        "    plt.show()"
      ]
    },
    {
      "cell_type": "code",
      "source": [
        "# Reinitialize the Agent\n",
        "agent = MLPClassifier(\n",
        "    hidden_layer_sizes=(20, 20),\n",
        "    activation='tanh',\n",
        ")\n",
        "\n",
        "# initialize agent to the dimension of state space and number of actions\n",
        "agent.partial_fit([env.reset()] * n_actions, range(n_actions), range(n_actions))"
      ],
      "metadata": {
        "id": "cLJ2FjI8ZnAf",
        "outputId": "1a0e3267-d7b6-4e1a-eabf-da87f76dcad0",
        "colab": {
          "base_uri": "https://localhost:8080/"
        }
      },
      "execution_count": 31,
      "outputs": [
        {
          "output_type": "execute_result",
          "data": {
            "text/plain": [
              "MLPClassifier(activation='tanh', hidden_layer_sizes=(20, 20))"
            ]
          },
          "metadata": {},
          "execution_count": 31
        }
      ]
    },
    {
      "cell_type": "code",
      "execution_count": null,
      "metadata": {
        "colab": {
          "base_uri": "https://localhost:8080/",
          "height": 334
        },
        "id": "YNMI4IA6DqvB",
        "outputId": "8845595e-5912-4293-b883-7e5b6a0c97cd"
      },
      "outputs": [
        {
          "output_type": "display_data",
          "data": {
            "text/plain": [
              "<Figure size 864x288 with 3 Axes>"
            ],
            "image/png": "[encoded data removed]"
          },
          "metadata": {
            "needs_background": "light"
          }
        },
        {
          "output_type": "stream",
          "name": "stdout",
          "text": [
            "Epoch: 33, mean episode len: 271.64, epoch_time: 143.95598125457764\n",
            "You Win! You may stop training now via KeyboardInterrupt.\n"
          ]
        },
        {
          "output_type": "stream",
          "name": "stderr",
          "text": [
            "/usr/local/lib/python3.7/dist-packages/joblib/externals/loky/process_executor.py:705: UserWarning: A worker stopped while some jobs were given to the executor. This can be caused by a too short worker timeout or by a memory leak.\n",
            "  \"timeout or by a memory leak.\", UserWarning\n"
          ]
        }
      ],
      "source": [
        "#%%timeit\n",
        "n_epochs = 50\n",
        "n_sessions = 100\n",
        "percentile = 70\n",
        "\n",
        "cumulative_data = []\n",
        "cumulative_len = 1\n",
        "\n",
        "log = []\n",
        "\n",
        "#with Parallel(n_jobs=2) as parallel:\n",
        "for i in range(n_epochs):\n",
        "    epoch_start_time = time.time()\n",
        "    # generate new sessions\n",
        "    #sessions = [generate_session(agent, t_max=500, renderer=False, test=False) for _ in range(0, n_sessions)]\n",
        "    sessions = Parallel(n_jobs=2, timeout=99999)( delayed(generate_session)(agent, t_max=500, \n",
        "        renderer=False, test=False, new_environment=True) for _ in range(0, n_sessions))\n",
        "    states_batch, actions_batch, rewards_batch, episode_len_batch = map(np.array, zip(*sessions))\n",
        "\n",
        "    if cumulative_len > 1:\n",
        "      if len(cumulative_data) > cumulative_len: \n",
        "        cumulative_data = cumulative_data[1:]\n",
        "      cumulative_data.append( (states_batch, actions_batch, rewards_batch) ) \n",
        "      states_batch, actions_batch, rewards_batch = map(np.array, zip(*cumulative_data))\n",
        "\n",
        "    elite_states, elite_actions = select_elites(states_batch,\n",
        "              actions_batch, rewards_batch, percentile) #<select elite actions just like before>\n",
        "    agent.partial_fit(elite_states, elite_actions)\n",
        "\n",
        "    epoch_time = time.time() - epoch_start_time\n",
        "    show_progress(rewards_batch, log, percentile, epoch_time, reward_range=[0, np.max(rewards_batch)])\n",
        "\n",
        "    print(f'Epoch: {i}, mean episode len: {np.mean(episode_len_batch)}, epoch_time: {epoch_time}')\n",
        "    if np.mean(rewards_batch) > 190:\n",
        "        print(\"You Win! You may stop training now via KeyboardInterrupt.\")"
      ]
    },
    {
      "cell_type": "markdown",
      "metadata": {
        "id": "AdStK9NQDqvC"
      },
      "source": [
        "# Results"
      ]
    },
    {
      "cell_type": "code",
      "execution_count": null,
      "metadata": {
        "colab": {
          "base_uri": "https://localhost:8080/"
        },
        "id": "eS8D7aObDqvC",
        "outputId": "5b7a02f0-9053-4e4b-eb28-ace58a7b7841"
      },
      "outputs": [
        {
          "output_type": "stream",
          "name": "stderr",
          "text": [
            "/usr/local/lib/python3.7/dist-packages/gym/wrappers/record_video.py:79: UserWarning: \u001b[33mWARN: Overwriting existing videos at /content/videos folder (try specifying a different `video_folder` for the `RecordVideo` wrapper if this is not desired)\u001b[0m\n",
            "  f\"Overwriting existing videos at {self.video_folder} folder \"\n"
          ]
        }
      ],
      "source": [
        "# record sessions\n",
        "#import env\n",
        "#env = gym.wrappers.Monitor(gym.make(\"CartPole-v1\"),\n",
        "#                           directory=\"videos\", force=True)\n",
        "#sessions = [generate_session(agent, t_max=500, render=False, test=False) for _ in range(100)] #<TRY ARGUMENTS test=True, test=False>\n",
        "#env.close()\n",
        "from gym.wrappers import RecordVideo\n",
        "env.reset()\n",
        "\n",
        "#from gym.wrappers.monitoring import video_recorder\n",
        "#vid = video_recorder.VideoRecorder(env=env, base_path=\"./videos/vid1\")\n",
        "\n",
        "vid = RecordVideo(env=env,video_folder=\"videos\", video_length=1000, new_step_api=True)\n",
        "\n",
        "\n",
        "gg = generate_session(agent, t_max=1000, renderer=False, test=False, new_environment=False, env=vid)"
      ]
    },
    {
      "cell_type": "code",
      "source": [
        "!ls ./videos -al"
      ],
      "metadata": {
        "id": "f03zm2BxFOs-",
        "outputId": "746a854b-d7b6-460d-b205-e6fc10a6e0f3",
        "colab": {
          "base_uri": "https://localhost:8080/"
        }
      },
      "execution_count": null,
      "outputs": [
        {
          "output_type": "stream",
          "name": "stdout",
          "text": [
            "total 20\n",
            "drwxr-xr-x 2 root root 4096 Aug 30 22:09 .\n",
            "drwxr-xr-x 1 root root 4096 Aug 30 20:45 ..\n",
            "-rw-r--r-- 1 root root   60 Aug 30 22:49 rl-video-episode-0.meta.json\n",
            "-rw-r--r-- 1 root root   48 Aug 30 22:49 rl-video-episode-0.mp4\n",
            "-rw-r--r-- 1 root root 1960 Aug 30 22:09 vid1.meta.json\n"
          ]
        }
      ]
    },
    {
      "cell_type": "code",
      "source": [
        "len(gg[0]), vid.step_id, "
      ],
      "metadata": {
        "id": "xgBhdOsCsikF",
        "outputId": "0a22915d-c525-46a0-b6a8-2ea517f6b4d2",
        "colab": {
          "base_uri": "https://localhost:8080/"
        }
      },
      "execution_count": null,
      "outputs": [
        {
          "output_type": "execute_result",
          "data": {
            "text/plain": [
              "(879, 500)"
            ]
          },
          "metadata": {},
          "execution_count": 29
        }
      ]
    },
    {
      "cell_type": "code",
      "source": [
        "from pathlib import Path\n",
        "from base64 import b64encode\n",
        "#from IPython.display import HTML\n",
        "\n",
        "video_paths = sorted([s for s in Path('videos').iterdir() if s.suffix == '.mp4'])\n",
        "video_path = video_paths[0]  # You can also try other indices\n",
        "\n",
        "if 'google.colab' in sys.modules:\n",
        "    # https://stackoverflow.com/a/57378660/1214547\n",
        "    with video_path.open('rb') as fp:\n",
        "        mp4 = fp.read()\n",
        "    data_url = 'data:video/mp4;base64,' + b64encode(mp4).decode()\n",
        "else:\n",
        "  data_url = str(video_path)\n",
        "\n",
        "HTML(\"\"\"\n",
        "<video width=\"640\" height=\"480\" controls>\n",
        "  <source src=\"{}\" type=\"video/mp4\">\n",
        "</video>\n",
        "\"\"\".format(data_url))"
      ],
      "metadata": {
        "id": "_SM6w1akkhg-",
        "outputId": "5c89b13e-6de9-4f48-c775-ff2a80a85427",
        "colab": {
          "base_uri": "https://localhost:8080/",
          "height": 501
        }
      },
      "execution_count": null,
      "outputs": [
        {
          "output_type": "execute_result",
          "data": {
            "text/plain": [
              "<IPython.core.display.HTML object>"
            ],
            "text/html": [
              "\n",
              "<video width=\"640\" height=\"480\" controls>\n",
              "  <source src=\"data:video/mp4;base64,AAAAIGZ0eXBpc29tAAACAGlzb21pc28yYXZjMW1wNDEAAAAIZnJlZQAAAABtZGF0\" type=\"video/mp4\">\n",
              "</video>\n"
            ]
          },
          "metadata": {},
          "execution_count": 37
        }
      ]
    },
    {
      "cell_type": "code",
      "source": [
        "video_paths"
      ],
      "metadata": {
        "id": "nBTrYux3lMEd",
        "outputId": "59936e43-cfab-4f18-bd2b-f632692913b7",
        "colab": {
          "base_uri": "https://localhost:8080/"
        }
      },
      "execution_count": null,
      "outputs": [
        {
          "output_type": "execute_result",
          "data": {
            "text/plain": [
              "[PosixPath('videos/rl-video-episode-0.mp4')]"
            ]
          },
          "metadata": {},
          "execution_count": 36
        }
      ]
    },
    {
      "cell_type": "code",
      "source": [
        "%rm ./videos/vid1.meta.json"
      ],
      "metadata": {
        "id": "M34vGHoanHHM"
      },
      "execution_count": null,
      "outputs": []
    },
    {
      "cell_type": "markdown",
      "metadata": {
        "id": "Mlas1g0qDqvC"
      },
      "source": [
        "# Homework\n",
        "\n",
        "### Deep crossentropy method\n",
        "\n",
        "By this moment you should have got enough score on [CartPole-v0](https://gym.openai.com/envs/CartPole-v0) to consider it solved (see the link). It's time to try something harder.\n",
        "\n",
        "* if you have any trouble with CartPole-v0 and feel stuck, feel free to ask us or your peers for help.\n",
        "\n",
        "### Tasks (up to 10 points)\n",
        "\n",
        "* __2.1__ Pick one of environments: MountainCar-v0 or LunarLander-v2.\n",
        "  * For MountainCar, get average reward of __at least -150__\n",
        "  * For LunarLander, get average reward of __at least +50__\n",
        "\n",
        "See the tips section below, it's kinda important.\n",
        "__Note:__ If your agent is below the target score, you'll still get most of the points depending on the result, so don't be afraid to submit it.\n",
        "  \n",
        "  \n",
        "* __2.2__ Devise a way to speed up training at least 2x against the default version\n",
        "  * Obvious improvement: use [joblib](https://www.google.com/search?client=ubuntu&channel=fs&q=joblib&ie=utf-8&oe=utf-8) or multiprocessing\n",
        "  * Try re-using samples from 3-5 last iterations when computing threshold and training\n",
        "  * Experiment with amount of training iterations and learning rate of the neural network (see params)\n",
        "  \n",
        "  \n",
        "### Tips\n",
        "* Gym page: [MountainCar](https://gym.openai.com/envs/MountainCar-v0), [LunarLander](https://gym.openai.com/envs/LunarLander-v2)\n",
        "* Sessions for MountainCar may last for 10k+ ticks. Make sure ```t_max``` param is at least 10k.\n",
        " * Also it may be a good idea to cut rewards via \">\" and not \">=\". If 90% of your sessions get reward of -10k and 20% are better, than if you use percentile 20% as threshold, R >= threshold __fails cut off bad sessions__ whule R > threshold works alright.\n",
        "* _issue with gym_: Some versions of gym limit game time by 200 ticks. This will prevent cem training in most cases. Make sure your agent is able to play for the specified __t_max__, and if it isn't, try `env = gym.make(\"MountainCar-v0\").env` or otherwise get rid of TimeLimit wrapper.\n",
        "* If you use old _swig_ lib for LunarLander-v2, you may get an error. See this [issue](https://github.com/openai/gym/issues/100) for solution.\n",
        "* If it won't train it's a good idea to plot reward distribution and record sessions: they may give you some clue. If they don't, call course staff :)\n",
        "* 20-neuron network is probably not enough, feel free to experiment.\n",
        "\n",
        "You may find the following snippet useful:"
      ]
    },
    {
      "cell_type": "code",
      "execution_count": null,
      "metadata": {
        "id": "MXpLH7xyDqvD"
      },
      "outputs": [],
      "source": [
        "def visualize_mountain_car(env, agent):\n",
        "    xs = np.linspace(env.min_position, env.max_position, 100)\n",
        "    vs = np.linspace(-env.max_speed, env.max_speed, 100)\n",
        "    grid = np.dstack(np.meshgrid(xs, vs)).transpose(1, 0, 2)\n",
        "    grid_flat = grid.reshape(len(xs) * len(vs), 2)\n",
        "    probs = agent.predict_proba(grid_flat).reshape(len(xs), len(vs), 3)\n",
        "    return probs\n",
        "\n",
        "plt.imshow(visualize_mountain_car(env, agent))"
      ]
    },
    {
      "cell_type": "markdown",
      "metadata": {
        "id": "jzGiJiM2DqvD"
      },
      "source": [
        "### Bonus tasks (up to 5 points)\n",
        "\n",
        "* __2.3 bonus__ Solve continuous action space task with `MLPRegressor` or similar.\n",
        "  * Start with [\"Pendulum-v0\"](https://github.com/openai/gym/wiki/Pendulum-v0).\n",
        "  * Since your agent only predicts the \"expected\" action, you will have to add noise to ensure exploration.\n",
        "  * Solve [MountainCarContinuous-v0](https://gym.openai.com/envs/MountainCarContinuous-v0), [LunarLanderContinuous-v2](https://gym.openai.com/envs/LunarLanderContinuous-v2). Slightly less points for getting some results below solution threshold. Note that discrete and continuous environments may have slightly different rules aside from action spaces.\n",
        "  * __Please list what you did in anytask submission form__"
      ]
    }
  ],
  "metadata": {
    "kernelspec": {
      "display_name": "Python 3",
      "language": "python",
      "name": "python3"
    },
    "language_info": {
      "codemirror_mode": {
        "name": "ipython",
        "version": 3
      },
      "file_extension": ".py",
      "mimetype": "text/x-python",
      "name": "python",
      "nbconvert_exporter": "python",
      "pygments_lexer": "ipython3",
      "version": "3.8.3"
    },
    "colab": {
      "provenance": [],
      "include_colab_link": true
    }
  },
  "nbformat": 4,
  "nbformat_minor": 0
}