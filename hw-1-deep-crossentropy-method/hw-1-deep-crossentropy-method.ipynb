{
  "cells": [
    {
      "cell_type": "markdown",
      "metadata": {
        "id": "view-in-github",
        "colab_type": "text"
      },
      "source": [
        "<a href=\"https://colab.research.google.com/github/AlexGrig/practical-rl/blob/master/hw-1-deep-crossentropy-method/hw-1-deep-crossentropy-method.ipynb\" target=\"_parent\"><img src=\"https://colab.research.google.com/assets/colab-badge.svg\" alt=\"Open In Colab\"/></a>"
      ]
    },
    {
      "cell_type": "markdown",
      "metadata": {
        "id": "vmCrIussDqu7"
      },
      "source": [
        "# Deep Crossentropy method\n",
        "\n",
        "In this section we'll extend your CEM implementation with neural networks! You will train a multi-layer neural network to solve simple continuous state space games. __Please make sure you're done with tabular crossentropy method from the previous notebook.__\n",
        "\n",
        "![img](https://tip.duke.edu/independent_learning/greek/lesson/digging_deeper_final.jpg)\n"
      ]
    },
    {
      "cell_type": "code",
      "source": [
        "import sys, os\n",
        "if 'google.colab' in sys.modules and not os.path.exists('.setup_complete'):\n",
        "    !wget -q https://raw.githubusercontent.com/yandexdataschool/Practical_RL/master/setup_colab.sh -O- | bash\n",
        "\n",
        "    !touch .setup_complete\n",
        "\n",
        "# This code creates a virtual display to draw game images on.\n",
        "# It will have no effect if your machine has a monitor.\n",
        "if type(os.environ.get(\"DISPLAY\")) is not str or len(os.environ.get(\"DISPLAY\")) == 0:\n",
        "    !bash ../xvfb start\n",
        "    os.environ['DISPLAY'] = ':1'"
      ],
      "metadata": {
        "colab": {
          "base_uri": "https://localhost:8080/"
        },
        "id": "xsVs1oW0Et4W",
        "outputId": "e648ebb9-a6d2-46d7-a544-2b272bbdb9a8"
      },
      "execution_count": 1,
      "outputs": [
        {
          "output_type": "stream",
          "name": "stdout",
          "text": [
            "Starting virtual X frame buffer: Xvfb.\n"
          ]
        }
      ]
    },
    {
      "cell_type": "code",
      "source": [
        "!pip install gym[toy_text]"
      ],
      "metadata": {
        "colab": {
          "base_uri": "https://localhost:8080/"
        },
        "id": "G2ySWyWeE9gW",
        "outputId": "8938bc3a-06b0-4a22-c862-9c48abc48278"
      },
      "execution_count": 2,
      "outputs": [
        {
          "output_type": "stream",
          "name": "stdout",
          "text": [
            "Looking in indexes: https://pypi.org/simple, https://us-python.pkg.dev/colab-wheels/public/simple/\n",
            "Requirement already satisfied: gym[toy_text] in /usr/local/lib/python3.7/dist-packages (0.25.1)\n",
            "Requirement already satisfied: cloudpickle>=1.2.0 in /usr/local/lib/python3.7/dist-packages (from gym[toy_text]) (1.5.0)\n",
            "Requirement already satisfied: importlib-metadata>=4.8.0 in /usr/local/lib/python3.7/dist-packages (from gym[toy_text]) (4.12.0)\n",
            "Requirement already satisfied: gym-notices>=0.0.4 in /usr/local/lib/python3.7/dist-packages (from gym[toy_text]) (0.0.8)\n",
            "Requirement already satisfied: numpy>=1.18.0 in /usr/local/lib/python3.7/dist-packages (from gym[toy_text]) (1.21.6)\n",
            "Requirement already satisfied: pygame==2.1.0 in /usr/local/lib/python3.7/dist-packages (from gym[toy_text]) (2.1.0)\n",
            "Requirement already satisfied: zipp>=0.5 in /usr/local/lib/python3.7/dist-packages (from importlib-metadata>=4.8.0->gym[toy_text]) (3.8.1)\n",
            "Requirement already satisfied: typing-extensions>=3.6.4 in /usr/local/lib/python3.7/dist-packages (from importlib-metadata>=4.8.0->gym[toy_text]) (4.1.1)\n"
          ]
        }
      ]
    },
    {
      "cell_type": "code",
      "source": [
        "!df -h"
      ],
      "metadata": {
        "id": "nIbZ_4QAK02L",
        "outputId": "0f0f1a77-022f-4283-9e10-66df055c8e80",
        "colab": {
          "base_uri": "https://localhost:8080/"
        }
      },
      "execution_count": 3,
      "outputs": [
        {
          "output_type": "stream",
          "name": "stdout",
          "text": [
            "Filesystem      Size  Used Avail Use% Mounted on\n",
            "overlay         108G   38G   71G  35% /\n",
            "tmpfs            64M     0   64M   0% /dev\n",
            "shm             5.8G     0  5.8G   0% /dev/shm\n",
            "/dev/root       2.0G  1.2G  812M  59% /sbin/docker-init\n",
            "tmpfs           6.4G   76K  6.4G   1% /var/colab\n",
            "/dev/sda1        81G   41G   40G  51% /etc/hosts\n",
            "tmpfs           6.4G     0  6.4G   0% /proc/acpi\n",
            "tmpfs           6.4G     0  6.4G   0% /proc/scsi\n",
            "tmpfs           6.4G     0  6.4G   0% /sys/firmware\n"
          ]
        }
      ]
    },
    {
      "cell_type": "code",
      "source": [
        "!cat /proc/cpuinfo"
      ],
      "metadata": {
        "id": "wZAFv4tvK1pr",
        "outputId": "4d6d30f3-e836-4dc0-e4a3-b7e17cbf4ae5",
        "colab": {
          "base_uri": "https://localhost:8080/"
        }
      },
      "execution_count": 4,
      "outputs": [
        {
          "output_type": "stream",
          "name": "stdout",
          "text": [
            "processor\t: 0\n",
            "vendor_id\t: GenuineIntel\n",
            "cpu family\t: 6\n",
            "model\t\t: 79\n",
            "model name\t: Intel(R) Xeon(R) CPU @ 2.20GHz\n",
            "stepping\t: 0\n",
            "microcode\t: 0x1\n",
            "cpu MHz\t\t: 2199.998\n",
            "cache size\t: 56320 KB\n",
            "physical id\t: 0\n",
            "siblings\t: 2\n",
            "core id\t\t: 0\n",
            "cpu cores\t: 1\n",
            "apicid\t\t: 0\n",
            "initial apicid\t: 0\n",
            "fpu\t\t: yes\n",
            "fpu_exception\t: yes\n",
            "cpuid level\t: 13\n",
            "wp\t\t: yes\n",
            "flags\t\t: fpu vme de pse tsc msr pae mce cx8 apic sep mtrr pge mca cmov pat pse36 clflush mmx fxsr sse sse2 ss ht syscall nx pdpe1gb rdtscp lm constant_tsc rep_good nopl xtopology nonstop_tsc cpuid tsc_known_freq pni pclmulqdq ssse3 fma cx16 pcid sse4_1 sse4_2 x2apic movbe popcnt aes xsave avx f16c rdrand hypervisor lahf_lm abm 3dnowprefetch invpcid_single ssbd ibrs ibpb stibp fsgsbase tsc_adjust bmi1 hle avx2 smep bmi2 erms invpcid rtm rdseed adx smap xsaveopt arat md_clear arch_capabilities\n",
            "bugs\t\t: cpu_meltdown spectre_v1 spectre_v2 spec_store_bypass l1tf mds swapgs taa\n",
            "bogomips\t: 4399.99\n",
            "clflush size\t: 64\n",
            "cache_alignment\t: 64\n",
            "address sizes\t: 46 bits physical, 48 bits virtual\n",
            "power management:\n",
            "\n",
            "processor\t: 1\n",
            "vendor_id\t: GenuineIntel\n",
            "cpu family\t: 6\n",
            "model\t\t: 79\n",
            "model name\t: Intel(R) Xeon(R) CPU @ 2.20GHz\n",
            "stepping\t: 0\n",
            "microcode\t: 0x1\n",
            "cpu MHz\t\t: 2199.998\n",
            "cache size\t: 56320 KB\n",
            "physical id\t: 0\n",
            "siblings\t: 2\n",
            "core id\t\t: 0\n",
            "cpu cores\t: 1\n",
            "apicid\t\t: 1\n",
            "initial apicid\t: 1\n",
            "fpu\t\t: yes\n",
            "fpu_exception\t: yes\n",
            "cpuid level\t: 13\n",
            "wp\t\t: yes\n",
            "flags\t\t: fpu vme de pse tsc msr pae mce cx8 apic sep mtrr pge mca cmov pat pse36 clflush mmx fxsr sse sse2 ss ht syscall nx pdpe1gb rdtscp lm constant_tsc rep_good nopl xtopology nonstop_tsc cpuid tsc_known_freq pni pclmulqdq ssse3 fma cx16 pcid sse4_1 sse4_2 x2apic movbe popcnt aes xsave avx f16c rdrand hypervisor lahf_lm abm 3dnowprefetch invpcid_single ssbd ibrs ibpb stibp fsgsbase tsc_adjust bmi1 hle avx2 smep bmi2 erms invpcid rtm rdseed adx smap xsaveopt arat md_clear arch_capabilities\n",
            "bugs\t\t: cpu_meltdown spectre_v1 spectre_v2 spec_store_bypass l1tf mds swapgs taa\n",
            "bogomips\t: 4399.99\n",
            "clflush size\t: 64\n",
            "cache_alignment\t: 64\n",
            "address sizes\t: 46 bits physical, 48 bits virtual\n",
            "power management:\n",
            "\n"
          ]
        }
      ]
    },
    {
      "cell_type": "code",
      "source": [
        "!cat /proc/meminfo"
      ],
      "metadata": {
        "id": "9xbrAhp1K5Kb",
        "outputId": "225f2590-3074-499d-bdd8-2efa02abd2e7",
        "colab": {
          "base_uri": "https://localhost:8080/"
        }
      },
      "execution_count": 5,
      "outputs": [
        {
          "output_type": "stream",
          "name": "stdout",
          "text": [
            "MemTotal:       13298580 kB\n",
            "MemFree:        10450920 kB\n",
            "MemAvailable:   12473032 kB\n",
            "Buffers:          126516 kB\n",
            "Cached:          2017100 kB\n",
            "SwapCached:            0 kB\n",
            "Active:          1152408 kB\n",
            "Inactive:        1479088 kB\n",
            "Active(anon):     425940 kB\n",
            "Inactive(anon):      452 kB\n",
            "Active(file):     726468 kB\n",
            "Inactive(file):  1478636 kB\n",
            "Unevictable:           0 kB\n",
            "Mlocked:               0 kB\n",
            "SwapTotal:             0 kB\n",
            "SwapFree:              0 kB\n",
            "Dirty:               836 kB\n",
            "Writeback:             0 kB\n",
            "AnonPages:        487812 kB\n",
            "Mapped:           273632 kB\n",
            "Shmem:              1244 kB\n",
            "KReclaimable:     116920 kB\n",
            "Slab:             162860 kB\n",
            "SReclaimable:     116920 kB\n",
            "SUnreclaim:        45940 kB\n",
            "KernelStack:        4976 kB\n",
            "PageTables:         6916 kB\n",
            "NFS_Unstable:          0 kB\n",
            "Bounce:                0 kB\n",
            "WritebackTmp:          0 kB\n",
            "CommitLimit:     6649288 kB\n",
            "Committed_AS:    3144180 kB\n",
            "VmallocTotal:   34359738367 kB\n",
            "VmallocUsed:        7348 kB\n",
            "VmallocChunk:          0 kB\n",
            "Percpu:             1504 kB\n",
            "AnonHugePages:         0 kB\n",
            "ShmemHugePages:        0 kB\n",
            "ShmemPmdMapped:        0 kB\n",
            "FileHugePages:         0 kB\n",
            "FilePmdMapped:         0 kB\n",
            "CmaTotal:              0 kB\n",
            "CmaFree:               0 kB\n",
            "HugePages_Total:       0\n",
            "HugePages_Free:        0\n",
            "HugePages_Rsvd:        0\n",
            "HugePages_Surp:        0\n",
            "Hugepagesize:       2048 kB\n",
            "Hugetlb:               0 kB\n",
            "DirectMap4k:      150336 kB\n",
            "DirectMap2M:     7186432 kB\n",
            "DirectMap1G:     8388608 kB\n"
          ]
        }
      ]
    },
    {
      "cell_type": "code",
      "execution_count": 6,
      "metadata": {
        "colab": {
          "base_uri": "https://localhost:8080/",
          "height": 304
        },
        "id": "NbFurTtODqu8",
        "outputId": "847e0ec7-2250-4a1a-e93e-b027043ce8c3"
      },
      "outputs": [
        {
          "output_type": "stream",
          "name": "stdout",
          "text": [
            "state vector dim = 4\n",
            "n_actions = 2\n"
          ]
        },
        {
          "output_type": "display_data",
          "data": {
            "text/plain": [
              "<Figure size 432x288 with 1 Axes>"
            ],
            "image/png": "[encoded data removed]"
          },
          "metadata": {
            "needs_background": "light"
          }
        }
      ],
      "source": [
        "import time\n",
        "import gym\n",
        "import numpy as np\n",
        "import matplotlib.pyplot as plt\n",
        "from joblib import Parallel, delayed\n",
        "%matplotlib inline\n",
        "\n",
        "# if you see \"<classname> has no attribute .env\", remove .env or update gym\n",
        "env = gym.make(\"CartPole-v1\", new_step_api=True, render_mode='rgb_array')\n",
        "\n",
        "env.reset()\n",
        "n_actions = env.action_space.n\n",
        "state_dim = env.observation_space.shape[0]\n",
        "\n",
        "plt.imshow(env.render()[0])\n",
        "print(\"state vector dim =\", state_dim)\n",
        "print(\"n_actions =\", n_actions)\n",
        "\n",
        "env.close()"
      ]
    },
    {
      "cell_type": "code",
      "execution_count": 7,
      "metadata": {
        "colab": {
          "base_uri": "https://localhost:8080/"
        },
        "id": "6C47ciwJDqu9",
        "outputId": "78e2f9ac-b2a3-4016-fcc8-fb9ec08d97b8"
      },
      "outputs": [
        {
          "output_type": "execute_result",
          "data": {
            "text/plain": [
              "(Box([-4.8000002e+00 -3.4028235e+38 -4.1887903e-01 -3.4028235e+38], [4.8000002e+00 3.4028235e+38 4.1887903e-01 3.4028235e+38], (4,), float32),\n",
              " Discrete(2))"
            ]
          },
          "metadata": {},
          "execution_count": 7
        }
      ],
      "source": [
        "env.observation_space, env.action_space"
      ]
    },
    {
      "cell_type": "code",
      "source": [
        "[env.reset()] * n_actions, range(n_actions), range(n_actions)"
      ],
      "metadata": {
        "id": "MbrBqx_gMxVX",
        "outputId": "cfde6cd1-6e3b-4c4f-fda5-787961657299",
        "colab": {
          "base_uri": "https://localhost:8080/"
        }
      },
      "execution_count": 8,
      "outputs": [
        {
          "output_type": "execute_result",
          "data": {
            "text/plain": [
              "([array([ 0.03986687, -0.01778152, -0.00299423, -0.03900803], dtype=float32),\n",
              "  array([ 0.03986687, -0.01778152, -0.00299423, -0.03900803], dtype=float32)],\n",
              " range(0, 2),\n",
              " range(0, 2))"
            ]
          },
          "metadata": {},
          "execution_count": 8
        }
      ]
    },
    {
      "cell_type": "code",
      "source": [
        "env.reset()"
      ],
      "metadata": {
        "id": "WOWeBPebOT3M",
        "outputId": "ae03f428-8681-4d78-85fc-654908feb3cd",
        "colab": {
          "base_uri": "https://localhost:8080/"
        }
      },
      "execution_count": 9,
      "outputs": [
        {
          "output_type": "execute_result",
          "data": {
            "text/plain": [
              "array([-0.01916653,  0.04088006,  0.02631276, -0.04159027], dtype=float32)"
            ]
          },
          "metadata": {},
          "execution_count": 9
        }
      ]
    },
    {
      "cell_type": "markdown",
      "metadata": {
        "id": "Bu6lwtL-Dqu-"
      },
      "source": [
        "# Neural Network Policy\n",
        "\n",
        "For this assignment we'll utilize the simplified neural network implementation from __[Scikit-learn](https://scikit-learn.org/stable/modules/generated/sklearn.neural_network.MLPClassifier.html)__. Here's what you'll need:\n",
        "\n",
        "* `agent.partial_fit(states, actions)` - make a single training pass over the data. Maximize the probabilitity of :actions: from :states:\n",
        "* `agent.predict_proba(states)` - predict probabilities of all actions, a matrix of shape __[len(states), n_actions]__\n",
        "\n",
        "You may also use your favorite neural framework, if it doesn't make it too difficult. The idea is the main thing."
      ]
    },
    {
      "cell_type": "code",
      "execution_count": 10,
      "metadata": {
        "colab": {
          "base_uri": "https://localhost:8080/"
        },
        "id": "sxe7mgAqDqu-",
        "outputId": "05f57559-24f2-469c-8f3d-1a61bcc4adca"
      },
      "outputs": [
        {
          "output_type": "execute_result",
          "data": {
            "text/plain": [
              "MLPClassifier(activation='tanh', hidden_layer_sizes=(20, 20))"
            ]
          },
          "metadata": {},
          "execution_count": 10
        }
      ],
      "source": [
        "from sklearn.neural_network import MLPClassifier\n",
        "\n",
        "agent = MLPClassifier(\n",
        "    hidden_layer_sizes=(20, 20),\n",
        "    activation='tanh',\n",
        ")\n",
        "\n",
        "# initialize agent to the dimension of state space and number of actions\n",
        "agent.partial_fit([env.reset()] * n_actions, range(n_actions), range(n_actions))"
      ]
    },
    {
      "cell_type": "code",
      "source": [
        "env.reset().reshape(1, -1)"
      ],
      "metadata": {
        "id": "LDyI5BX2O--X",
        "outputId": "7b005159-5549-4238-d771-c13cd0a938d4",
        "colab": {
          "base_uri": "https://localhost:8080/"
        }
      },
      "execution_count": 11,
      "outputs": [
        {
          "output_type": "execute_result",
          "data": {
            "text/plain": [
              "array([[-0.04762326,  0.00579659, -0.01946112, -0.03286591]],\n",
              "      dtype=float32)"
            ]
          },
          "metadata": {},
          "execution_count": 11
        }
      ]
    },
    {
      "cell_type": "code",
      "source": [
        "agent.predict_proba(env.reset().reshape(1, -1)).squeeze()"
      ],
      "metadata": {
        "id": "GduV-qF1MwK1",
        "outputId": "4f08a87c-341e-4900-eafe-bb72b6f77846",
        "colab": {
          "base_uri": "https://localhost:8080/"
        }
      },
      "execution_count": 12,
      "outputs": [
        {
          "output_type": "execute_result",
          "data": {
            "text/plain": [
              "array([0.42245568, 0.57754432])"
            ]
          },
          "metadata": {},
          "execution_count": 12
        }
      ]
    },
    {
      "cell_type": "code",
      "source": [
        "ll = env.step(1)\n",
        "len(ll)"
      ],
      "metadata": {
        "id": "QsnkgF8u7Yka",
        "outputId": "15a1f8aa-4e40-472b-ead5-8ae41025b24c",
        "colab": {
          "base_uri": "https://localhost:8080/"
        }
      },
      "execution_count": 13,
      "outputs": [
        {
          "output_type": "execute_result",
          "data": {
            "text/plain": [
              "5"
            ]
          },
          "metadata": {},
          "execution_count": 13
        }
      ]
    },
    {
      "cell_type": "code",
      "source": [
        "ll[4]"
      ],
      "metadata": {
        "id": "Q78ZbnHF8JGH",
        "outputId": "1331d448-c168-424e-bd8e-11aeca7e348d",
        "colab": {
          "base_uri": "https://localhost:8080/"
        }
      },
      "execution_count": 14,
      "outputs": [
        {
          "output_type": "execute_result",
          "data": {
            "text/plain": [
              "{}"
            ]
          },
          "metadata": {},
          "execution_count": 14
        }
      ]
    },
    {
      "cell_type": "code",
      "execution_count": 23,
      "metadata": {
        "id": "dEtSumOaDqu_"
      },
      "outputs": [],
      "source": [
        "def generate_session(agent, t_max=1000, renderer=False, test=False):\n",
        "    \"\"\"\n",
        "    Play a single game using agent neural network.\n",
        "    Terminate when game finishes or after :t_max: steps\n",
        "    renderer (bool or video recorder): if not bool then call capture_frame.\n",
        "    \"\"\"\n",
        "    states, actions = [], []\n",
        "    total_reward = 0\n",
        "    episode_len = -1\n",
        "\n",
        "    s = env.reset()\n",
        "\n",
        "    for t in range(t_max):\n",
        "        \n",
        "        # use agent to predict a vector of action probabilities for state :s:\n",
        "        probs = agent.predict_proba(s.reshape(1, -1)).squeeze()  #<YOUR CODE>\n",
        "\n",
        "        assert probs.shape == (n_actions,), \"make sure probabilities are a vector (hint: np.reshape)\"\n",
        "        \n",
        "        # use the probabilities you predicted to pick an action\n",
        "        if test:\n",
        "            # on the test use the best (the most likely) actions at test\n",
        "            # experiment, will it work on the train and vice versa?\n",
        "            a = np.argmax( probs ) #<YOUR CODE>\n",
        "            # ^-- hint: try np.argmax\n",
        "        else:\n",
        "            # sample proportionally to the probabilities,\n",
        "            # don't just take the most likely action at train\n",
        "            a = np.random.choice(np.arange(0, n_actions), p=probs )\n",
        "            # ^-- hint: try np.random.choice\n",
        "\n",
        "        \n",
        "        new_s, r, done, truenc, info = env.step(a)\n",
        "\n",
        "        if isinstance(renderer, bool):\n",
        "          if renderer:\n",
        "            plt.imshow(env.render())\n",
        "        else:\n",
        "          renderer.capture_frame()\n",
        "        # record sessions like you did before\n",
        "        states.append(s)\n",
        "        actions.append(a)\n",
        "        total_reward += r\n",
        "\n",
        "        s = new_s\n",
        "\n",
        "        if done: # we can compute session's statistics\n",
        "            episode_len = t\n",
        "            break\n",
        "    if episode_len == -1:\n",
        "      episode_len = t_max\n",
        "    if renderer:\n",
        "        env.close()\n",
        "\n",
        "    return states, actions, total_reward, episode_len"
      ]
    },
    {
      "cell_type": "code",
      "execution_count": 24,
      "metadata": {
        "colab": {
          "base_uri": "https://localhost:8080/"
        },
        "id": "mHqpbTBLDqu_",
        "outputId": "1052d5a6-c1fc-4bff-aa73-780e8c6b02e8"
      },
      "outputs": [
        {
          "output_type": "stream",
          "name": "stdout",
          "text": [
            "states: [[-5.2071684e-03  4.4945087e-02 -4.4940706e-02  3.5853628e-02]\n",
            " [-4.3082666e-03  2.4068172e-01 -4.4223633e-02 -2.7066299e-01]\n",
            " [ 5.0536770e-04  4.6217829e-02 -4.9636893e-02  7.7501349e-03]\n",
            " [ 1.4297243e-03  2.4201520e-01 -4.9481891e-02 -3.0017146e-01]\n",
            " [ 6.2700282e-03  4.3780625e-01 -5.5485319e-02 -6.0804027e-01]]\n",
            "actions: [1, 0, 1, 1, 0]\n",
            "reward: 5.0\n",
            "episode len: 5\n"
          ]
        }
      ],
      "source": [
        "dummy_states, dummy_actions, dummy_reward, episode_len = generate_session(agent, t_max=5)\n",
        "print(\"states:\", np.stack(dummy_states))\n",
        "print(\"actions:\", dummy_actions)\n",
        "print(\"reward:\", dummy_reward)\n",
        "print(\"episode len:\", episode_len)"
      ]
    },
    {
      "cell_type": "markdown",
      "metadata": {
        "id": "YWTcWoaQDqvA"
      },
      "source": [
        "### CEM steps\n",
        "Deep CEM uses exactly the same strategy as the regular CEM, so you can copy your function code from previous notebook.\n",
        "\n",
        "The only difference is that now each observation is not a number but a `float32` vector.\n",
        "\n",
        "Let's see that it differs from tabular `select_elites`. Our neural network now is trained with one object and it takes an input of `(1, n_states)`. So, we should use `np.squeeze` to remove leading dimension in the deep `select_elites`."
      ]
    },
    {
      "cell_type": "code",
      "execution_count": 45,
      "metadata": {
        "id": "d4iwNN61DqvA"
      },
      "outputs": [],
      "source": [
        "def select_elites(states_batch, actions_batch, rewards_batch, percentile=50):\n",
        "    \"\"\"\n",
        "    Select states and actions from games that have rewards >= percentile\n",
        "    :param states_batch: list of lists of states, states_batch[session_i][t]\n",
        "    :param actions_batch: list of lists of actions, actions_batch[session_i][t]\n",
        "    :param rewards_batch: list of rewards, rewards_batch[session_i]\n",
        "\n",
        "    :returns: elite_states,elite_actions, both 1D lists of states and respective actions from elite sessions\n",
        "\n",
        "    Please return elite states and actions in their original order \n",
        "    [i.e. sorted by session number and timestep within session]\n",
        "\n",
        "    If you are confused, see examples below. Please don't assume that states are integers\n",
        "    (they will become different later).\n",
        "    \"\"\"\n",
        "\n",
        "    #<YOUR CODE>\n",
        "    threshold = np.percentile(rewards_batch, percentile)\n",
        "    \n",
        "    #states_batch = np.array(states_batch)\n",
        "    #actions_batch = np.array(actions_batch)\n",
        "    rewards_batch = np.array(rewards_batch)\n",
        "    mask = rewards_batch >= threshold # we might need to further improve mask to include less samples if they are all equal\n",
        "\n",
        "    elite_states = [np.array(states_batch[ii]) for ii in range(len(states_batch)) if mask[ii]>0 ]\n",
        "    #elite_states = states_batch[mask]\n",
        "    elite_states = np.vstack(elite_states)\n",
        "    elite_actions = [np.array(actions_batch[ii]) for ii in range(len(actions_batch)) if mask[ii]>0 ]\n",
        "    elite_actions = np.hstack(elite_actions) #np.array(sum(elite_actions, [])).reshape(-1,1) # need 1 dim Y's for NN.\n",
        "\n",
        "    # Let's see that it differs from tabular `select_elites`.\n",
        "    # Our neural network now is trained with one object and it takes an input of `(1, n_states)`.\n",
        "    # So, we should use `np.squeeze` to remove leading dimension in the deep `select_elites`.\n",
        "    \n",
        "    return elite_states, elite_actions"
      ]
    },
    {
      "cell_type": "code",
      "source": [
        "sessions = [generate_session(agent, t_max=5, renderer=False, test=False) for _ in range(0, 3)]\n",
        "states_batch, actions_batch, rewards_batch, episode_len_batch = zip(*sessions)\n",
        "ss, aa = select_elites(states_batch, actions_batch, rewards_batch, percentile=50)\n"
      ],
      "metadata": {
        "id": "BSiQiZBaRG2u"
      },
      "execution_count": 46,
      "outputs": []
    },
    {
      "cell_type": "code",
      "source": [
        "states_batch, actions_batch, rewards_batch"
      ],
      "metadata": {
        "id": "66UwNafaQ89L",
        "outputId": "42792c9e-45f5-47b9-9c64-bfc941aa86f7",
        "colab": {
          "base_uri": "https://localhost:8080/"
        }
      },
      "execution_count": 43,
      "outputs": [
        {
          "output_type": "execute_result",
          "data": {
            "text/plain": [
              "(([array([ 0.00957956,  0.01353337,  0.02487641, -0.00603067], dtype=float32),\n",
              "   array([ 0.00985022,  0.20828989,  0.02475579, -0.29076216], dtype=float32),\n",
              "   array([ 0.01401602,  0.40305024,  0.01894055, -0.5755357 ], dtype=float32),\n",
              "   array([ 0.02207703,  0.20766798,  0.00742984, -0.2769467 ], dtype=float32),\n",
              "   array([ 0.02623039,  0.40268314,  0.0018909 , -0.567277  ], dtype=float32)],\n",
              "  [array([-0.04943245,  0.02879667,  0.04112517, -0.03182478], dtype=float32),\n",
              "   array([-0.04885652,  0.22330548,  0.04048868, -0.3112539 ], dtype=float32),\n",
              "   array([-0.04439041,  0.4178279 ,  0.0342636 , -0.590898  ], dtype=float32),\n",
              "   array([-0.03603385,  0.2222434 ,  0.02244564, -0.28762192], dtype=float32),\n",
              "   array([-0.03158898,  0.02680867,  0.0166932 ,  0.0120548 ], dtype=float32)],\n",
              "  [array([ 0.01663306,  0.04916427, -0.04449889, -0.02211742], dtype=float32),\n",
              "   array([ 0.01761634, -0.14529221, -0.04494124,  0.2562002 ], dtype=float32),\n",
              "   array([ 0.0147105 ,  0.05044161, -0.03981724, -0.05031237], dtype=float32),\n",
              "   array([ 0.01571933, -0.14408745, -0.04082349,  0.22954677], dtype=float32),\n",
              "   array([ 0.01283758,  0.05159337, -0.03623255, -0.07572868], dtype=float32)]),\n",
              " ([1, 1, 0, 1, 0], [1, 1, 0, 0, 0], [0, 1, 0, 1, 0]),\n",
              " (5.0, 5.0, 5.0))"
            ]
          },
          "metadata": {},
          "execution_count": 43
        }
      ]
    },
    {
      "cell_type": "code",
      "source": [
        "aa"
      ],
      "metadata": {
        "id": "4OUtGB_QSUNB",
        "outputId": "eb10a7fb-f904-474d-ae7c-ab4c7f82f237",
        "colab": {
          "base_uri": "https://localhost:8080/"
        }
      },
      "execution_count": 44,
      "outputs": [
        {
          "output_type": "execute_result",
          "data": {
            "text/plain": [
              "array([1, 1, 0, 1, 0, 1, 1, 0, 0, 0, 0, 1, 0, 1, 0])"
            ]
          },
          "metadata": {},
          "execution_count": 44
        }
      ]
    },
    {
      "cell_type": "code",
      "source": [
        "with Parallel(n_jobs=2) as parallel:\n",
        "  sessions = parallel( delayed(generate_session)(agent, t_max=5, renderer=False, test=False) for _ in range(0, 3))"
      ],
      "metadata": {
        "id": "Y8Onlr3sR_N6",
        "outputId": "5a543385-f52e-4674-869c-247a57fa5ff8",
        "colab": {
          "base_uri": "https://localhost:8080/",
          "height": 1000
        }
      },
      "execution_count": 50,
      "outputs": [
        {
          "output_type": "error",
          "ename": "PicklingError",
          "evalue": "ignored",
          "traceback": [
            "\u001b[0;31m---------------------------------------------------------------------------\u001b[0m",
            "\u001b[0;31m_RemoteTraceback\u001b[0m                          Traceback (most recent call last)",
            "\u001b[0;31m_RemoteTraceback\u001b[0m: \n\"\"\"\nTraceback (most recent call last):\n  File \"/usr/local/lib/python3.7/dist-packages/joblib/externals/loky/backend/queues.py\", line 153, in _feed\n    obj_ = dumps(obj, reducers=reducers)\n  File \"/usr/local/lib/python3.7/dist-packages/joblib/externals/loky/backend/reduction.py\", line 271, in dumps\n    dump(obj, buf, reducers=reducers, protocol=protocol)\n  File \"/usr/local/lib/python3.7/dist-packages/joblib/externals/loky/backend/reduction.py\", line 264, in dump\n    _LokyPickler(file, reducers=reducers, protocol=protocol).dump(obj)\n  File \"/usr/local/lib/python3.7/dist-packages/joblib/externals/cloudpickle/cloudpickle_fast.py\", line 602, in dump\n    return Pickler.dump(self, obj)\n  File \"/usr/lib/python3.7/pickle.py\", line 437, in dump\n    self.save(obj)\n  File \"/usr/lib/python3.7/pickle.py\", line 549, in save\n    self.save_reduce(obj=obj, *rv)\n  File \"/usr/lib/python3.7/pickle.py\", line 662, in save_reduce\n    save(state)\n  File \"/usr/lib/python3.7/pickle.py\", line 504, in save\n    f(self, obj) # Call unbound method with explicit self\n  File \"/usr/lib/python3.7/pickle.py\", line 859, in save_dict\n    self._batch_setitems(obj.items())\n  File \"/usr/lib/python3.7/pickle.py\", line 885, in _batch_setitems\n    save(v)\n  File \"/usr/lib/python3.7/pickle.py\", line 549, in save\n    self.save_reduce(obj=obj, *rv)\n  File \"/usr/lib/python3.7/pickle.py\", line 662, in save_reduce\n    save(state)\n  File \"/usr/lib/python3.7/pickle.py\", line 504, in save\n    f(self, obj) # Call unbound method with explicit self\n  File \"/usr/lib/python3.7/pickle.py\", line 859, in save_dict\n    self._batch_setitems(obj.items())\n  File \"/usr/lib/python3.7/pickle.py\", line 890, in _batch_setitems\n    save(v)\n  File \"/usr/lib/python3.7/pickle.py\", line 549, in save\n    self.save_reduce(obj=obj, *rv)\n  File \"/usr/lib/python3.7/pickle.py\", line 638, in save_reduce\n    save(args)\n  File \"/usr/lib/python3.7/pickle.py\", line 504, in save\n    f(self, obj) # Call unbound method with explicit self\n  File \"/usr/lib/python3.7/pickle.py\", line 789, in save_tuple\n    save(element)\n  File \"/usr/lib/python3.7/pickle.py\", line 504, in save\n    f(self, obj) # Call unbound method with explicit self\n  File \"/usr/lib/python3.7/pickle.py\", line 819, in save_list\n    self._batch_appends(obj)\n  File \"/usr/lib/python3.7/pickle.py\", line 846, in _batch_appends\n    save(tmp[0])\n  File \"/usr/lib/python3.7/pickle.py\", line 504, in save\n    f(self, obj) # Call unbound method with explicit self\n  File \"/usr/lib/python3.7/pickle.py\", line 774, in save_tuple\n    save(element)\n  File \"/usr/lib/python3.7/pickle.py\", line 504, in save\n    f(self, obj) # Call unbound method with explicit self\n  File \"/usr/local/lib/python3.7/dist-packages/joblib/externals/cloudpickle/cloudpickle_fast.py\", line 784, in save_function\n    *self._dynamic_function_reduce(obj), obj=obj\n  File \"/usr/local/lib/python3.7/dist-packages/joblib/externals/cloudpickle/cloudpickle_fast.py\", line 726, in _save_reduce_pickle5\n    save(state)\n  File \"/usr/lib/python3.7/pickle.py\", line 504, in save\n    f(self, obj) # Call unbound method with explicit self\n  File \"/usr/lib/python3.7/pickle.py\", line 774, in save_tuple\n    save(element)\n  File \"/usr/lib/python3.7/pickle.py\", line 504, in save\n    f(self, obj) # Call unbound method with explicit self\n  File \"/usr/lib/python3.7/pickle.py\", line 859, in save_dict\n    self._batch_setitems(obj.items())\n  File \"/usr/lib/python3.7/pickle.py\", line 885, in _batch_setitems\n    save(v)\n  File \"/usr/lib/python3.7/pickle.py\", line 504, in save\n    f(self, obj) # Call unbound method with explicit self\n  File \"/usr/lib/python3.7/pickle.py\", line 859, in save_dict\n    self._batch_setitems(obj.items())\n  File \"/usr/lib/python3.7/pickle.py\", line 885, in _batch_setitems\n    save(v)\n  File \"/usr/lib/python3.7/pickle.py\", line 549, in save\n    self.save_reduce(obj=obj, *rv)\n  File \"/usr/lib/python3.7/pickle.py\", line 662, in save_reduce\n    save(state)\n  File \"/usr/lib/python3.7/pickle.py\", line 504, in save\n    f(self, obj) # Call unbound method with explicit self\n  File \"/usr/lib/python3.7/pickle.py\", line 859, in save_dict\n    self._batch_setitems(obj.items())\n  File \"/usr/lib/python3.7/pickle.py\", line 885, in _batch_setitems\n    save(v)\n  File \"/usr/lib/python3.7/pickle.py\", line 549, in save\n    self.save_reduce(obj=obj, *rv)\n  File \"/usr/lib/python3.7/pickle.py\", line 662, in save_reduce\n    save(state)\n  File \"/usr/lib/python3.7/pickle.py\", line 504, in save\n    f(self, obj) # Call unbound method with explicit self\n  File \"/usr/lib/python3.7/pickle.py\", line 859, in save_dict\n    self._batch_setitems(obj.items())\n  File \"/usr/lib/python3.7/pickle.py\", line 885, in _batch_setitems\n    save(v)\n  File \"/usr/lib/python3.7/pickle.py\", line 549, in save\n    self.save_reduce(obj=obj, *rv)\n  File \"/usr/lib/python3.7/pickle.py\", line 662, in save_reduce\n    save(state)\n  File \"/usr/lib/python3.7/pickle.py\", line 504, in save\n    f(self, obj) # Call unbound method with explicit self\n  File \"/usr/lib/python3.7/pickle.py\", line 859, in save_dict\n    self._batch_setitems(obj.items())\n  File \"/usr/lib/python3.7/pickle.py\", line 885, in _batch_setitems\n    save(v)\n  File \"/usr/lib/python3.7/pickle.py\", line 549, in save\n    self.save_reduce(obj=obj, *rv)\n  File \"/usr/lib/python3.7/pickle.py\", line 662, in save_reduce\n    save(state)\n  File \"/usr/lib/python3.7/pickle.py\", line 504, in save\n    f(self, obj) # Call unbound method with explicit self\n  File \"/usr/lib/python3.7/pickle.py\", line 859, in save_dict\n    self._batch_setitems(obj.items())\n  File \"/usr/lib/python3.7/pickle.py\", line 885, in _batch_setitems\n    save(v)\n  File \"/usr/lib/python3.7/pickle.py\", line 549, in save\n    self.save_reduce(obj=obj, *rv)\n  File \"/usr/lib/python3.7/pickle.py\", line 662, in save_reduce\n    save(state)\n  File \"/usr/lib/python3.7/pickle.py\", line 504, in save\n    f(self, obj) # Call unbound method with explicit self\n  File \"/usr/lib/python3.7/pickle.py\", line 859, in save_dict\n    self._batch_setitems(obj.items())\n  File \"/usr/lib/python3.7/pickle.py\", line 885, in _batch_setitems\n    save(v)\n  File \"/usr/lib/python3.7/pickle.py\", line 524, in save\n    rv = reduce(self.proto)\nTypeError: can't pickle pygame.Surface objects\n\"\"\"",
            "\nThe above exception was the direct cause of the following exception:\n",
            "\u001b[0;31mPicklingError\u001b[0m                             Traceback (most recent call last)",
            "\u001b[0;32m<ipython-input-50-398c832be162>\u001b[0m in \u001b[0;36m<module>\u001b[0;34m\u001b[0m\n\u001b[1;32m      1\u001b[0m \u001b[0;32mwith\u001b[0m \u001b[0mParallel\u001b[0m\u001b[0;34m(\u001b[0m\u001b[0mn_jobs\u001b[0m\u001b[0;34m=\u001b[0m\u001b[0;36m2\u001b[0m\u001b[0;34m)\u001b[0m \u001b[0;32mas\u001b[0m \u001b[0mparallel\u001b[0m\u001b[0;34m:\u001b[0m\u001b[0;34m\u001b[0m\u001b[0;34m\u001b[0m\u001b[0m\n\u001b[0;32m----> 2\u001b[0;31m   \u001b[0msessions\u001b[0m \u001b[0;34m=\u001b[0m \u001b[0mparallel\u001b[0m\u001b[0;34m(\u001b[0m \u001b[0mdelayed\u001b[0m\u001b[0;34m(\u001b[0m\u001b[0mgenerate_session\u001b[0m\u001b[0;34m)\u001b[0m\u001b[0;34m(\u001b[0m\u001b[0magent\u001b[0m\u001b[0;34m,\u001b[0m \u001b[0mt_max\u001b[0m\u001b[0;34m=\u001b[0m\u001b[0;36m5\u001b[0m\u001b[0;34m,\u001b[0m \u001b[0mrenderer\u001b[0m\u001b[0;34m=\u001b[0m\u001b[0;32mFalse\u001b[0m\u001b[0;34m,\u001b[0m \u001b[0mtest\u001b[0m\u001b[0;34m=\u001b[0m\u001b[0;32mFalse\u001b[0m\u001b[0;34m)\u001b[0m \u001b[0;32mfor\u001b[0m \u001b[0m_\u001b[0m \u001b[0;32min\u001b[0m \u001b[0mrange\u001b[0m\u001b[0;34m(\u001b[0m\u001b[0;36m0\u001b[0m\u001b[0;34m,\u001b[0m \u001b[0;36m3\u001b[0m\u001b[0;34m)\u001b[0m\u001b[0;34m)\u001b[0m\u001b[0;34m\u001b[0m\u001b[0;34m\u001b[0m\u001b[0m\n\u001b[0m",
            "\u001b[0;32m/usr/local/lib/python3.7/dist-packages/joblib/parallel.py\u001b[0m in \u001b[0;36m__call__\u001b[0;34m(self, iterable)\u001b[0m\n\u001b[1;32m   1054\u001b[0m \u001b[0;34m\u001b[0m\u001b[0m\n\u001b[1;32m   1055\u001b[0m             \u001b[0;32mwith\u001b[0m \u001b[0mself\u001b[0m\u001b[0;34m.\u001b[0m\u001b[0m_backend\u001b[0m\u001b[0;34m.\u001b[0m\u001b[0mretrieval_context\u001b[0m\u001b[0;34m(\u001b[0m\u001b[0;34m)\u001b[0m\u001b[0;34m:\u001b[0m\u001b[0;34m\u001b[0m\u001b[0;34m\u001b[0m\u001b[0m\n\u001b[0;32m-> 1056\u001b[0;31m                 \u001b[0mself\u001b[0m\u001b[0;34m.\u001b[0m\u001b[0mretrieve\u001b[0m\u001b[0;34m(\u001b[0m\u001b[0;34m)\u001b[0m\u001b[0;34m\u001b[0m\u001b[0;34m\u001b[0m\u001b[0m\n\u001b[0m\u001b[1;32m   1057\u001b[0m             \u001b[0;31m# Make sure that we get a last message telling us we are done\u001b[0m\u001b[0;34m\u001b[0m\u001b[0;34m\u001b[0m\u001b[0;34m\u001b[0m\u001b[0m\n\u001b[1;32m   1058\u001b[0m             \u001b[0melapsed_time\u001b[0m \u001b[0;34m=\u001b[0m \u001b[0mtime\u001b[0m\u001b[0;34m.\u001b[0m\u001b[0mtime\u001b[0m\u001b[0;34m(\u001b[0m\u001b[0;34m)\u001b[0m \u001b[0;34m-\u001b[0m \u001b[0mself\u001b[0m\u001b[0;34m.\u001b[0m\u001b[0m_start_time\u001b[0m\u001b[0;34m\u001b[0m\u001b[0;34m\u001b[0m\u001b[0m\n",
            "\u001b[0;32m/usr/local/lib/python3.7/dist-packages/joblib/parallel.py\u001b[0m in \u001b[0;36mretrieve\u001b[0;34m(self)\u001b[0m\n\u001b[1;32m    933\u001b[0m             \u001b[0;32mtry\u001b[0m\u001b[0;34m:\u001b[0m\u001b[0;34m\u001b[0m\u001b[0;34m\u001b[0m\u001b[0m\n\u001b[1;32m    934\u001b[0m                 \u001b[0;32mif\u001b[0m \u001b[0mgetattr\u001b[0m\u001b[0;34m(\u001b[0m\u001b[0mself\u001b[0m\u001b[0;34m.\u001b[0m\u001b[0m_backend\u001b[0m\u001b[0;34m,\u001b[0m \u001b[0;34m'supports_timeout'\u001b[0m\u001b[0;34m,\u001b[0m \u001b[0;32mFalse\u001b[0m\u001b[0;34m)\u001b[0m\u001b[0;34m:\u001b[0m\u001b[0;34m\u001b[0m\u001b[0;34m\u001b[0m\u001b[0m\n\u001b[0;32m--> 935\u001b[0;31m                     \u001b[0mself\u001b[0m\u001b[0;34m.\u001b[0m\u001b[0m_output\u001b[0m\u001b[0;34m.\u001b[0m\u001b[0mextend\u001b[0m\u001b[0;34m(\u001b[0m\u001b[0mjob\u001b[0m\u001b[0;34m.\u001b[0m\u001b[0mget\u001b[0m\u001b[0;34m(\u001b[0m\u001b[0mtimeout\u001b[0m\u001b[0;34m=\u001b[0m\u001b[0mself\u001b[0m\u001b[0;34m.\u001b[0m\u001b[0mtimeout\u001b[0m\u001b[0;34m)\u001b[0m\u001b[0;34m)\u001b[0m\u001b[0;34m\u001b[0m\u001b[0;34m\u001b[0m\u001b[0m\n\u001b[0m\u001b[1;32m    936\u001b[0m                 \u001b[0;32melse\u001b[0m\u001b[0;34m:\u001b[0m\u001b[0;34m\u001b[0m\u001b[0;34m\u001b[0m\u001b[0m\n\u001b[1;32m    937\u001b[0m                     \u001b[0mself\u001b[0m\u001b[0;34m.\u001b[0m\u001b[0m_output\u001b[0m\u001b[0;34m.\u001b[0m\u001b[0mextend\u001b[0m\u001b[0;34m(\u001b[0m\u001b[0mjob\u001b[0m\u001b[0;34m.\u001b[0m\u001b[0mget\u001b[0m\u001b[0;34m(\u001b[0m\u001b[0;34m)\u001b[0m\u001b[0;34m)\u001b[0m\u001b[0;34m\u001b[0m\u001b[0;34m\u001b[0m\u001b[0m\n",
            "\u001b[0;32m/usr/local/lib/python3.7/dist-packages/joblib/_parallel_backends.py\u001b[0m in \u001b[0;36mwrap_future_result\u001b[0;34m(future, timeout)\u001b[0m\n\u001b[1;32m    540\u001b[0m         AsyncResults.get from multiprocessing.\"\"\"\n\u001b[1;32m    541\u001b[0m         \u001b[0;32mtry\u001b[0m\u001b[0;34m:\u001b[0m\u001b[0;34m\u001b[0m\u001b[0;34m\u001b[0m\u001b[0m\n\u001b[0;32m--> 542\u001b[0;31m             \u001b[0;32mreturn\u001b[0m \u001b[0mfuture\u001b[0m\u001b[0;34m.\u001b[0m\u001b[0mresult\u001b[0m\u001b[0;34m(\u001b[0m\u001b[0mtimeout\u001b[0m\u001b[0;34m=\u001b[0m\u001b[0mtimeout\u001b[0m\u001b[0;34m)\u001b[0m\u001b[0;34m\u001b[0m\u001b[0;34m\u001b[0m\u001b[0m\n\u001b[0m\u001b[1;32m    543\u001b[0m         \u001b[0;32mexcept\u001b[0m \u001b[0mCfTimeoutError\u001b[0m \u001b[0;32mas\u001b[0m \u001b[0me\u001b[0m\u001b[0;34m:\u001b[0m\u001b[0;34m\u001b[0m\u001b[0;34m\u001b[0m\u001b[0m\n\u001b[1;32m    544\u001b[0m             \u001b[0;32mraise\u001b[0m \u001b[0mTimeoutError\u001b[0m \u001b[0;32mfrom\u001b[0m \u001b[0me\u001b[0m\u001b[0;34m\u001b[0m\u001b[0;34m\u001b[0m\u001b[0m\n",
            "\u001b[0;32m/usr/lib/python3.7/concurrent/futures/_base.py\u001b[0m in \u001b[0;36mresult\u001b[0;34m(self, timeout)\u001b[0m\n\u001b[1;32m    433\u001b[0m                 \u001b[0;32mraise\u001b[0m \u001b[0mCancelledError\u001b[0m\u001b[0;34m(\u001b[0m\u001b[0;34m)\u001b[0m\u001b[0;34m\u001b[0m\u001b[0;34m\u001b[0m\u001b[0m\n\u001b[1;32m    434\u001b[0m             \u001b[0;32melif\u001b[0m \u001b[0mself\u001b[0m\u001b[0;34m.\u001b[0m\u001b[0m_state\u001b[0m \u001b[0;34m==\u001b[0m \u001b[0mFINISHED\u001b[0m\u001b[0;34m:\u001b[0m\u001b[0;34m\u001b[0m\u001b[0;34m\u001b[0m\u001b[0m\n\u001b[0;32m--> 435\u001b[0;31m                 \u001b[0;32mreturn\u001b[0m \u001b[0mself\u001b[0m\u001b[0;34m.\u001b[0m\u001b[0m__get_result\u001b[0m\u001b[0;34m(\u001b[0m\u001b[0;34m)\u001b[0m\u001b[0;34m\u001b[0m\u001b[0;34m\u001b[0m\u001b[0m\n\u001b[0m\u001b[1;32m    436\u001b[0m             \u001b[0;32melse\u001b[0m\u001b[0;34m:\u001b[0m\u001b[0;34m\u001b[0m\u001b[0;34m\u001b[0m\u001b[0m\n\u001b[1;32m    437\u001b[0m                 \u001b[0;32mraise\u001b[0m \u001b[0mTimeoutError\u001b[0m\u001b[0;34m(\u001b[0m\u001b[0;34m)\u001b[0m\u001b[0;34m\u001b[0m\u001b[0;34m\u001b[0m\u001b[0m\n",
            "\u001b[0;32m/usr/lib/python3.7/concurrent/futures/_base.py\u001b[0m in \u001b[0;36m__get_result\u001b[0;34m(self)\u001b[0m\n\u001b[1;32m    382\u001b[0m     \u001b[0;32mdef\u001b[0m \u001b[0m__get_result\u001b[0m\u001b[0;34m(\u001b[0m\u001b[0mself\u001b[0m\u001b[0;34m)\u001b[0m\u001b[0;34m:\u001b[0m\u001b[0;34m\u001b[0m\u001b[0;34m\u001b[0m\u001b[0m\n\u001b[1;32m    383\u001b[0m         \u001b[0;32mif\u001b[0m \u001b[0mself\u001b[0m\u001b[0;34m.\u001b[0m\u001b[0m_exception\u001b[0m\u001b[0;34m:\u001b[0m\u001b[0;34m\u001b[0m\u001b[0;34m\u001b[0m\u001b[0m\n\u001b[0;32m--> 384\u001b[0;31m             \u001b[0;32mraise\u001b[0m \u001b[0mself\u001b[0m\u001b[0;34m.\u001b[0m\u001b[0m_exception\u001b[0m\u001b[0;34m\u001b[0m\u001b[0;34m\u001b[0m\u001b[0m\n\u001b[0m\u001b[1;32m    385\u001b[0m         \u001b[0;32melse\u001b[0m\u001b[0;34m:\u001b[0m\u001b[0;34m\u001b[0m\u001b[0;34m\u001b[0m\u001b[0m\n\u001b[1;32m    386\u001b[0m             \u001b[0;32mreturn\u001b[0m \u001b[0mself\u001b[0m\u001b[0;34m.\u001b[0m\u001b[0m_result\u001b[0m\u001b[0;34m\u001b[0m\u001b[0;34m\u001b[0m\u001b[0m\n",
            "\u001b[0;31mPicklingError\u001b[0m: Could not pickle the task to send it to the workers."
          ]
        }
      ]
    },
    {
      "cell_type": "code",
      "source": [
        "sessions"
      ],
      "metadata": {
        "id": "25l7xvIpSHhq",
        "outputId": "b2e9ab18-e08a-4459-a035-e5e5d12294f8",
        "colab": {
          "base_uri": "https://localhost:8080/"
        }
      },
      "execution_count": 48,
      "outputs": [
        {
          "output_type": "execute_result",
          "data": {
            "text/plain": [
              "[([array([-0.02306212,  0.03442413, -0.04974468, -0.04450202], dtype=float32),\n",
              "   array([-0.02237363, -0.15995052, -0.05063472,  0.23208037], dtype=float32),\n",
              "   array([-0.02557264, -0.35431376, -0.04599311,  0.50837135], dtype=float32),\n",
              "   array([-0.03265892, -0.158575  , -0.03582568,  0.20155647], dtype=float32),\n",
              "   array([-0.03583042,  0.03704052, -0.03179455, -0.10220902], dtype=float32),\n",
              "   array([-0.03508961,  0.23260336, -0.03383873, -0.40475106], dtype=float32),\n",
              "   array([-0.03043754,  0.03797723, -0.04193375, -0.12292567], dtype=float32),\n",
              "   array([-0.029678  , -0.15651964, -0.04439227,  0.15623826], dtype=float32),\n",
              "   array([-0.03280839,  0.03920886, -0.0412675 , -0.1501123 ], dtype=float32),\n",
              "   array([-0.03202421, -0.1552986 , -0.04426975,  0.1292713 ], dtype=float32),\n",
              "   array([-0.03513018,  0.04042863, -0.04168432, -0.17704298], dtype=float32),\n",
              "   array([-0.03432161, -0.15407275, -0.04522518,  0.10220403], dtype=float32),\n",
              "   array([-0.03740307, -0.34851837, -0.0431811 ,  0.38028255], dtype=float32),\n",
              "   array([-0.04437343, -0.5430014 , -0.03557545,  0.65904385], dtype=float32),\n",
              "   array([-0.05523346, -0.34740284, -0.02239457,  0.3553747 ], dtype=float32),\n",
              "   array([-0.06218152, -0.15196976, -0.01528708,  0.05571512], dtype=float32),\n",
              "   array([-0.06522091,  0.04336802, -0.01417278, -0.24175152], dtype=float32),\n",
              "   array([-0.06435356, -0.15154865, -0.01900781,  0.04642745], dtype=float32),\n",
              "   array([-0.06738453, -0.34639296, -0.01807926,  0.33305314], dtype=float32),\n",
              "   array([-0.07431239, -0.15101841, -0.0114182 ,  0.03472421], dtype=float32),\n",
              "   array([-0.07733276,  0.04426541, -0.01072371, -0.26153928], dtype=float32),\n",
              "   array([-0.07644744, -0.15070184, -0.0159545 ,  0.02774205], dtype=float32),\n",
              "   array([-0.07946149,  0.04464524, -0.01539966, -0.26993167], dtype=float32),\n",
              "   array([-0.07856858, -0.15025361, -0.02079829,  0.0178546 ], dtype=float32),\n",
              "   array([-0.08157365,  0.04516035, -0.0204412 , -0.2813172 ], dtype=float32),\n",
              "   array([-0.08067045, -0.14966415, -0.02606754,  0.00484921], dtype=float32),\n",
              "   array([-0.08366372,  0.04582176, -0.02597056, -0.29594302], dtype=float32),\n",
              "   array([-0.08274729, -0.14892052, -0.03188942, -0.01156261], dtype=float32),\n",
              "   array([-0.0857257 , -0.34357095, -0.03212067,  0.2708907 ], dtype=float32),\n",
              "   array([-0.09259712, -0.14800572, -0.02670285, -0.03174767], dtype=float32),\n",
              "   array([-0.09555724,  0.04748878, -0.02733781, -0.33273458], dtype=float32),\n",
              "   array([-0.09460746, -0.14723362, -0.0339925 , -0.04879646], dtype=float32),\n",
              "   array([-0.09755213,  0.04835885, -0.03496843, -0.35200754], dtype=float32),\n",
              "   array([-0.09658495, -0.14624883, -0.04200858, -0.0705531 ], dtype=float32),\n",
              "   array([-0.09950993, -0.34074414, -0.04341964,  0.20858558], dtype=float32),\n",
              "   array([-0.10632481, -0.14502908, -0.03924793, -0.09747168], dtype=float32),\n",
              "   array([-0.10922539, -0.33956718, -0.04119737,  0.18257482], dtype=float32),\n",
              "   array([-0.11601674, -0.1438807 , -0.03754587, -0.12281445], dtype=float32),\n",
              "   array([-0.11889435, -0.3384452 , -0.04000216,  0.1577907 ], dtype=float32),\n",
              "   array([-0.12566325, -0.14277403, -0.03684634, -0.14723873], dtype=float32),\n",
              "   array([-0.12851873,  0.05285567, -0.03979112, -0.45131448], dtype=float32),\n",
              "   array([-0.12746163, -0.1416816 , -0.04881741, -0.17143506], dtype=float32),\n",
              "   array([-0.13029526,  0.05410384, -0.05224611, -0.47910997], dtype=float32),\n",
              "   array([-0.12921318,  0.24992295, -0.06182831, -0.7877912 ], dtype=float32),\n",
              "   array([-0.12421472,  0.05570229, -0.07758413, -0.5151828 ], dtype=float32),\n",
              "   array([-0.12310068, -0.13824627, -0.08788779, -0.24792197], dtype=float32),\n",
              "   array([-0.1258656 ,  0.05801374, -0.09284623, -0.5669815 ], dtype=float32),\n",
              "   array([-0.12470532, -0.13569155, -0.10418586, -0.30493262], dtype=float32),\n",
              "   array([-0.12741916, -0.3291864 , -0.11028451, -0.0468394 ], dtype=float32),\n",
              "   array([-0.13400288, -0.52256835, -0.1112213 ,  0.2091133 ], dtype=float32),\n",
              "   array([-0.14445426, -0.32604632, -0.10703903, -0.11648005], dtype=float32),\n",
              "   array([-0.15097518, -0.12956648, -0.10936863, -0.44092247], dtype=float32),\n",
              "   array([-0.15356651, -0.3229845 , -0.11818708, -0.18461922], dtype=float32),\n",
              "   array([-0.1600262 , -0.5162345 , -0.12187947,  0.06856751], dtype=float32),\n",
              "   array([-0.1703509 , -0.70941746, -0.12050812,  0.32044837], dtype=float32),\n",
              "   array([-0.18453924, -0.9026355 , -0.11409915,  0.5728299 ], dtype=float32),\n",
              "   array([-0.20259194, -0.70611423, -0.10264255,  0.24649228], dtype=float32),\n",
              "   array([-0.21671423, -0.89963186, -0.0977127 ,  0.50511706], dtype=float32),\n",
              "   array([-0.23470686, -1.0932509 , -0.08761036,  0.76547825], dtype=float32),\n",
              "   array([-0.2565719 , -0.89703876, -0.0723008 ,  0.44656447], dtype=float32),\n",
              "   array([-0.27451265, -0.70097244, -0.06336951,  0.13199542], dtype=float32),\n",
              "   array([-0.2885321, -0.8951321, -0.0607296,  0.4040322], dtype=float32),\n",
              "   array([-0.30643475, -0.69920385, -0.05264896,  0.09283801], dtype=float32),\n",
              "   array([-0.32041883, -0.5033683 , -0.0507922 , -0.21597984], dtype=float32),\n",
              "   array([-0.3304862 , -0.69772875, -0.0551118 ,  0.06025833], dtype=float32),\n",
              "   array([-0.34444076, -0.892019  , -0.05390663,  0.3350565 ], dtype=float32),\n",
              "   array([-0.36228114, -1.086334  , -0.0472055 ,  0.6102647 ], dtype=float32),\n",
              "   array([-0.38400784, -1.2807654 , -0.03500021,  0.8877137 ], dtype=float32),\n",
              "   array([-0.40962315, -1.0851864 , -0.01724593,  0.5842368 ], dtype=float32),\n",
              "   array([-0.43132687, -0.8898271 , -0.00556119,  0.28617147], dtype=float32),\n",
              "   array([-4.4912341e-01, -6.9462627e-01,  1.6223622e-04, -8.2602082e-03],\n",
              "         dtype=float32),\n",
              "   array([-4.6301594e-01, -8.8975054e-01, -2.9679584e-06,  2.8447390e-01],\n",
              "         dtype=float32),\n",
              "   array([-0.48081094, -1.0848725 ,  0.00568651,  0.5771559 ], dtype=float32),\n",
              "   array([-0.5025084 , -1.2800736 ,  0.01722963,  0.87162477], dtype=float32),\n",
              "   array([-0.52810985, -1.4754256 ,  0.03466212,  1.1696745 ], dtype=float32),\n",
              "   array([-0.5576184 , -1.2807713 ,  0.05805561,  0.88805693], dtype=float32),\n",
              "   array([-0.58323383, -1.476631  ,  0.07581675,  1.1984104 ], dtype=float32),\n",
              "   array([-0.61276644, -1.2825676 ,  0.09978496,  0.9304203 ], dtype=float32),\n",
              "   array([-0.6384178 , -1.0889237 ,  0.11839337,  0.67068744], dtype=float32),\n",
              "   array([-0.66019624, -0.89562935,  0.13180712,  0.417502  ], dtype=float32),\n",
              "   array([-0.6781088 , -0.7025975 ,  0.14015715,  0.16910492], dtype=float32),\n",
              "   array([-0.6921608 , -0.89941835,  0.14353925,  0.5025126 ], dtype=float32),\n",
              "   array([-0.71014917, -0.7065803 ,  0.1535895 ,  0.258286  ], dtype=float32),\n",
              "   array([-0.7242808 , -0.5139465 ,  0.15875523,  0.01771475], dtype=float32),\n",
              "   array([-0.7345597 , -0.71094686,  0.15910952,  0.35597757], dtype=float32),\n",
              "   array([-0.74877864, -0.9079309 ,  0.16622907,  0.69430256], dtype=float32),\n",
              "   array([-0.76693726, -0.715457  ,  0.18011512,  0.45821795], dtype=float32),\n",
              "   array([-0.78124636, -0.5232773 ,  0.18927948,  0.22727963], dtype=float32),\n",
              "   array([-7.9171193e-01, -3.3129331e-01,  1.9382507e-01, -2.3660147e-04],\n",
              "         dtype=float32),\n",
              "   array([-0.7983378 , -0.5285903 ,  0.19382034,  0.34679565], dtype=float32),\n",
              "   array([-0.8089096 , -0.33667728,  0.20075625,  0.12094338], dtype=float32),\n",
              "   array([-0.81564313, -0.5340246 ,  0.20317513,  0.46964574], dtype=float32)],\n",
              "  [0,\n",
              "   0,\n",
              "   1,\n",
              "   1,\n",
              "   1,\n",
              "   0,\n",
              "   0,\n",
              "   1,\n",
              "   0,\n",
              "   1,\n",
              "   0,\n",
              "   0,\n",
              "   0,\n",
              "   1,\n",
              "   1,\n",
              "   1,\n",
              "   0,\n",
              "   0,\n",
              "   1,\n",
              "   1,\n",
              "   0,\n",
              "   1,\n",
              "   0,\n",
              "   1,\n",
              "   0,\n",
              "   1,\n",
              "   0,\n",
              "   0,\n",
              "   1,\n",
              "   1,\n",
              "   0,\n",
              "   1,\n",
              "   0,\n",
              "   0,\n",
              "   1,\n",
              "   0,\n",
              "   1,\n",
              "   0,\n",
              "   1,\n",
              "   1,\n",
              "   0,\n",
              "   1,\n",
              "   1,\n",
              "   0,\n",
              "   0,\n",
              "   1,\n",
              "   0,\n",
              "   0,\n",
              "   0,\n",
              "   1,\n",
              "   1,\n",
              "   0,\n",
              "   0,\n",
              "   0,\n",
              "   0,\n",
              "   1,\n",
              "   0,\n",
              "   0,\n",
              "   1,\n",
              "   1,\n",
              "   0,\n",
              "   1,\n",
              "   1,\n",
              "   0,\n",
              "   0,\n",
              "   0,\n",
              "   0,\n",
              "   1,\n",
              "   1,\n",
              "   1,\n",
              "   0,\n",
              "   0,\n",
              "   0,\n",
              "   0,\n",
              "   1,\n",
              "   0,\n",
              "   1,\n",
              "   1,\n",
              "   1,\n",
              "   1,\n",
              "   0,\n",
              "   1,\n",
              "   1,\n",
              "   0,\n",
              "   0,\n",
              "   1,\n",
              "   1,\n",
              "   1,\n",
              "   0,\n",
              "   1,\n",
              "   0,\n",
              "   1],\n",
              "  92.0,\n",
              "  91),\n",
              " ([array([-0.01215023,  0.00298709,  0.04935055,  0.04524538], dtype=float32),\n",
              "   array([-0.01209049,  0.19736792,  0.05025546, -0.23146771], dtype=float32),\n",
              "   array([-0.00814313,  0.00156522,  0.0456261 ,  0.07663441], dtype=float32),\n",
              "   array([-0.00811183,  0.1960044 ,  0.04715879, -0.20131141], dtype=float32),\n",
              "   array([-0.00419174,  0.00024082,  0.04313257,  0.10586704], dtype=float32),\n",
              "   array([-0.00418692,  0.19471897,  0.04524991, -0.17290182], dtype=float32),\n",
              "   array([-2.9254166e-04,  3.8916507e-01,  4.1791867e-02, -4.5097348e-01],\n",
              "         dtype=float32),\n",
              "   array([ 0.00749076,  0.19347773,  0.0327724 , -0.14541556], dtype=float32),\n",
              "   array([ 0.01136031,  0.3881154 ,  0.02986409, -0.42758194], dtype=float32),\n",
              "   array([ 0.01912262,  0.1925835 ,  0.02131245, -0.1256361 ], dtype=float32),\n",
              "   array([ 0.02297429, -0.00283719,  0.01879973,  0.17369375], dtype=float32),\n",
              "   array([ 0.02291755,  0.19201072,  0.0222736 , -0.11299969], dtype=float32),\n",
              "   array([ 0.02675776, -0.00342319,  0.02001361,  0.18662636], dtype=float32),\n",
              "   array([ 0.0266893 ,  0.19140679,  0.02374614, -0.09967647], dtype=float32),\n",
              "   array([ 0.03051743, -0.0040473 ,  0.02175261,  0.2004027 ], dtype=float32),\n",
              "   array([ 0.03043649,  0.19075689,  0.02576066, -0.08533969], dtype=float32),\n",
              "   array([ 0.03425163,  0.38550028,  0.02405387, -0.36978507], dtype=float32),\n",
              "   array([ 0.04196163,  0.19004498,  0.01665817, -0.06961577], dtype=float32),\n",
              "   array([ 0.04576253, -0.00531178,  0.01526585,  0.228276  ], dtype=float32),\n",
              "   array([ 0.0456563 ,  0.18958873,  0.01983137, -0.05955271], dtype=float32),\n",
              "   array([ 0.04944807,  0.3844208 ,  0.01864032, -0.34591332], dtype=float32),\n",
              "   array([ 0.05713649,  0.5792727 ,  0.01172205, -0.63266045], dtype=float32),\n",
              "   array([ 0.06872194,  0.3839892 , -0.00093116, -0.33630913], dtype=float32),\n",
              "   array([ 0.07640173,  0.18888052, -0.00765734, -0.04391998], dtype=float32),\n",
              "   array([ 0.08017933, -0.0061308 , -0.00853574,  0.24633718], dtype=float32),\n",
              "   array([ 0.08005672, -0.20112981, -0.003609  ,  0.53631556], dtype=float32),\n",
              "   array([ 0.07603412, -0.0059573 ,  0.00711731,  0.24249765], dtype=float32),\n",
              "   array([ 0.07591498,  0.18906227,  0.01196727, -0.04793182], dtype=float32),\n",
              "   array([ 0.07969622, -0.00622922,  0.01100863,  0.24850273], dtype=float32),\n",
              "   array([ 0.07957164, -0.20150664,  0.01597868,  0.5446376 ], dtype=float32),\n",
              "   array([ 0.0755415 , -0.00661283,  0.02687144,  0.2570317 ], dtype=float32),\n",
              "   array([ 0.07540925,  0.18811537,  0.03201207, -0.02705589], dtype=float32),\n",
              "   array([ 0.07917155,  0.38276398,  0.03147095, -0.30946925], dtype=float32),\n",
              "   array([ 0.08682684,  0.57742375,  0.02528157, -0.59206337], dtype=float32),\n",
              "   array([ 0.09837531,  0.7721828 ,  0.0134403 , -0.8766766 ], dtype=float32),\n",
              "   array([ 0.11381897,  0.57688075, -0.00409323, -0.5797987 ], dtype=float32),\n",
              "   array([ 0.12535658,  0.38181642, -0.01568921, -0.28840804], dtype=float32),\n",
              "   array([ 0.13299291,  0.18692167, -0.02145737, -0.00071434], dtype=float32),\n",
              "   array([ 0.13673134,  0.38234466, -0.02147165, -0.30008936], dtype=float32),\n",
              "   array([ 0.14437824,  0.577766  , -0.02747344, -0.5994659 ], dtype=float32),\n",
              "   array([ 0.15593356,  0.7732613 , -0.03946276, -0.90067446], dtype=float32),\n",
              "   array([ 0.17139879,  0.57869565, -0.05747625, -0.62065226], dtype=float32),\n",
              "   array([ 0.1829727 ,  0.38442153, -0.06988929, -0.34661093], dtype=float32),\n",
              "   array([ 0.19066113,  0.1903597 , -0.07682151, -0.07675953], dtype=float32),\n",
              "   array([ 0.19446832, -0.00358172, -0.0783567 ,  0.19073127], dtype=float32),\n",
              "   array([ 0.19439669,  0.19256867, -0.07454208, -0.12560484], dtype=float32),\n",
              "   array([ 0.19824806, -0.00141062, -0.07705417,  0.14266099], dtype=float32),\n",
              "   array([ 0.19821985,  0.19472547, -0.07420095, -0.17330168], dtype=float32),\n",
              "   array([ 0.20211436,  0.0007396 , -0.07766698,  0.09508139], dtype=float32),\n",
              "   array([ 0.20212916,  0.19688384, -0.07576536, -0.2210592 ], dtype=float32),\n",
              "   array([ 0.20606683,  0.00292204, -0.08018655,  0.04679515], dtype=float32),\n",
              "   array([ 0.20612527,  0.19909678, -0.07925064, -0.27007103], dtype=float32),\n",
              "   array([ 0.2101072 ,  0.00518994, -0.08465206, -0.003399  ], dtype=float32),\n",
              "   array([ 0.21021101, -0.18862239, -0.08472004,  0.2614205 ], dtype=float32),\n",
              "   array([ 0.20643856,  0.00760032, -0.07949163, -0.05673582], dtype=float32),\n",
              "   array([ 0.20659056, -0.1862972 , -0.08062635,  0.20984606], dtype=float32),\n",
              "   array([ 0.20286462,  0.00987949, -0.07642943, -0.10714148], dtype=float32),\n",
              "   array([ 0.2030622 , -0.18406874, -0.07857226,  0.16048318], dtype=float32),\n",
              "   array([ 0.19938083,  0.01208503, -0.07536259, -0.15591618], dtype=float32),\n",
              "   array([ 0.19962253,  0.20820057, -0.07848091, -0.47139013], dtype=float32),\n",
              "   array([ 0.20378654,  0.01426976, -0.08790872, -0.20443903], dtype=float32),\n",
              "   array([ 0.20407194, -0.17949224, -0.0919975 ,  0.05926976], dtype=float32),\n",
              "   array([ 0.2004821 , -0.37318295, -0.0908121 ,  0.32156807], dtype=float32),\n",
              "   array([ 0.19301844, -0.5669022 , -0.08438074,  0.5842876 ], dtype=float32),\n",
              "   array([ 0.1816804 , -0.37070593, -0.07269499,  0.2662617 ], dtype=float32),\n",
              "   array([ 0.17426628, -0.56471914, -0.06736976,  0.53515935], dtype=float32),\n",
              "   array([ 0.16297188, -0.7588323 , -0.05666657,  0.80587685], dtype=float32),\n",
              "   array([ 0.14779525, -0.56298125, -0.04054903,  0.49592075], dtype=float32),\n",
              "   array([ 0.13653561, -0.36731163, -0.03063062,  0.19073948], dtype=float32),\n",
              "   array([ 0.12918939, -0.17176516, -0.02681583, -0.1114466 ], dtype=float32),\n",
              "   array([ 0.12575409, -0.3664928 , -0.02904476,  0.17265694], dtype=float32),\n",
              "   array([ 0.11842423, -0.17096746, -0.02559162, -0.12904535], dtype=float32),\n",
              "   array([ 0.11500488,  0.02451157, -0.02817253, -0.429691  ], dtype=float32),\n",
              "   array([ 0.11549511, -0.17020033, -0.03676635, -0.14602068], dtype=float32),\n",
              "   array([ 0.1120911 ,  0.02542833, -0.03968676, -0.45007223], dtype=float32),\n",
              "   array([ 0.11259967, -0.16911049, -0.04868821, -0.17015861], dtype=float32),\n",
              "   array([ 0.10921746, -0.36350298, -0.05209138,  0.10677588], dtype=float32),\n",
              "   array([ 0.1019474 , -0.55784124, -0.04995586,  0.38257992], dtype=float32),\n",
              "   array([ 0.09079058, -0.36204687, -0.04230426,  0.07457387], dtype=float32),\n",
              "   array([ 0.08354964, -0.5565376 , -0.04081278,  0.35361522], dtype=float32),\n",
              "   array([ 0.07241888, -0.7510562 , -0.03374048,  0.6331545 ], dtype=float32),\n",
              "   array([ 0.05739776, -0.5554802 , -0.02107739,  0.33003965], dtype=float32),\n",
              "   array([ 0.04628816, -0.7502959 , -0.0144766 ,  0.61600196], dtype=float32),\n",
              "   array([ 0.03128224, -0.5549747 , -0.00215656,  0.3187949 ], dtype=float32),\n",
              "   array([ 0.02018275, -0.75006586,  0.00421934,  0.6107969 ], dtype=float32),\n",
              "   array([ 0.00518143, -0.5550031 ,  0.01643528,  0.31944597], dtype=float32),\n",
              "   array([-0.00591863, -0.36011907,  0.0228242 ,  0.03199108], dtype=float32),\n",
              "   array([-0.01312101, -0.16533174,  0.02346402, -0.25340408], dtype=float32),\n",
              "   array([-0.01642765,  0.02944746,  0.01839594, -0.53859466], dtype=float32),\n",
              "   array([-0.0158387 , -0.16592821,  0.00762405, -0.24017262], dtype=float32),\n",
              "   array([-0.01915726,  0.029084  ,  0.00282059, -0.530441  ], dtype=float32),\n",
              "   array([-0.01857558, -0.16607751, -0.00778823, -0.23687065], dtype=float32),\n",
              "   array([-0.02189713, -0.36108732, -0.01252564,  0.0533455 ], dtype=float32),\n",
              "   array([-0.02911888, -0.5560275 , -0.01145873,  0.3420503 ], dtype=float32),\n",
              "   array([-0.04023943, -0.3607444 , -0.00461772,  0.04577613], dtype=float32),\n",
              "   array([-0.04745432, -0.16555652, -0.0037022 , -0.24836016], dtype=float32),\n",
              "   array([-0.05076545,  0.02961811, -0.0086694 , -0.54220855], dtype=float32),\n",
              "   array([-0.05017309,  0.22486083, -0.01951358, -0.83761036], dtype=float32),\n",
              "   array([-0.04567587,  0.03001073, -0.03626578, -0.5511275 ], dtype=float32),\n",
              "   array([-0.04507565, -0.1645836 , -0.04728833, -0.27008775], dtype=float32),\n",
              "   array([-0.04836733, -0.35899997, -0.05269009,  0.0073132 ], dtype=float32),\n",
              "   array([-0.05554733, -0.1631635 , -0.05254382, -0.30151752], dtype=float32),\n",
              "   array([-0.0588106 , -0.3574987 , -0.05857417, -0.02585778], dtype=float32),\n",
              "   array([-0.06596057, -0.55173385, -0.05909133,  0.24778433], dtype=float32),\n",
              "   array([-0.07699525, -0.35581997, -0.05413564, -0.06293634], dtype=float32),\n",
              "   array([-0.08411165, -0.55012566, -0.05539437,  0.21218707], dtype=float32),\n",
              "   array([-0.09511416, -0.7444136 , -0.05115063,  0.48689443], dtype=float32),\n",
              "   array([-0.11000243, -0.54860866, -0.04141274,  0.17853938], dtype=float32),\n",
              "   array([-0.12097461, -0.3529193 , -0.03784195, -0.12691484], dtype=float32),\n",
              "   array([-0.128033  , -0.5474793 , -0.04038025,  0.1535933 ], dtype=float32),\n",
              "   array([-0.13898258, -0.74200046, -0.03730838,  0.4332687 ], dtype=float32),\n",
              "   array([-0.15382259, -0.54637074, -0.02864301,  0.12906212], dtype=float32),\n",
              "   array([-0.16475   , -0.3508504 , -0.02606177, -0.17251794], dtype=float32),\n",
              "   array([-0.17176701, -0.15536533, -0.02951212, -0.47330725], dtype=float32),\n",
              "   array([-0.17487432, -0.35005832, -0.03897827, -0.19007024], dtype=float32),\n",
              "   array([-0.18187548, -0.5446016 , -0.04277968,  0.0900663 ], dtype=float32),\n",
              "   array([-0.19276752, -0.3488934 , -0.04097835, -0.2158008 ], dtype=float32),\n",
              "   array([-0.19974539, -0.15321031, -0.04529437, -0.5211233 ], dtype=float32),\n",
              "   array([-0.20280959, -0.34766638, -0.05571683, -0.24305032], dtype=float32),\n",
              "   array([-0.20976292, -0.54195005, -0.06057784,  0.03155068], dtype=float32),\n",
              "   array([-0.22060192, -0.7361533 , -0.05994682,  0.30452228], dtype=float32),\n",
              "   array([-0.23532498, -0.5402306 , -0.05385638, -0.00644777], dtype=float32),\n",
              "   array([-0.2461296 , -0.34437928, -0.05398533, -0.3156249 ], dtype=float32),\n",
              "   array([-0.2530172 , -0.53869236, -0.06029783, -0.0404439 ], dtype=float32),\n",
              "   array([-0.26379102, -0.3427599 , -0.06110671, -0.35152528], dtype=float32),\n",
              "   array([-0.2706462 , -0.53696203, -0.06813721, -0.07871997], dtype=float32),\n",
              "   array([-0.28138548, -0.7310444 , -0.06971162,  0.1917112 ], dtype=float32),\n",
              "   array([-0.29600635, -0.534998  , -0.06587739, -0.12212274], dtype=float32),\n",
              "   array([-0.3067063 , -0.72911733, -0.06831985,  0.14907067], dtype=float32),\n",
              "   array([-0.32128868, -0.53308696, -0.06533843, -0.16435935], dtype=float32),\n",
              "   array([-0.3319504 , -0.72721565, -0.06862562,  0.10701657], dtype=float32),\n",
              "   array([-0.3464947 , -0.53118086, -0.06648529, -0.20650364], dtype=float32),\n",
              "   array([-0.35711834, -0.72529215, -0.07061536,  0.06448779], dtype=float32),\n",
              "   array([-0.37162417, -0.91933435, -0.0693256 ,  0.334082  ], dtype=float32),\n",
              "   array([-0.39001086, -1.1134046 , -0.06264397,  0.6041228 ], dtype=float32),\n",
              "   array([-0.41227895, -0.91746515, -0.05056151,  0.29238474], dtype=float32),\n",
              "   array([-0.43062827, -0.7216601 , -0.04471381, -0.0158062 ], dtype=float32),\n",
              "   array([-0.44506145, -0.52592635, -0.04502994, -0.32225484], dtype=float32),\n",
              "   array([-0.45558   , -0.7203791 , -0.05147503, -0.04410569], dtype=float32),\n",
              "   array([-0.46998757, -0.5245583 , -0.05235715, -0.35257488], dtype=float32),\n",
              "   array([-0.48047873, -0.7188981 , -0.05940865, -0.07685054], dtype=float32),\n",
              "   array([-0.4948567 , -0.9131203 , -0.06094566,  0.19651292], dtype=float32),\n",
              "   array([-0.5131191 , -0.717182  , -0.0570154 , -0.11475588], dtype=float32),\n",
              "   array([-0.5274627 , -0.9114426 , -0.05931051,  0.1594081 ], dtype=float32),\n",
              "   array([-0.5456916 , -1.1056675 , -0.05612236,  0.43280607], dtype=float32),\n",
              "   array([-0.56780493, -1.2999518 , -0.04746623,  0.70728236], dtype=float32),\n",
              "   array([-0.593804  , -1.1042055 , -0.03332058,  0.40004385], dtype=float32),\n",
              "   array([-0.61588806, -1.2988393 , -0.02531971,  0.68203807], dtype=float32),\n",
              "   array([-0.6418649 , -1.1033751 , -0.01167895,  0.3814925 ], dtype=float32),\n",
              "   array([-0.6639324, -0.9080892, -0.0040491,  0.0851502], dtype=float32),\n",
              "   array([-0.68209416, -0.71290946, -0.00234609, -0.20880747], dtype=float32),\n",
              "   array([-0.69635236, -0.9079978 , -0.00652224,  0.08313446], dtype=float32),\n",
              "   array([-0.7145123 , -0.712783  , -0.00485955, -0.2115991 ], dtype=float32),\n",
              "   array([-0.728768  , -0.9078351 , -0.00909153,  0.07954696], dtype=float32),\n",
              "   array([-0.74692464, -1.1028255 , -0.0075006 ,  0.36934766], dtype=float32),\n",
              "   array([-7.6898116e-01, -1.2978401e+00, -1.1364244e-04,  6.5965617e-01],\n",
              "         dtype=float32),\n",
              "   array([-0.79493797, -1.4929605 ,  0.01307948,  0.9523033 ], dtype=float32),\n",
              "   array([-0.8247972 , -1.298017  ,  0.03212555,  0.6637583 ], dtype=float32),\n",
              "   array([-0.85075754, -1.1033564 ,  0.04540071,  0.38136125], dtype=float32),\n",
              "   array([-0.87282467, -0.9089075 ,  0.05302794,  0.10333172], dtype=float32),\n",
              "   array([-0.89100283, -1.1047477 ,  0.05509457,  0.41226202], dtype=float32),\n",
              "   array([-0.91309774, -1.3006055 ,  0.06333981,  0.7217927 ], dtype=float32),\n",
              "   array([-0.93910986, -1.1064143 ,  0.07777566,  0.44969943], dtype=float32),\n",
              "   array([-0.96123815, -0.9124737 ,  0.08676966,  0.18251084], dtype=float32),\n",
              "   array([-0.97948766, -0.71869355,  0.09041987, -0.08158752], dtype=float32),\n",
              "   array([-0.9938615 , -0.52497625,  0.08878812, -0.34442917], dtype=float32),\n",
              "   array([-1.004361  , -0.7212417 ,  0.08189954, -0.02512123], dtype=float32),\n",
              "   array([-1.0187858 , -0.527384  ,  0.08139712, -0.2908816 ], dtype=float32),\n",
              "   array([-1.0293336 , -0.72356653,  0.07557948,  0.02632222], dtype=float32),\n",
              "   array([-1.0438049 , -0.5296052 ,  0.07610593, -0.24158992], dtype=float32),\n",
              "   array([-1.054397  , -0.33564824,  0.07127412, -0.5093297 ], dtype=float32),\n",
              "   array([-1.0611099 , -0.5316981 ,  0.06108753, -0.19506462], dtype=float32),\n",
              "   array([-1.0717438 , -0.33750078,  0.05718624, -0.46786875], dtype=float32),\n",
              "   array([-1.078494  , -0.53338206,  0.04782887, -0.15772355], dtype=float32),\n",
              "   array([-1.0891615 , -0.729155  ,  0.0446744 ,  0.14965637], dtype=float32),\n",
              "   array([-1.1037446 , -0.5347003 ,  0.04766752, -0.12860477], dtype=float32),\n",
              "   array([-1.1144387 , -0.73047155,  0.04509543,  0.1787275 ], dtype=float32),\n",
              "   array([-1.1290481 , -0.92620885,  0.04866998,  0.4852885 ], dtype=float32),\n",
              "   array([-1.1475723 , -0.7318063 ,  0.05837575,  0.2083333 ], dtype=float32),\n",
              "   array([-1.1622084 , -0.5375655 ,  0.06254242, -0.06537881], dtype=float32),\n",
              "   array([-1.1729597 , -0.34339342,  0.06123484, -0.33769202], dtype=float32),\n",
              "   array([-1.1798276 , -0.14919387,  0.054481  , -0.61045355], dtype=float32),\n",
              "   array([-1.1828115 , -0.34503332,  0.04227193, -0.30112076], dtype=float32),\n",
              "   array([-1.1897122 , -0.15053858,  0.03624951, -0.580178  ], dtype=float32),\n",
              "   array([-1.1927229 , -0.34614924,  0.02464595, -0.27629974], dtype=float32),\n",
              "   array([-1.1996459 , -0.15138742,  0.01911996, -0.5611086 ], dtype=float32),\n",
              "   array([-1.2026737 , -0.34677243,  0.00789778, -0.26246372], dtype=float32),\n",
              "   array([-1.209609  , -0.5420062 ,  0.00264851,  0.03269975], dtype=float32),\n",
              "   array([-1.2204492 , -0.73716605,  0.00330251,  0.32621714], dtype=float32),\n",
              "   array([-1.2351925 , -0.54209125,  0.00982685,  0.0345775 ], dtype=float32),\n",
              "   array([-1.2460344 , -0.7373527 ,  0.0105184 ,  0.33034462], dtype=float32),\n",
              "   array([-1.2607814 , -0.5423821 ,  0.01712529,  0.04099717], dtype=float32),\n",
              "   array([-1.2716291 , -0.34750986,  0.01794523, -0.24623375], dtype=float32),\n",
              "   array([-1.2785792 , -0.54288346,  0.01302056,  0.05205508], dtype=float32),\n",
              "   array([-1.2894369 , -0.73818964,  0.01406166,  0.3488175 ], dtype=float32),\n",
              "   array([-1.3042006 , -0.54327047,  0.02103801,  0.06060164], dtype=float32),\n",
              "   array([-1.3150661 , -0.34845638,  0.02225004, -0.22537011], dtype=float32),\n",
              "   array([-1.3220352 , -0.54388916,  0.01774264,  0.07424745], dtype=float32),\n",
              "   array([-1.332913  , -0.7392609 ,  0.01922759,  0.37247503], dtype=float32),\n",
              "   array([-1.3476982 , -0.5444173 ,  0.02667709,  0.08591621], dtype=float32),\n",
              "   array([-1.3585865 , -0.34968773,  0.02839541, -0.19823211], dtype=float32),\n",
              "   array([-1.3655803 , -0.15498318,  0.02443077, -0.48182407], dtype=float32),\n",
              "   array([-1.36868   ,  0.03978557,  0.01479429, -0.7667081 ], dtype=float32),\n",
              "   array([-1.3678843e+00,  2.3470074e-01, -5.3987006e-04, -1.0546994e+00],\n",
              "         dtype=float32),\n",
              "   array([-1.3631903 ,  0.03958596, -0.02163386, -0.76218605], dtype=float32),\n",
              "   array([-1.3623985 , -0.15523142, -0.03687758, -0.47638822], dtype=float32),\n",
              "   array([-1.3655032 ,  0.04039131, -0.04640535, -0.7804624 ], dtype=float32),\n",
              "   array([-1.3646953 , -0.15406303, -0.06201459, -0.5027332 ], dtype=float32),\n",
              "   array([-1.3677766 ,  0.04187568, -0.07206926, -0.81429684], dtype=float32),\n",
              "   array([-1.3669391 , -0.15218922, -0.08835519, -0.5451251 ], dtype=float32),\n",
              "   array([-1.3699828 , -0.3459658 , -0.09925769, -0.28153676], dtype=float32),\n",
              "   array([-1.3769022 , -0.14957845, -0.10488843, -0.6038017 ], dtype=float32),\n",
              "   array([-1.3798938 , -0.3430892 , -0.11696447, -0.34591153], dtype=float32),\n",
              "   array([-1.3867556 , -0.53637   , -0.1238827 , -0.09228043], dtype=float32),\n",
              "   array([-1.397483  , -0.72951865, -0.12572831,  0.15889378], dtype=float32),\n",
              "   array([-1.4120734 , -0.9226373 , -0.12255043,  0.4094184 ], dtype=float32),\n",
              "   array([-1.430526  , -0.7260103 , -0.11436206,  0.08075028], dtype=float32),\n",
              "   array([-1.4450463 , -0.52945054, -0.11274705, -0.24571267], dtype=float32),\n",
              "   array([-1.4556353 , -0.33291394, -0.1176613 , -0.5717232 ], dtype=float32),\n",
              "   array([-1.4622936 , -0.52620655, -0.12909578, -0.31830168], dtype=float32),\n",
              "   array([-1.4728177 , -0.71927613, -0.1354618 , -0.06895594], dtype=float32),\n",
              "   array([-1.4872032 , -0.52249837, -0.13684092, -0.40112266], dtype=float32),\n",
              "   array([-1.4976532 , -0.32572767, -0.14486338, -0.73362535], dtype=float32),\n",
              "   array([-1.5041678 , -0.51858276, -0.15953588, -0.48981383], dtype=float32),\n",
              "   array([-1.5145394 , -0.711137  , -0.16933216, -0.25135517], dtype=float32),\n",
              "   array([-1.5287621 , -0.90348727, -0.17435926, -0.01650243], dtype=float32),\n",
              "   array([-1.5468318 , -1.0957358 , -0.17468931,  0.21649565], dtype=float32),\n",
              "   array([-1.5687466 , -0.89860284, -0.1703594 , -0.12580122], dtype=float32),\n",
              "   array([-1.5867187 , -0.7015018 , -0.17287542, -0.4670166 ], dtype=float32),\n",
              "   array([-1.6007487 , -0.8938138 , -0.18221575, -0.23342103], dtype=float32),\n",
              "   array([-1.6186249 , -1.085928  , -0.18688418, -0.00329598], dtype=float32),\n",
              "   array([-1.6403435 , -0.88868606, -0.1869501 , -0.348632  ], dtype=float32),\n",
              "   array([-1.6581173 , -1.0807256 , -0.19392274, -0.12023575], dtype=float32),\n",
              "   array([-1.6797317 , -0.8834305 , -0.19632745, -0.46728775], dtype=float32),\n",
              "   array([-1.6974003, -1.075316 , -0.2056732, -0.2423391], dtype=float32)],\n",
              "  [1,\n",
              "   0,\n",
              "   1,\n",
              "   0,\n",
              "   1,\n",
              "   1,\n",
              "   0,\n",
              "   1,\n",
              "   0,\n",
              "   0,\n",
              "   1,\n",
              "   0,\n",
              "   1,\n",
              "   0,\n",
              "   1,\n",
              "   1,\n",
              "   0,\n",
              "   0,\n",
              "   1,\n",
              "   1,\n",
              "   1,\n",
              "   0,\n",
              "   0,\n",
              "   0,\n",
              "   0,\n",
              "   1,\n",
              "   1,\n",
              "   0,\n",
              "   0,\n",
              "   1,\n",
              "   1,\n",
              "   1,\n",
              "   1,\n",
              "   1,\n",
              "   0,\n",
              "   0,\n",
              "   0,\n",
              "   1,\n",
              "   1,\n",
              "   1,\n",
              "   0,\n",
              "   0,\n",
              "   0,\n",
              "   0,\n",
              "   1,\n",
              "   0,\n",
              "   1,\n",
              "   0,\n",
              "   1,\n",
              "   0,\n",
              "   1,\n",
              "   0,\n",
              "   0,\n",
              "   1,\n",
              "   0,\n",
              "   1,\n",
              "   0,\n",
              "   1,\n",
              "   1,\n",
              "   0,\n",
              "   0,\n",
              "   0,\n",
              "   0,\n",
              "   1,\n",
              "   0,\n",
              "   0,\n",
              "   1,\n",
              "   1,\n",
              "   1,\n",
              "   0,\n",
              "   1,\n",
              "   1,\n",
              "   0,\n",
              "   1,\n",
              "   0,\n",
              "   0,\n",
              "   0,\n",
              "   1,\n",
              "   0,\n",
              "   0,\n",
              "   1,\n",
              "   0,\n",
              "   1,\n",
              "   0,\n",
              "   1,\n",
              "   1,\n",
              "   1,\n",
              "   1,\n",
              "   0,\n",
              "   1,\n",
              "   0,\n",
              "   0,\n",
              "   0,\n",
              "   1,\n",
              "   1,\n",
              "   1,\n",
              "   1,\n",
              "   0,\n",
              "   0,\n",
              "   0,\n",
              "   1,\n",
              "   0,\n",
              "   0,\n",
              "   1,\n",
              "   0,\n",
              "   0,\n",
              "   1,\n",
              "   1,\n",
              "   0,\n",
              "   0,\n",
              "   1,\n",
              "   1,\n",
              "   1,\n",
              "   0,\n",
              "   0,\n",
              "   1,\n",
              "   1,\n",
              "   0,\n",
              "   0,\n",
              "   0,\n",
              "   1,\n",
              "   1,\n",
              "   0,\n",
              "   1,\n",
              "   0,\n",
              "   0,\n",
              "   1,\n",
              "   0,\n",
              "   1,\n",
              "   0,\n",
              "   1,\n",
              "   0,\n",
              "   0,\n",
              "   0,\n",
              "   1,\n",
              "   1,\n",
              "   1,\n",
              "   0,\n",
              "   1,\n",
              "   0,\n",
              "   0,\n",
              "   1,\n",
              "   0,\n",
              "   0,\n",
              "   0,\n",
              "   1,\n",
              "   0,\n",
              "   1,\n",
              "   1,\n",
              "   1,\n",
              "   0,\n",
              "   1,\n",
              "   0,\n",
              "   0,\n",
              "   0,\n",
              "   0,\n",
              "   1,\n",
              "   1,\n",
              "   1,\n",
              "   0,\n",
              "   0,\n",
              "   1,\n",
              "   1,\n",
              "   1,\n",
              "   1,\n",
              "   0,\n",
              "   1,\n",
              "   0,\n",
              "   1,\n",
              "   1,\n",
              "   0,\n",
              "   1,\n",
              "   0,\n",
              "   0,\n",
              "   1,\n",
              "   0,\n",
              "   0,\n",
              "   1,\n",
              "   1,\n",
              "   1,\n",
              "   1,\n",
              "   0,\n",
              "   1,\n",
              "   0,\n",
              "   1,\n",
              "   0,\n",
              "   0,\n",
              "   0,\n",
              "   1,\n",
              "   0,\n",
              "   1,\n",
              "   1,\n",
              "   0,\n",
              "   0,\n",
              "   1,\n",
              "   1,\n",
              "   0,\n",
              "   0,\n",
              "   1,\n",
              "   1,\n",
              "   1,\n",
              "   1,\n",
              "   1,\n",
              "   0,\n",
              "   0,\n",
              "   1,\n",
              "   0,\n",
              "   1,\n",
              "   0,\n",
              "   0,\n",
              "   1,\n",
              "   0,\n",
              "   0,\n",
              "   0,\n",
              "   0,\n",
              "   1,\n",
              "   1,\n",
              "   1,\n",
              "   0,\n",
              "   0,\n",
              "   1,\n",
              "   1,\n",
              "   0,\n",
              "   0,\n",
              "   0,\n",
              "   0,\n",
              "   1,\n",
              "   1,\n",
              "   0,\n",
              "   0,\n",
              "   1,\n",
              "   0,\n",
              "   1,\n",
              "   0,\n",
              "   1],\n",
              "  235.0,\n",
              "  234),\n",
              " ([array([ 0.00841897, -0.01696665,  0.01339445,  0.04074972], dtype=float32),\n",
              "   array([ 0.00807964,  0.1779607 ,  0.01420945, -0.2476772 ], dtype=float32),\n",
              "   array([ 0.01163885,  0.37287685,  0.0092559 , -0.5358445 ], dtype=float32),\n",
              "   array([ 0.01909639,  0.17762598, -0.00146099, -0.24025956], dtype=float32),\n",
              "   array([ 0.02264891,  0.3727688 , -0.00626618, -0.533403  ], dtype=float32),\n",
              "   array([ 0.03010429,  0.17773551, -0.01693424, -0.24270104], dtype=float32),\n",
              "   array([ 0.033659  , -0.01714051, -0.02178826,  0.04459265], dtype=float32),\n",
              "   array([ 0.03331619, -0.21194336, -0.02089641,  0.33032233], dtype=float32),\n",
              "   array([ 0.02907732, -0.4067617 , -0.01428996,  0.61634296], dtype=float32),\n",
              "   array([ 0.02094208, -0.21144307, -0.0019631 ,  0.31919378], dtype=float32),\n",
              "   array([ 0.01671322, -0.01629321,  0.00442077,  0.02589243], dtype=float32),\n",
              "   array([ 0.01638736, -0.21147828,  0.00493862,  0.31996688], dtype=float32),\n",
              "   array([ 0.01215779, -0.01642701,  0.01133796,  0.02884548], dtype=float32),\n",
              "   array([ 0.01182925,  0.17853053,  0.01191487, -0.26023874], dtype=float32),\n",
              "   array([ 0.01539986, -0.01675947,  0.00671009,  0.03617835], dtype=float32),\n",
              "   array([ 0.01506468, -0.21197699,  0.00743366,  0.3309708 ], dtype=float32),\n",
              "   array([ 0.01082514, -0.40720397,  0.01405308,  0.62598866], dtype=float32),\n",
              "   array([ 0.00268106, -0.21228097,  0.02657285,  0.3377645 ], dtype=float32),\n",
              "   array([-0.00156456, -0.01754704,  0.03332814,  0.05357822], dtype=float32),\n",
              "   array([-0.0019155 , -0.21313062,  0.03439971,  0.35658735], dtype=float32),\n",
              "   array([-0.00617812, -0.01851421,  0.04153145,  0.07494693], dtype=float32),\n",
              "   array([-0.0065484 ,  0.1759885 ,  0.04303039, -0.2043488 ], dtype=float32),\n",
              "   array([-0.00302863,  0.3704695 ,  0.03894341, -0.48315325], dtype=float32),\n",
              "   array([ 0.00438076,  0.17482018,  0.02928035, -0.17845531], dtype=float32),\n",
              "   array([ 0.00787716, -0.02070828,  0.02571124,  0.12331886], dtype=float32),\n",
              "   array([ 0.007463  ,  0.17403607,  0.02817762, -0.16114283], dtype=float32),\n",
              "   array([ 0.01094372, -0.02147771,  0.02495476,  0.14029454], dtype=float32),\n",
              "   array([ 0.01051416,  0.17327811,  0.02776065, -0.1444123 ], dtype=float32),\n",
              "   array([ 0.01397973,  0.36799172,  0.02487241, -0.4282096 ], dtype=float32),\n",
              "   array([ 0.02133956,  0.17252651,  0.01630822, -0.12779072], dtype=float32),\n",
              "   array([ 0.02479009,  0.36741108,  0.0137524 , -0.4152843 ], dtype=float32),\n",
              "   array([ 0.03213831,  0.17209694,  0.00544672, -0.11829773], dtype=float32),\n",
              "   array([ 0.03558025,  0.36714044,  0.00308076, -0.4092573 ], dtype=float32),\n",
              "   array([ 0.04292306,  0.56221855, -0.00510438, -0.7009674 ], dtype=float32),\n",
              "   array([ 0.05416743,  0.36716774, -0.01912373, -0.40989563], dtype=float32),\n",
              "   array([ 0.06151079,  0.17232206, -0.02732164, -0.12330259], dtype=float32),\n",
              "   array([ 0.06495723, -0.02239802, -0.0297877 ,  0.16063696], dtype=float32),\n",
              "   array([ 0.06450927,  0.17313744, -0.02657496, -0.1412924 ], dtype=float32),\n",
              "   array([ 0.06797202,  0.36862972, -0.02940081, -0.44223937], dtype=float32),\n",
              "   array([ 0.07534461,  0.17393588, -0.03824559, -0.15896744], dtype=float32),\n",
              "   array([ 0.07882333,  0.3695839 , -0.04142494, -0.46346635], dtype=float32),\n",
              "   array([ 0.086215  ,  0.17507112, -0.05069427, -0.18412289], dtype=float32),\n",
              "   array([ 0.08971643, -0.01929021, -0.05437673,  0.09214682], dtype=float32),\n",
              "   array([ 0.08933063, -0.2135923 , -0.05253379,  0.3671903 ], dtype=float32),\n",
              "   array([ 0.08505878, -0.01776475, -0.04518998,  0.05841638], dtype=float32),\n",
              "   array([ 0.08470348,  0.17797503, -0.04402165, -0.24817488], dtype=float32),\n",
              "   array([ 0.08826298,  0.37369713, -0.04898515, -0.55441177], dtype=float32),\n",
              "   array([ 0.09573693,  0.17929599, -0.06007339, -0.27755573], dtype=float32),\n",
              "   array([ 0.09932285,  0.37522122, -0.06562451, -0.5885644 ], dtype=float32),\n",
              "   array([ 0.10682727,  0.18107665, -0.07739579, -0.31725416], dtype=float32),\n",
              "   array([ 0.11044881, -0.01286252, -0.08374088, -0.04994792], dtype=float32),\n",
              "   array([ 0.11019155, -0.20669009, -0.08473983,  0.21518356], dtype=float32),\n",
              "   array([ 0.10605775, -0.4005048 , -0.08043616,  0.4799787 ], dtype=float32),\n",
              "   array([ 0.09804766, -0.20434496, -0.07083659,  0.16306758], dtype=float32),\n",
              "   array([ 0.09396075, -0.0082842 , -0.06757524, -0.15109456], dtype=float32),\n",
              "   array([ 0.09379508, -0.20237672, -0.07059713,  0.11952774], dtype=float32),\n",
              "   array([ 0.08974754, -0.3964199 , -0.06820657,  0.38912916], dtype=float32),\n",
              "   array([ 0.08181914, -0.20039949, -0.06042399,  0.07574504], dtype=float32),\n",
              "   array([ 0.07781115, -0.39460552, -0.05890909,  0.34876856], dtype=float32),\n",
              "   array([ 0.06991904, -0.19869734, -0.05193372,  0.03810681], dtype=float32),\n",
              "   array([ 0.0659451 , -0.00287061, -0.05117158, -0.2704989 ], dtype=float32),\n",
              "   array([ 0.06588768, -0.1972264 , -0.05658156,  0.00561531], dtype=float32),\n",
              "   array([ 0.06194315, -0.39149317, -0.05646925,  0.27992302], dtype=float32),\n",
              "   array([ 0.05411329, -0.19561306, -0.05087079, -0.03002195], dtype=float32),\n",
              "   array([ 0.05020103, -0.38996997, -0.05147123,  0.24618673], dtype=float32),\n",
              "   array([ 0.04240163, -0.5843205 , -0.0465475 ,  0.5222005 ], dtype=float32),\n",
              "   array([ 0.03071522, -0.38857532, -0.03610349,  0.21522078], dtype=float32),\n",
              "   array([ 0.02294371, -0.1929563 , -0.03179907, -0.08862863], dtype=float32),\n",
              "   array([ 0.01908459, -0.38760838, -0.03357165,  0.19385451], dtype=float32),\n",
              "   array([ 0.01133242, -0.19202267, -0.02969455, -0.10922695], dtype=float32),\n",
              "   array([ 0.00749197, -0.3867068 , -0.03187909,  0.17394158], dtype=float32),\n",
              "   array([-0.00024217, -0.19114344, -0.02840026, -0.12862526], dtype=float32),\n",
              "   array([-0.00406504,  0.00437361, -0.03097277, -0.4301311 ], dtype=float32),\n",
              "   array([-0.00397757, -0.19029637, -0.03957539, -0.14737074], dtype=float32),\n",
              "   array([-0.00778349, -0.3848299 , -0.0425228 ,  0.13256894], dtype=float32),\n",
              "   array([-0.01548009, -0.18912545, -0.03987142, -0.1732203 ], dtype=float32),\n",
              "   array([-0.0192626 , -0.38365474, -0.04333583,  0.10662264], dtype=float32),\n",
              "   array([-0.02693569, -0.18793942, -0.04120338, -0.19941147], dtype=float32),\n",
              "   array([-0.03069448,  0.00774688, -0.04519161, -0.50480217], dtype=float32),\n",
              "   array([-0.03053954, -0.18671003, -0.05528765, -0.2266964 ], dtype=float32),\n",
              "   array([-0.03427374, -0.38100004, -0.05982158,  0.04804703], dtype=float32),\n",
              "   array([-0.04189375, -0.57521546, -0.05886064,  0.321272  ], dtype=float32),\n",
              "   array([-0.05339805, -0.37930682, -0.0524352 ,  0.01062292], dtype=float32),\n",
              "   array([-0.06098419, -0.18347363, -0.05222274, -0.29813203], dtype=float32),\n",
              "   array([-0.06465366, -0.3778138 , -0.05818538, -0.02236575], dtype=float32),\n",
              "   array([-0.07220994, -0.5720551 , -0.0586327 ,  0.25140634], dtype=float32),\n",
              "   array([-0.08365104, -0.37614703, -0.05360457, -0.05917893], dtype=float32),\n",
              "   array([-0.09117398, -0.57046103, -0.05478815,  0.21612124], dtype=float32),\n",
              "   array([-0.10258321, -0.7647587 , -0.05046573,  0.49103072], dtype=float32),\n",
              "   array([-0.11787838, -0.5689626 , -0.04064511,  0.18287978], dtype=float32),\n",
              "   array([-0.12925763, -0.76348007, -0.03698751,  0.46246868], dtype=float32),\n",
              "   array([-0.14452723, -0.5678554 , -0.02773814,  0.1583606 ], dtype=float32),\n",
              "   array([-0.15588434, -0.37234756, -0.02457093, -0.14294237], dtype=float32),\n",
              "   array([-0.16333129, -0.56710917, -0.02742977,  0.14188872], dtype=float32),\n",
              "   array([-0.17467347, -0.76182777, -0.024592  ,  0.42579338], dtype=float32),\n",
              "   array([-0.18991002, -0.56636626, -0.01607613,  0.12546048], dtype=float32),\n",
              "   array([-0.20123735, -0.76125425, -0.01356692,  0.4130285 ], dtype=float32),\n",
              "   array([-0.21646243, -0.9561813 , -0.00530635,  0.7014036 ], dtype=float32),\n",
              "   array([-0.23558606, -0.7609862 ,  0.00872172,  0.40705502], dtype=float32),\n",
              "   array([-0.2508058 , -0.56598896,  0.01686282,  0.1171345 ], dtype=float32),\n",
              "   array([-0.26212558, -0.7613484 ,  0.01920551,  0.41508946], dtype=float32),\n",
              "   array([-0.27735254, -0.5665039 ,  0.0275073 ,  0.12852259], dtype=float32),\n",
              "   array([-0.2886826 , -0.37178656,  0.03007775, -0.15535676], dtype=float32),\n",
              "   array([-0.29611835, -0.17710789,  0.02697062, -0.4384012 ], dtype=float32),\n",
              "   array([-0.2996605 , -0.37260097,  0.01820259, -0.13733977], dtype=float32),\n",
              "   array([-0.30711251, -0.17774442,  0.0154558 , -0.42422494], dtype=float32),\n",
              "   array([-0.3106674 , -0.37308186,  0.0069713 , -0.12670994], dtype=float32),\n",
              "   array([-0.31812903, -0.17806047,  0.0044371 , -0.41718537], dtype=float32),\n",
              "   array([-0.32169026,  0.01699832, -0.00390661, -0.7084662 ], dtype=float32),\n",
              "   array([-0.32135028, -0.17806931, -0.01807593, -0.41701552], dtype=float32),\n",
              "   array([-0.32491168,  0.01730409, -0.02641624, -0.71534175], dtype=float32),\n",
              "   array([-0.3245656 , -0.17744243, -0.04072308, -0.43108937], dtype=float32),\n",
              "   array([-0.32811445, -0.37196478, -0.04934486, -0.15151702], dtype=float32),\n",
              "   array([-0.33555374, -0.5663467 , -0.0523752 ,  0.12519945], dtype=float32),\n",
              "   array([-0.34688067, -0.37051508, -0.04987122, -0.18353647], dtype=float32),\n",
              "   array([-0.35429096, -0.17471632, -0.05354195, -0.4915255 ], dtype=float32),\n",
              "   array([-0.3577853 , -0.36904377, -0.06337246, -0.21618587], dtype=float32),\n",
              "   array([-0.3651662 , -0.5632052 , -0.06769618,  0.05585262], dtype=float32),\n",
              "   array([-0.37643027, -0.36718118, -0.06657912, -0.25739738], dtype=float32),\n",
              "   array([-0.3837739 , -0.5612925 , -0.07172707,  0.01356476], dtype=float32),\n",
              "   array([-0.39499974, -0.75531644, -0.07145578,  0.28278258], dtype=float32),\n",
              "   array([-0.4101061 , -0.5592519 , -0.06580012, -0.03155386], dtype=float32),\n",
              "   array([-0.4212911 , -0.75337154, -0.0664312 ,  0.23966423], dtype=float32),\n",
              "   array([-0.43635854, -0.5573666 , -0.06163792, -0.07321111], dtype=float32),\n",
              "   array([-0.4475059 , -0.75155324, -0.06310213,  0.1994056 ], dtype=float32),\n",
              "   array([-0.46253696, -0.9457185 , -0.05911402,  0.4715342 ], dtype=float32),\n",
              "   array([-0.48145133, -0.7498136 , -0.04968334,  0.16082072], dtype=float32),\n",
              "   array([-0.4964476 , -0.9441904 , -0.04646693,  0.4374252 ], dtype=float32),\n",
              "   array([-0.5153314 , -1.1386249 , -0.03771842,  0.7151058 ], dtype=float32),\n",
              "   array([-0.5381039 , -0.9430017 , -0.02341631,  0.41079307], dtype=float32),\n",
              "   array([-0.5569639 , -0.74755573, -0.01520045,  0.11082073], dtype=float32),\n",
              "   array([-0.57191503, -0.5522193 , -0.01298403, -0.18661883], dtype=float32),\n",
              "   array([-0.5829594 , -0.7471531 , -0.01671641,  0.10194002], dtype=float32),\n",
              "   array([-0.5979025 , -0.5517956 , -0.01467761, -0.19596966], dtype=float32),\n",
              "   array([-0.6089384 , -0.7467046 , -0.018597  ,  0.09204724], dtype=float32),\n",
              "   array([-0.6238725 , -0.5513211 , -0.01675606, -0.20644453], dtype=float32),\n",
              "   array([-0.6348989 , -0.7461994 , -0.02088495,  0.08090595], dtype=float32),\n",
              "   array([-0.6498229 , -0.5507844 , -0.01926683, -0.21829237], dtype=float32),\n",
              "   array([-0.6608386 , -0.35539243, -0.02363268, -0.51699007], dtype=float32),\n",
              "   array([-0.66794646, -0.15994583, -0.03397248, -0.8170255 ], dtype=float32),\n",
              "   array([-0.6711454 , -0.35458663, -0.05031299, -0.5352187 ], dtype=float32),\n",
              "   array([-0.6782371 , -0.54896635, -0.06101736, -0.25880393], dtype=float32),\n",
              "   array([-0.68921643, -0.7431665 , -0.06619344,  0.01402627], dtype=float32),\n",
              "   array([-0.70407975, -0.93727976, -0.06591292,  0.28511187], dtype=float32),\n",
              "   array([-0.72282535, -1.1314029 , -0.06021068,  0.5562997 ], dtype=float32),\n",
              "   array([-0.7454534 , -0.9354895 , -0.04908468,  0.24527104], dtype=float32),\n",
              "   array([-0.7641632 , -0.7397021 , -0.04417926, -0.06248145], dtype=float32),\n",
              "   array([-0.77895725, -0.9341637 , -0.04542889,  0.21594185], dtype=float32),\n",
              "   array([-0.7976405 , -1.1286077 , -0.04111005,  0.49395552], dtype=float32),\n",
              "   array([-0.82021266, -0.9329308 , -0.03123094,  0.1886052 ], dtype=float32),\n",
              "   array([-0.8388713 , -0.73737633, -0.02745884, -0.11376394], dtype=float32),\n",
              "   array([-0.8536188 , -0.9320943 , -0.02973412,  0.17013101], dtype=float32),\n",
              "   array([-0.8722607 , -0.7365596 , -0.0263315 , -0.13178186], dtype=float32),\n",
              "   array([-0.88699186, -0.5410706 , -0.02896713, -0.43265435], dtype=float32),\n",
              "   array([-0.8978133 , -0.7357707 , -0.03762022, -0.14924188], dtype=float32),\n",
              "   array([-0.9125287 , -0.93033427, -0.04060506,  0.13133931], dtype=float32),\n",
              "   array([-0.9311354 , -1.1248518 , -0.03797827,  0.4109404 ], dtype=float32),\n",
              "   array([-0.9536324 , -0.92921257, -0.02975946,  0.10653031], dtype=float32),\n",
              "   array([-0.97221667, -0.7336771 , -0.02762886, -0.19539106], dtype=float32),\n",
              "   array([-0.9868902 , -0.9283931 , -0.03153668,  0.08844972], dtype=float32),\n",
              "   array([-1.0054581 , -0.7328337 , -0.02976768, -0.21401386], dtype=float32),\n",
              "   array([-1.0201148 , -0.5372991 , -0.03404796, -0.51593626], dtype=float32),\n",
              "   array([-1.0308608 , -0.7319254 , -0.04436669, -0.23417406], dtype=float32),\n",
              "   array([-1.0454992 , -0.53619856, -0.04905017, -0.54051495], dtype=float32),\n",
              "   array([-1.0562233 , -0.730598  , -0.05986047, -0.26368153], dtype=float32),\n",
              "   array([-1.0708352 , -0.9248167 , -0.0651341 ,  0.00953627], dtype=float32),\n",
              "   array([-1.0893315 , -1.118947  , -0.06494337,  0.28097835], dtype=float32),\n",
              "   array([-1.1117104 , -1.3130853 , -0.05932381,  0.5524921 ], dtype=float32),\n",
              "   array([-1.1379721 , -1.1171826 , -0.04827397,  0.24172397], dtype=float32),\n",
              "   array([-1.1603159 , -0.92140555, -0.04343949, -0.06578658], dtype=float32),\n",
              "   array([-1.178744  , -1.1158787 , -0.04475522,  0.21288069], dtype=float32),\n",
              "   array([-1.2010615 , -0.92014635, -0.0404976 , -0.09357741], dtype=float32),\n",
              "   array([-1.2194644 , -0.72446805, -0.04236915, -0.39875725], dtype=float32),\n",
              "   array([-1.2339538 , -0.52877146, -0.0503443 , -0.7044915 ], dtype=float32),\n",
              "   array([-1.2445292 , -0.723161  , -0.06443413, -0.42807165], dtype=float32),\n",
              "   array([-1.2589924 , -0.917314  , -0.07299556, -0.15637697], dtype=float32),\n",
              "   array([-1.2773387 , -1.1113191 , -0.0761231 ,  0.11241399], dtype=float32),\n",
              "   array([-1.2995651 , -0.91519356, -0.07387482, -0.20328091], dtype=float32),\n",
              "   array([-1.317869  , -1.1091855 , -0.07794043,  0.06521394], dtype=float32),\n",
              "   array([-1.3400527 , -0.91303766, -0.07663616, -0.25100598], dtype=float32),\n",
              "   array([-1.3583134 , -1.1069863 , -0.08165628,  0.0165542 ], dtype=float32),\n",
              "   array([-1.3804531, -1.300848 , -0.0813252,  0.2823976], dtype=float32),\n",
              "   array([-1.4064701 , -1.104666  , -0.07567724, -0.03478621], dtype=float32),\n",
              "   array([-1.4285635 , -0.90854496, -0.07637297, -0.35035363], dtype=float32),\n",
              "   array([-1.4467343 , -1.1025023 , -0.08338004, -0.08269739], dtype=float32),\n",
              "   array([-1.4687843 , -1.2963363 , -0.08503398,  0.18255799], dtype=float32),\n",
              "   array([-1.4947112 , -1.100107  , -0.08138283, -0.13569225], dtype=float32),\n",
              "   array([-1.5167133 , -1.2939746 , -0.08409667,  0.13024661], dtype=float32),\n",
              "   array([-1.5425928 , -1.4877975 , -0.08149174,  0.3952582 ], dtype=float32),\n",
              "   array([-1.5723487 , -1.2916195 , -0.07358658,  0.07803573], dtype=float32),\n",
              "   array([-1.5981811 , -1.4856137 , -0.07202586,  0.3466245 ], dtype=float32),\n",
              "   array([-1.6278933 , -1.289545  , -0.06509337,  0.03212681], dtype=float32),\n",
              "   array([-1.6536843 , -1.4836761 , -0.06445084,  0.3035827 ], dtype=float32),\n",
              "   array([-1.6833578 , -1.2876977 , -0.05837918, -0.00871005], dtype=float32),\n",
              "   array([-1.7091117 , -1.0917891 , -0.05855338, -0.3192259 ], dtype=float32),\n",
              "   array([-1.7309475 , -0.89588434, -0.0649379 , -0.62978446], dtype=float32),\n",
              "   array([-1.7488652 , -1.0900428 , -0.07753359, -0.35823882], dtype=float32),\n",
              "   array([-1.7706661 , -1.2839819 , -0.08469836, -0.09097628], dtype=float32),\n",
              "   array([-1.7963457 , -1.0877545 , -0.08651789, -0.4091338 ], dtype=float32),\n",
              "   array([-1.8181008 , -1.28155   , -0.09470057, -0.14493227], dtype=float32),\n",
              "   array([-1.8437318 , -1.0852084 , -0.09759921, -0.4659254 ], dtype=float32),\n",
              "   array([-1.865436  , -0.8888527 , -0.10691772, -0.78770596], dtype=float32),\n",
              "   array([-1.883213  , -0.69243735, -0.12267184, -1.1120206 ], dtype=float32),\n",
              "   array([-1.8970617 , -0.8857534 , -0.14491226, -0.8602007 ], dtype=float32),\n",
              "   array([-1.9147768 , -1.078636  , -0.16211626, -0.61636454], dtype=float32),\n",
              "   array([-1.9363495 , -1.2711663 , -0.17444356, -0.37880948], dtype=float32),\n",
              "   array([-1.9617729 , -1.0740519 , -0.18201974, -0.72102064], dtype=float32),\n",
              "   array([-1.983254  , -1.2662516 , -0.19644016, -0.49070242], dtype=float32),\n",
              "   array([-2.008579 , -1.4581392, -0.2062542, -0.2657894], dtype=float32)],\n",
              "  [1,\n",
              "   1,\n",
              "   0,\n",
              "   1,\n",
              "   0,\n",
              "   0,\n",
              "   0,\n",
              "   0,\n",
              "   1,\n",
              "   1,\n",
              "   0,\n",
              "   1,\n",
              "   1,\n",
              "   0,\n",
              "   0,\n",
              "   0,\n",
              "   1,\n",
              "   1,\n",
              "   0,\n",
              "   1,\n",
              "   1,\n",
              "   1,\n",
              "   0,\n",
              "   0,\n",
              "   1,\n",
              "   0,\n",
              "   1,\n",
              "   1,\n",
              "   0,\n",
              "   1,\n",
              "   0,\n",
              "   1,\n",
              "   1,\n",
              "   0,\n",
              "   0,\n",
              "   0,\n",
              "   1,\n",
              "   1,\n",
              "   0,\n",
              "   1,\n",
              "   0,\n",
              "   0,\n",
              "   0,\n",
              "   1,\n",
              "   1,\n",
              "   1,\n",
              "   0,\n",
              "   1,\n",
              "   0,\n",
              "   0,\n",
              "   0,\n",
              "   0,\n",
              "   1,\n",
              "   1,\n",
              "   0,\n",
              "   0,\n",
              "   1,\n",
              "   0,\n",
              "   1,\n",
              "   1,\n",
              "   0,\n",
              "   0,\n",
              "   1,\n",
              "   0,\n",
              "   0,\n",
              "   1,\n",
              "   1,\n",
              "   0,\n",
              "   1,\n",
              "   0,\n",
              "   1,\n",
              "   1,\n",
              "   0,\n",
              "   0,\n",
              "   1,\n",
              "   0,\n",
              "   1,\n",
              "   1,\n",
              "   0,\n",
              "   0,\n",
              "   0,\n",
              "   1,\n",
              "   1,\n",
              "   0,\n",
              "   0,\n",
              "   1,\n",
              "   0,\n",
              "   0,\n",
              "   1,\n",
              "   0,\n",
              "   1,\n",
              "   1,\n",
              "   0,\n",
              "   0,\n",
              "   1,\n",
              "   0,\n",
              "   0,\n",
              "   1,\n",
              "   1,\n",
              "   0,\n",
              "   1,\n",
              "   1,\n",
              "   1,\n",
              "   0,\n",
              "   1,\n",
              "   0,\n",
              "   1,\n",
              "   1,\n",
              "   0,\n",
              "   1,\n",
              "   0,\n",
              "   0,\n",
              "   0,\n",
              "   1,\n",
              "   1,\n",
              "   0,\n",
              "   0,\n",
              "   1,\n",
              "   0,\n",
              "   0,\n",
              "   1,\n",
              "   0,\n",
              "   1,\n",
              "   0,\n",
              "   0,\n",
              "   1,\n",
              "   0,\n",
              "   0,\n",
              "   1,\n",
              "   1,\n",
              "   1,\n",
              "   0,\n",
              "   1,\n",
              "   0,\n",
              "   1,\n",
              "   0,\n",
              "   1,\n",
              "   1,\n",
              "   1,\n",
              "   0,\n",
              "   0,\n",
              "   0,\n",
              "   0,\n",
              "   0,\n",
              "   1,\n",
              "   1,\n",
              "   0,\n",
              "   0,\n",
              "   1,\n",
              "   1,\n",
              "   0,\n",
              "   1,\n",
              "   1,\n",
              "   0,\n",
              "   0,\n",
              "   0,\n",
              "   1,\n",
              "   1,\n",
              "   0,\n",
              "   1,\n",
              "   1,\n",
              "   0,\n",
              "   1,\n",
              "   0,\n",
              "   0,\n",
              "   0,\n",
              "   0,\n",
              "   1,\n",
              "   1,\n",
              "   0,\n",
              "   1,\n",
              "   1,\n",
              "   1,\n",
              "   0,\n",
              "   0,\n",
              "   0,\n",
              "   1,\n",
              "   0,\n",
              "   1,\n",
              "   0,\n",
              "   0,\n",
              "   1,\n",
              "   1,\n",
              "   0,\n",
              "   0,\n",
              "   1,\n",
              "   0,\n",
              "   0,\n",
              "   1,\n",
              "   0,\n",
              "   1,\n",
              "   0,\n",
              "   1,\n",
              "   1,\n",
              "   1,\n",
              "   0,\n",
              "   0,\n",
              "   1,\n",
              "   0,\n",
              "   1,\n",
              "   1,\n",
              "   1,\n",
              "   0,\n",
              "   0,\n",
              "   0,\n",
              "   1,\n",
              "   0,\n",
              "   0,\n",
              "   0],\n",
              "  209.0,\n",
              "  208)]"
            ]
          },
          "metadata": {},
          "execution_count": 48
        }
      ]
    },
    {
      "cell_type": "markdown",
      "metadata": {
        "id": "mijAvBy1DqvA"
      },
      "source": [
        "# Training loop\n",
        "Generate sessions, select N best and fit to those."
      ]
    },
    {
      "cell_type": "code",
      "execution_count": 20,
      "metadata": {
        "id": "q-cPQNyrDqvB"
      },
      "outputs": [],
      "source": [
        "from IPython.display import clear_output\n",
        "\n",
        "def show_progress(rewards_batch, log, percentile, reward_range=[-990, +10]):\n",
        "    \"\"\"\n",
        "    A convenience function that displays training progress. \n",
        "    No cool math here, just charts.\n",
        "    \"\"\"\n",
        "\n",
        "    mean_reward = np.mean(rewards_batch)\n",
        "    threshold = np.percentile(rewards_batch, percentile)\n",
        "    log.append([mean_reward, threshold])\n",
        "\n",
        "    print(\"mean reward = %.3f, threshold=%.3f\" % (mean_reward, threshold))\n",
        "    plt.figure(figsize=[8, 4])\n",
        "    plt.subplot(1, 2, 1)\n",
        "    plt.plot(list(zip(*log))[0], label='Mean rewards')\n",
        "    plt.plot(list(zip(*log))[1], label='Reward thresholds')\n",
        "    plt.legend()\n",
        "    plt.grid()\n",
        "\n",
        "    plt.subplot(1, 2, 2)\n",
        "    plt.hist(rewards_batch, range=reward_range)\n",
        "    plt.vlines([np.percentile(rewards_batch, percentile)],\n",
        "               [0], [100], label=f\"percentile {percentile}%\", color='red')\n",
        "    plt.legend()\n",
        "    plt.grid()\n",
        "\n",
        "    clear_output(True)\n",
        "    plt.show()"
      ]
    },
    {
      "cell_type": "code",
      "source": [
        "# Reinitialize the Agent\n",
        "agent = MLPClassifier(\n",
        "    hidden_layer_sizes=(20, 20),\n",
        "    activation='tanh',\n",
        ")\n",
        "\n",
        "# initialize agent to the dimension of state space and number of actions\n",
        "agent.partial_fit([env.reset()] * n_actions, range(n_actions), range(n_actions))"
      ],
      "metadata": {
        "id": "cLJ2FjI8ZnAf",
        "outputId": "375561f4-1cc7-4418-98d6-0c384572d7c2",
        "colab": {
          "base_uri": "https://localhost:8080/"
        }
      },
      "execution_count": 21,
      "outputs": [
        {
          "output_type": "execute_result",
          "data": {
            "text/plain": [
              "MLPClassifier(activation='tanh', hidden_layer_sizes=(20, 20))"
            ]
          },
          "metadata": {},
          "execution_count": 21
        }
      ]
    },
    {
      "cell_type": "code",
      "execution_count": 22,
      "metadata": {
        "colab": {
          "base_uri": "https://localhost:8080/",
          "height": 647
        },
        "id": "YNMI4IA6DqvB",
        "outputId": "286e889a-8e5e-4cfa-b92b-0e04190a668c"
      },
      "outputs": [
        {
          "output_type": "display_data",
          "data": {
            "text/plain": [
              "<Figure size 576x288 with 2 Axes>"
            ],
            "image/png": "[encoded data removed]"
          },
          "metadata": {
            "needs_background": "light"
          }
        },
        {
          "output_type": "stream",
          "name": "stdout",
          "text": [
            "Epoch: 30, mean episode len: 155.63, epoch_time: 75.95891070365906\n"
          ]
        },
        {
          "output_type": "error",
          "ename": "KeyboardInterrupt",
          "evalue": "ignored",
          "traceback": [
            "\u001b[0;31m---------------------------------------------------------------------------\u001b[0m",
            "\u001b[0;31mKeyboardInterrupt\u001b[0m                         Traceback (most recent call last)",
            "\u001b[0;32m<ipython-input-22-22f264914db6>\u001b[0m in \u001b[0;36m<module>\u001b[0;34m\u001b[0m\n\u001b[1;32m      8\u001b[0m     \u001b[0mepoch_start_time\u001b[0m \u001b[0;34m=\u001b[0m \u001b[0mtime\u001b[0m\u001b[0;34m.\u001b[0m\u001b[0mtime\u001b[0m\u001b[0;34m(\u001b[0m\u001b[0;34m)\u001b[0m\u001b[0;34m\u001b[0m\u001b[0;34m\u001b[0m\u001b[0m\n\u001b[1;32m      9\u001b[0m     \u001b[0;31m# generate new sessions\u001b[0m\u001b[0;34m\u001b[0m\u001b[0;34m\u001b[0m\u001b[0;34m\u001b[0m\u001b[0m\n\u001b[0;32m---> 10\u001b[0;31m     \u001b[0msessions\u001b[0m \u001b[0;34m=\u001b[0m \u001b[0;34m[\u001b[0m\u001b[0mgenerate_session\u001b[0m\u001b[0;34m(\u001b[0m\u001b[0magent\u001b[0m\u001b[0;34m,\u001b[0m \u001b[0mt_max\u001b[0m\u001b[0;34m=\u001b[0m\u001b[0;36m500\u001b[0m\u001b[0;34m,\u001b[0m \u001b[0mrenderer\u001b[0m\u001b[0;34m=\u001b[0m\u001b[0;32mFalse\u001b[0m\u001b[0;34m,\u001b[0m \u001b[0mtest\u001b[0m\u001b[0;34m=\u001b[0m\u001b[0;32mFalse\u001b[0m\u001b[0;34m)\u001b[0m \u001b[0;32mfor\u001b[0m \u001b[0m_\u001b[0m \u001b[0;32min\u001b[0m \u001b[0mrange\u001b[0m\u001b[0;34m(\u001b[0m\u001b[0;36m0\u001b[0m\u001b[0;34m,\u001b[0m \u001b[0mn_sessions\u001b[0m\u001b[0;34m)\u001b[0m\u001b[0;34m]\u001b[0m\u001b[0;34m\u001b[0m\u001b[0;34m\u001b[0m\u001b[0m\n\u001b[0m\u001b[1;32m     11\u001b[0m     \u001b[0mstates_batch\u001b[0m\u001b[0;34m,\u001b[0m \u001b[0mactions_batch\u001b[0m\u001b[0;34m,\u001b[0m \u001b[0mrewards_batch\u001b[0m\u001b[0;34m,\u001b[0m \u001b[0mepisode_len_batch\u001b[0m \u001b[0;34m=\u001b[0m \u001b[0mmap\u001b[0m\u001b[0;34m(\u001b[0m\u001b[0mnp\u001b[0m\u001b[0;34m.\u001b[0m\u001b[0marray\u001b[0m\u001b[0;34m,\u001b[0m \u001b[0mzip\u001b[0m\u001b[0;34m(\u001b[0m\u001b[0;34m*\u001b[0m\u001b[0msessions\u001b[0m\u001b[0;34m)\u001b[0m\u001b[0;34m)\u001b[0m\u001b[0;34m\u001b[0m\u001b[0;34m\u001b[0m\u001b[0m\n\u001b[1;32m     12\u001b[0m \u001b[0;34m\u001b[0m\u001b[0m\n",
            "\u001b[0;32m<ipython-input-22-22f264914db6>\u001b[0m in \u001b[0;36m<listcomp>\u001b[0;34m(.0)\u001b[0m\n\u001b[1;32m      8\u001b[0m     \u001b[0mepoch_start_time\u001b[0m \u001b[0;34m=\u001b[0m \u001b[0mtime\u001b[0m\u001b[0;34m.\u001b[0m\u001b[0mtime\u001b[0m\u001b[0;34m(\u001b[0m\u001b[0;34m)\u001b[0m\u001b[0;34m\u001b[0m\u001b[0;34m\u001b[0m\u001b[0m\n\u001b[1;32m      9\u001b[0m     \u001b[0;31m# generate new sessions\u001b[0m\u001b[0;34m\u001b[0m\u001b[0;34m\u001b[0m\u001b[0;34m\u001b[0m\u001b[0m\n\u001b[0;32m---> 10\u001b[0;31m     \u001b[0msessions\u001b[0m \u001b[0;34m=\u001b[0m \u001b[0;34m[\u001b[0m\u001b[0mgenerate_session\u001b[0m\u001b[0;34m(\u001b[0m\u001b[0magent\u001b[0m\u001b[0;34m,\u001b[0m \u001b[0mt_max\u001b[0m\u001b[0;34m=\u001b[0m\u001b[0;36m500\u001b[0m\u001b[0;34m,\u001b[0m \u001b[0mrenderer\u001b[0m\u001b[0;34m=\u001b[0m\u001b[0;32mFalse\u001b[0m\u001b[0;34m,\u001b[0m \u001b[0mtest\u001b[0m\u001b[0;34m=\u001b[0m\u001b[0;32mFalse\u001b[0m\u001b[0;34m)\u001b[0m \u001b[0;32mfor\u001b[0m \u001b[0m_\u001b[0m \u001b[0;32min\u001b[0m \u001b[0mrange\u001b[0m\u001b[0;34m(\u001b[0m\u001b[0;36m0\u001b[0m\u001b[0;34m,\u001b[0m \u001b[0mn_sessions\u001b[0m\u001b[0;34m)\u001b[0m\u001b[0;34m]\u001b[0m\u001b[0;34m\u001b[0m\u001b[0;34m\u001b[0m\u001b[0m\n\u001b[0m\u001b[1;32m     11\u001b[0m     \u001b[0mstates_batch\u001b[0m\u001b[0;34m,\u001b[0m \u001b[0mactions_batch\u001b[0m\u001b[0;34m,\u001b[0m \u001b[0mrewards_batch\u001b[0m\u001b[0;34m,\u001b[0m \u001b[0mepisode_len_batch\u001b[0m \u001b[0;34m=\u001b[0m \u001b[0mmap\u001b[0m\u001b[0;34m(\u001b[0m\u001b[0mnp\u001b[0m\u001b[0;34m.\u001b[0m\u001b[0marray\u001b[0m\u001b[0;34m,\u001b[0m \u001b[0mzip\u001b[0m\u001b[0;34m(\u001b[0m\u001b[0;34m*\u001b[0m\u001b[0msessions\u001b[0m\u001b[0;34m)\u001b[0m\u001b[0;34m)\u001b[0m\u001b[0;34m\u001b[0m\u001b[0;34m\u001b[0m\u001b[0m\n\u001b[1;32m     12\u001b[0m \u001b[0;34m\u001b[0m\u001b[0m\n",
            "\u001b[0;32m<ipython-input-15-920b599549b4>\u001b[0m in \u001b[0;36mgenerate_session\u001b[0;34m(agent, t_max, renderer, test)\u001b[0m\n\u001b[1;32m     31\u001b[0m \u001b[0;34m\u001b[0m\u001b[0m\n\u001b[1;32m     32\u001b[0m \u001b[0;34m\u001b[0m\u001b[0m\n\u001b[0;32m---> 33\u001b[0;31m         \u001b[0mnew_s\u001b[0m\u001b[0;34m,\u001b[0m \u001b[0mr\u001b[0m\u001b[0;34m,\u001b[0m \u001b[0mdone\u001b[0m\u001b[0;34m,\u001b[0m \u001b[0mtruenc\u001b[0m\u001b[0;34m,\u001b[0m \u001b[0minfo\u001b[0m \u001b[0;34m=\u001b[0m \u001b[0menv\u001b[0m\u001b[0;34m.\u001b[0m\u001b[0mstep\u001b[0m\u001b[0;34m(\u001b[0m\u001b[0ma\u001b[0m\u001b[0;34m)\u001b[0m\u001b[0;34m\u001b[0m\u001b[0;34m\u001b[0m\u001b[0m\n\u001b[0m\u001b[1;32m     34\u001b[0m \u001b[0;34m\u001b[0m\u001b[0m\n\u001b[1;32m     35\u001b[0m         \u001b[0;32mif\u001b[0m \u001b[0misinstance\u001b[0m\u001b[0;34m(\u001b[0m\u001b[0mrenderer\u001b[0m\u001b[0;34m,\u001b[0m \u001b[0mbool\u001b[0m\u001b[0;34m)\u001b[0m\u001b[0;34m:\u001b[0m\u001b[0;34m\u001b[0m\u001b[0;34m\u001b[0m\u001b[0m\n",
            "\u001b[0;32m/usr/local/lib/python3.7/dist-packages/gym/wrappers/time_limit.py\u001b[0m in \u001b[0;36mstep\u001b[0;34m(self, action)\u001b[0m\n\u001b[1;32m     58\u001b[0m         \"\"\"\n\u001b[1;32m     59\u001b[0m         observation, reward, terminated, truncated, info = step_api_compatibility(\n\u001b[0;32m---> 60\u001b[0;31m             \u001b[0mself\u001b[0m\u001b[0;34m.\u001b[0m\u001b[0menv\u001b[0m\u001b[0;34m.\u001b[0m\u001b[0mstep\u001b[0m\u001b[0;34m(\u001b[0m\u001b[0maction\u001b[0m\u001b[0;34m)\u001b[0m\u001b[0;34m,\u001b[0m\u001b[0;34m\u001b[0m\u001b[0;34m\u001b[0m\u001b[0m\n\u001b[0m\u001b[1;32m     61\u001b[0m             \u001b[0;32mTrue\u001b[0m\u001b[0;34m,\u001b[0m\u001b[0;34m\u001b[0m\u001b[0;34m\u001b[0m\u001b[0m\n\u001b[1;32m     62\u001b[0m         )\n",
            "\u001b[0;32m/usr/local/lib/python3.7/dist-packages/gym/wrappers/order_enforcing.py\u001b[0m in \u001b[0;36mstep\u001b[0;34m(self, action)\u001b[0m\n\u001b[1;32m     35\u001b[0m         \u001b[0;32mif\u001b[0m \u001b[0;32mnot\u001b[0m \u001b[0mself\u001b[0m\u001b[0;34m.\u001b[0m\u001b[0m_has_reset\u001b[0m\u001b[0;34m:\u001b[0m\u001b[0;34m\u001b[0m\u001b[0;34m\u001b[0m\u001b[0m\n\u001b[1;32m     36\u001b[0m             \u001b[0;32mraise\u001b[0m \u001b[0mResetNeeded\u001b[0m\u001b[0;34m(\u001b[0m\u001b[0;34m\"Cannot call env.step() before calling env.reset()\"\u001b[0m\u001b[0;34m)\u001b[0m\u001b[0;34m\u001b[0m\u001b[0;34m\u001b[0m\u001b[0m\n\u001b[0;32m---> 37\u001b[0;31m         \u001b[0;32mreturn\u001b[0m \u001b[0mself\u001b[0m\u001b[0;34m.\u001b[0m\u001b[0menv\u001b[0m\u001b[0;34m.\u001b[0m\u001b[0mstep\u001b[0m\u001b[0;34m(\u001b[0m\u001b[0maction\u001b[0m\u001b[0;34m)\u001b[0m\u001b[0;34m\u001b[0m\u001b[0;34m\u001b[0m\u001b[0m\n\u001b[0m\u001b[1;32m     38\u001b[0m \u001b[0;34m\u001b[0m\u001b[0m\n\u001b[1;32m     39\u001b[0m     \u001b[0;32mdef\u001b[0m \u001b[0mreset\u001b[0m\u001b[0;34m(\u001b[0m\u001b[0mself\u001b[0m\u001b[0;34m,\u001b[0m \u001b[0;34m**\u001b[0m\u001b[0mkwargs\u001b[0m\u001b[0;34m)\u001b[0m\u001b[0;34m:\u001b[0m\u001b[0;34m\u001b[0m\u001b[0;34m\u001b[0m\u001b[0m\n",
            "\u001b[0;32m/usr/local/lib/python3.7/dist-packages/gym/wrappers/step_api_compatibility.py\u001b[0m in \u001b[0;36mstep\u001b[0;34m(self, action)\u001b[0m\n\u001b[1;32m     50\u001b[0m             \u001b[0;34m(\u001b[0m\u001b[0mobservation\u001b[0m\u001b[0;34m,\u001b[0m \u001b[0mreward\u001b[0m\u001b[0;34m,\u001b[0m \u001b[0mterminated\u001b[0m\u001b[0;34m,\u001b[0m \u001b[0mtruncated\u001b[0m\u001b[0;34m,\u001b[0m \u001b[0minfo\u001b[0m\u001b[0;34m)\u001b[0m \u001b[0;32mor\u001b[0m \u001b[0;34m(\u001b[0m\u001b[0mobservation\u001b[0m\u001b[0;34m,\u001b[0m \u001b[0mreward\u001b[0m\u001b[0;34m,\u001b[0m \u001b[0mdone\u001b[0m\u001b[0;34m,\u001b[0m \u001b[0minfo\u001b[0m\u001b[0;34m)\u001b[0m\u001b[0;34m\u001b[0m\u001b[0;34m\u001b[0m\u001b[0m\n\u001b[1;32m     51\u001b[0m         \"\"\"\n\u001b[0;32m---> 52\u001b[0;31m         \u001b[0mstep_returns\u001b[0m \u001b[0;34m=\u001b[0m \u001b[0mself\u001b[0m\u001b[0;34m.\u001b[0m\u001b[0menv\u001b[0m\u001b[0;34m.\u001b[0m\u001b[0mstep\u001b[0m\u001b[0;34m(\u001b[0m\u001b[0maction\u001b[0m\u001b[0;34m)\u001b[0m\u001b[0;34m\u001b[0m\u001b[0;34m\u001b[0m\u001b[0m\n\u001b[0m\u001b[1;32m     53\u001b[0m         \u001b[0;32mif\u001b[0m \u001b[0mself\u001b[0m\u001b[0;34m.\u001b[0m\u001b[0mnew_step_api\u001b[0m\u001b[0;34m:\u001b[0m\u001b[0;34m\u001b[0m\u001b[0;34m\u001b[0m\u001b[0m\n\u001b[1;32m     54\u001b[0m             \u001b[0;32mreturn\u001b[0m \u001b[0mstep_to_new_api\u001b[0m\u001b[0;34m(\u001b[0m\u001b[0mstep_returns\u001b[0m\u001b[0;34m)\u001b[0m\u001b[0;34m\u001b[0m\u001b[0;34m\u001b[0m\u001b[0m\n",
            "\u001b[0;32m/usr/local/lib/python3.7/dist-packages/gym/wrappers/env_checker.py\u001b[0m in \u001b[0;36mstep\u001b[0;34m(self, action)\u001b[0m\n\u001b[1;32m     37\u001b[0m             \u001b[0;32mreturn\u001b[0m \u001b[0menv_step_passive_checker\u001b[0m\u001b[0;34m(\u001b[0m\u001b[0mself\u001b[0m\u001b[0;34m.\u001b[0m\u001b[0menv\u001b[0m\u001b[0;34m,\u001b[0m \u001b[0maction\u001b[0m\u001b[0;34m)\u001b[0m\u001b[0;34m\u001b[0m\u001b[0;34m\u001b[0m\u001b[0m\n\u001b[1;32m     38\u001b[0m         \u001b[0;32melse\u001b[0m\u001b[0;34m:\u001b[0m\u001b[0;34m\u001b[0m\u001b[0;34m\u001b[0m\u001b[0m\n\u001b[0;32m---> 39\u001b[0;31m             \u001b[0;32mreturn\u001b[0m \u001b[0mself\u001b[0m\u001b[0;34m.\u001b[0m\u001b[0menv\u001b[0m\u001b[0;34m.\u001b[0m\u001b[0mstep\u001b[0m\u001b[0;34m(\u001b[0m\u001b[0maction\u001b[0m\u001b[0;34m)\u001b[0m\u001b[0;34m\u001b[0m\u001b[0;34m\u001b[0m\u001b[0m\n\u001b[0m\u001b[1;32m     40\u001b[0m \u001b[0;34m\u001b[0m\u001b[0m\n\u001b[1;32m     41\u001b[0m     \u001b[0;32mdef\u001b[0m \u001b[0mreset\u001b[0m\u001b[0;34m(\u001b[0m\u001b[0mself\u001b[0m\u001b[0;34m,\u001b[0m \u001b[0;34m**\u001b[0m\u001b[0mkwargs\u001b[0m\u001b[0;34m)\u001b[0m\u001b[0;34m:\u001b[0m\u001b[0;34m\u001b[0m\u001b[0;34m\u001b[0m\u001b[0m\n",
            "\u001b[0;32m/usr/local/lib/python3.7/dist-packages/gym/envs/classic_control/cartpole.py\u001b[0m in \u001b[0;36mstep\u001b[0;34m(self, action)\u001b[0m\n\u001b[1;32m    186\u001b[0m             \u001b[0mreward\u001b[0m \u001b[0;34m=\u001b[0m \u001b[0;36m0.0\u001b[0m\u001b[0;34m\u001b[0m\u001b[0;34m\u001b[0m\u001b[0m\n\u001b[1;32m    187\u001b[0m \u001b[0;34m\u001b[0m\u001b[0m\n\u001b[0;32m--> 188\u001b[0;31m         \u001b[0mself\u001b[0m\u001b[0;34m.\u001b[0m\u001b[0mrenderer\u001b[0m\u001b[0;34m.\u001b[0m\u001b[0mrender_step\u001b[0m\u001b[0;34m(\u001b[0m\u001b[0;34m)\u001b[0m\u001b[0;34m\u001b[0m\u001b[0;34m\u001b[0m\u001b[0m\n\u001b[0m\u001b[1;32m    189\u001b[0m         \u001b[0;32mreturn\u001b[0m \u001b[0mnp\u001b[0m\u001b[0;34m.\u001b[0m\u001b[0marray\u001b[0m\u001b[0;34m(\u001b[0m\u001b[0mself\u001b[0m\u001b[0;34m.\u001b[0m\u001b[0mstate\u001b[0m\u001b[0;34m,\u001b[0m \u001b[0mdtype\u001b[0m\u001b[0;34m=\u001b[0m\u001b[0mnp\u001b[0m\u001b[0;34m.\u001b[0m\u001b[0mfloat32\u001b[0m\u001b[0;34m)\u001b[0m\u001b[0;34m,\u001b[0m \u001b[0mreward\u001b[0m\u001b[0;34m,\u001b[0m \u001b[0mterminated\u001b[0m\u001b[0;34m,\u001b[0m \u001b[0;32mFalse\u001b[0m\u001b[0;34m,\u001b[0m \u001b[0;34m{\u001b[0m\u001b[0;34m}\u001b[0m\u001b[0;34m\u001b[0m\u001b[0;34m\u001b[0m\u001b[0m\n\u001b[1;32m    190\u001b[0m \u001b[0;34m\u001b[0m\u001b[0m\n",
            "\u001b[0;32m/usr/local/lib/python3.7/dist-packages/gym/utils/renderer.py\u001b[0m in \u001b[0;36mrender_step\u001b[0;34m(self)\u001b[0m\n\u001b[1;32m     56\u001b[0m         \"\"\"\n\u001b[1;32m     57\u001b[0m         \u001b[0;32mif\u001b[0m \u001b[0mself\u001b[0m\u001b[0;34m.\u001b[0m\u001b[0mmode\u001b[0m \u001b[0;32mis\u001b[0m \u001b[0;32mnot\u001b[0m \u001b[0;32mNone\u001b[0m \u001b[0;32mand\u001b[0m \u001b[0mself\u001b[0m\u001b[0;34m.\u001b[0m\u001b[0mmode\u001b[0m \u001b[0;32mnot\u001b[0m \u001b[0;32min\u001b[0m \u001b[0mself\u001b[0m\u001b[0;34m.\u001b[0m\u001b[0msingle_render\u001b[0m\u001b[0;34m:\u001b[0m\u001b[0;34m\u001b[0m\u001b[0;34m\u001b[0m\u001b[0m\n\u001b[0;32m---> 58\u001b[0;31m             \u001b[0mrender_return\u001b[0m \u001b[0;34m=\u001b[0m \u001b[0mself\u001b[0m\u001b[0;34m.\u001b[0m\u001b[0mrender\u001b[0m\u001b[0;34m(\u001b[0m\u001b[0mself\u001b[0m\u001b[0;34m.\u001b[0m\u001b[0mmode\u001b[0m\u001b[0;34m)\u001b[0m\u001b[0;34m\u001b[0m\u001b[0;34m\u001b[0m\u001b[0m\n\u001b[0m\u001b[1;32m     59\u001b[0m             \u001b[0;32mif\u001b[0m \u001b[0mself\u001b[0m\u001b[0;34m.\u001b[0m\u001b[0mmode\u001b[0m \u001b[0;32mnot\u001b[0m \u001b[0;32min\u001b[0m \u001b[0mself\u001b[0m\u001b[0;34m.\u001b[0m\u001b[0mno_returns_render\u001b[0m\u001b[0;34m:\u001b[0m\u001b[0;34m\u001b[0m\u001b[0;34m\u001b[0m\u001b[0m\n\u001b[1;32m     60\u001b[0m                 \u001b[0mself\u001b[0m\u001b[0;34m.\u001b[0m\u001b[0mrender_list\u001b[0m\u001b[0;34m.\u001b[0m\u001b[0mappend\u001b[0m\u001b[0;34m(\u001b[0m\u001b[0mrender_return\u001b[0m\u001b[0;34m)\u001b[0m\u001b[0;34m\u001b[0m\u001b[0;34m\u001b[0m\u001b[0m\n",
            "\u001b[0;32m/usr/local/lib/python3.7/dist-packages/gym/envs/classic_control/cartpole.py\u001b[0m in \u001b[0;36m_render\u001b[0;34m(self, mode)\u001b[0m\n\u001b[1;32m    304\u001b[0m         \u001b[0;32melif\u001b[0m \u001b[0mmode\u001b[0m \u001b[0;32min\u001b[0m \u001b[0;34m{\u001b[0m\u001b[0;34m\"rgb_array\"\u001b[0m\u001b[0;34m,\u001b[0m \u001b[0;34m\"single_rgb_array\"\u001b[0m\u001b[0;34m}\u001b[0m\u001b[0;34m:\u001b[0m\u001b[0;34m\u001b[0m\u001b[0;34m\u001b[0m\u001b[0m\n\u001b[1;32m    305\u001b[0m             return np.transpose(\n\u001b[0;32m--> 306\u001b[0;31m                 \u001b[0mnp\u001b[0m\u001b[0;34m.\u001b[0m\u001b[0marray\u001b[0m\u001b[0;34m(\u001b[0m\u001b[0mpygame\u001b[0m\u001b[0;34m.\u001b[0m\u001b[0msurfarray\u001b[0m\u001b[0;34m.\u001b[0m\u001b[0mpixels3d\u001b[0m\u001b[0;34m(\u001b[0m\u001b[0mself\u001b[0m\u001b[0;34m.\u001b[0m\u001b[0mscreen\u001b[0m\u001b[0;34m)\u001b[0m\u001b[0;34m)\u001b[0m\u001b[0;34m,\u001b[0m \u001b[0maxes\u001b[0m\u001b[0;34m=\u001b[0m\u001b[0;34m(\u001b[0m\u001b[0;36m1\u001b[0m\u001b[0;34m,\u001b[0m \u001b[0;36m0\u001b[0m\u001b[0;34m,\u001b[0m \u001b[0;36m2\u001b[0m\u001b[0;34m)\u001b[0m\u001b[0;34m\u001b[0m\u001b[0;34m\u001b[0m\u001b[0m\n\u001b[0m\u001b[1;32m    307\u001b[0m             )\n\u001b[1;32m    308\u001b[0m \u001b[0;34m\u001b[0m\u001b[0m\n",
            "\u001b[0;31mKeyboardInterrupt\u001b[0m: "
          ]
        }
      ],
      "source": [
        "#%%timeit\n",
        "n_epochs = 50\n",
        "n_sessions = 100\n",
        "percentile = 70\n",
        "log = []\n",
        "\n",
        "with Parallel(n_jobs=2) as parallel:\n",
        "  for i in range(n_epochs):\n",
        "      epoch_start_time = time.time()\n",
        "      # generate new sessions\n",
        "      sessions = [generate_session(agent, t_max=500, renderer=False, test=False) for _ in range(0, n_sessions)]\n",
        "      #sessions = parallel( delayed(generate_session)(agent, t_max=500, renderer=False, test=False) for _ in range(0, n_sessions))\n",
        "      \n",
        "      states_batch, actions_batch, rewards_batch, episode_len_batch = map(np.array, zip(*sessions))\n",
        "\n",
        "      elite_states, elite_actions = select_elites(states_batch,\n",
        "                actions_batch, rewards_batch, percentile) #<select elite actions just like before>\n",
        "\n",
        "      agent.partial_fit(elite_states, elite_actions)\n",
        "      #<partial_fit agent to predict elite_actions (y) from elite_states (X)>\n",
        "\n",
        "      show_progress(rewards_batch, log, percentile, reward_range=[0, np.max(rewards_batch)])\n",
        "\n",
        "      print(f'Epoch: {i}, mean episode len: {np.mean(episode_len_batch)}, epoch_time: {time.time() - epoch_start_time}')\n",
        "      if np.mean(rewards_batch) > 190:\n",
        "          print(\"You Win! You may stop training now via KeyboardInterrupt.\")"
      ]
    },
    {
      "cell_type": "markdown",
      "metadata": {
        "id": "AdStK9NQDqvC"
      },
      "source": [
        "# Results"
      ]
    },
    {
      "cell_type": "code",
      "execution_count": 45,
      "metadata": {
        "colab": {
          "base_uri": "https://localhost:8080/"
        },
        "id": "eS8D7aObDqvC",
        "outputId": "c39aa023-3813-44b8-d59e-9a2ab7233d3e"
      },
      "outputs": [
        {
          "output_type": "stream",
          "name": "stderr",
          "text": [
            "/usr/local/lib/python3.7/dist-packages/gym/wrappers/record_video.py:79: UserWarning: \u001b[33mWARN: Overwriting existing videos at /content/videos folder (try specifying a different `video_folder` for the `RecordVideo` wrapper if this is not desired)\u001b[0m\n",
            "  f\"Overwriting existing videos at {self.video_folder} folder \"\n"
          ]
        }
      ],
      "source": [
        "# record sessions\n",
        "#import env\n",
        "#env = gym.wrappers.Monitor(gym.make(\"CartPole-v1\"),\n",
        "#                           directory=\"videos\", force=True)\n",
        "#sessions = [generate_session(agent, t_max=500, render=False, test=False) for _ in range(100)] #<TRY ARGUMENTS test=True, test=False>\n",
        "#env.close()\n",
        "from gym.wrappers import RecordVideo\n",
        "env.reset()\n",
        "\n",
        "from gym.wrappers.monitoring import video_recorder\n",
        "vid = RecordVideo(env=env,video_folder=\"videos\", video_length=1000, new_step_api=True)\n"
      ]
    },
    {
      "cell_type": "code",
      "source": [
        "!ls ./videos -al"
      ],
      "metadata": {
        "id": "f03zm2BxFOs-",
        "outputId": "3ce5f996-e1ab-4e49-b51d-32f7af395dd6",
        "colab": {
          "base_uri": "https://localhost:8080/"
        }
      },
      "execution_count": 44,
      "outputs": [
        {
          "output_type": "stream",
          "name": "stdout",
          "text": [
            "total 8\n",
            "drwxr-xr-x 2 root root 4096 Aug 27 20:58 .\n",
            "drwxr-xr-x 1 root root 4096 Aug 27 20:58 ..\n"
          ]
        }
      ]
    },
    {
      "cell_type": "code",
      "execution_count": null,
      "metadata": {
        "id": "Bf_bSMkLDqvC"
      },
      "outputs": [],
      "source": [
        "# show video\n",
        "from IPython.display import HTML\n",
        "import os\n",
        "\n",
        "video_names = list(\n",
        "    filter(lambda s: s.endswith(\".mp4\"), os.listdir(\"./videos/\")))\n",
        "\n",
        "HTML(\"\"\"\n",
        "<video width=\"640\" height=\"480\" controls>\n",
        "  <source src=\"{}\" type=\"video/mp4\">\n",
        "</video>\n",
        "\"\"\".format(\"./videos/\"+video_names[-1]))  # this may or may not be _last_ video. Try other indices"
      ]
    },
    {
      "cell_type": "markdown",
      "metadata": {
        "id": "Mlas1g0qDqvC"
      },
      "source": [
        "# Homework\n",
        "\n",
        "### Deep crossentropy method\n",
        "\n",
        "By this moment you should have got enough score on [CartPole-v0](https://gym.openai.com/envs/CartPole-v0) to consider it solved (see the link). It's time to try something harder.\n",
        "\n",
        "* if you have any trouble with CartPole-v0 and feel stuck, feel free to ask us or your peers for help.\n",
        "\n",
        "### Tasks (up to 10 points)\n",
        "\n",
        "* __2.1__ Pick one of environments: MountainCar-v0 or LunarLander-v2.\n",
        "  * For MountainCar, get average reward of __at least -150__\n",
        "  * For LunarLander, get average reward of __at least +50__\n",
        "\n",
        "See the tips section below, it's kinda important.\n",
        "__Note:__ If your agent is below the target score, you'll still get most of the points depending on the result, so don't be afraid to submit it.\n",
        "  \n",
        "  \n",
        "* __2.2__ Devise a way to speed up training at least 2x against the default version\n",
        "  * Obvious improvement: use [joblib](https://www.google.com/search?client=ubuntu&channel=fs&q=joblib&ie=utf-8&oe=utf-8) or multiprocessing\n",
        "  * Try re-using samples from 3-5 last iterations when computing threshold and training\n",
        "  * Experiment with amount of training iterations and learning rate of the neural network (see params)\n",
        "  \n",
        "  \n",
        "### Tips\n",
        "* Gym page: [MountainCar](https://gym.openai.com/envs/MountainCar-v0), [LunarLander](https://gym.openai.com/envs/LunarLander-v2)\n",
        "* Sessions for MountainCar may last for 10k+ ticks. Make sure ```t_max``` param is at least 10k.\n",
        " * Also it may be a good idea to cut rewards via \">\" and not \">=\". If 90% of your sessions get reward of -10k and 20% are better, than if you use percentile 20% as threshold, R >= threshold __fails cut off bad sessions__ whule R > threshold works alright.\n",
        "* _issue with gym_: Some versions of gym limit game time by 200 ticks. This will prevent cem training in most cases. Make sure your agent is able to play for the specified __t_max__, and if it isn't, try `env = gym.make(\"MountainCar-v0\").env` or otherwise get rid of TimeLimit wrapper.\n",
        "* If you use old _swig_ lib for LunarLander-v2, you may get an error. See this [issue](https://github.com/openai/gym/issues/100) for solution.\n",
        "* If it won't train it's a good idea to plot reward distribution and record sessions: they may give you some clue. If they don't, call course staff :)\n",
        "* 20-neuron network is probably not enough, feel free to experiment.\n",
        "\n",
        "You may find the following snippet useful:"
      ]
    },
    {
      "cell_type": "code",
      "execution_count": null,
      "metadata": {
        "id": "MXpLH7xyDqvD"
      },
      "outputs": [],
      "source": [
        "def visualize_mountain_car(env, agent):\n",
        "    xs = np.linspace(env.min_position, env.max_position, 100)\n",
        "    vs = np.linspace(-env.max_speed, env.max_speed, 100)\n",
        "    grid = np.dstack(np.meshgrid(xs, vs)).transpose(1, 0, 2)\n",
        "    grid_flat = grid.reshape(len(xs) * len(vs), 2)\n",
        "    probs = agent.predict_proba(grid_flat).reshape(len(xs), len(vs), 3)\n",
        "    return probs\n",
        "\n",
        "plt.imshow(visualize_mountain_car(env, agent))"
      ]
    },
    {
      "cell_type": "markdown",
      "metadata": {
        "id": "jzGiJiM2DqvD"
      },
      "source": [
        "### Bonus tasks (up to 5 points)\n",
        "\n",
        "* __2.3 bonus__ Solve continuous action space task with `MLPRegressor` or similar.\n",
        "  * Start with [\"Pendulum-v0\"](https://github.com/openai/gym/wiki/Pendulum-v0).\n",
        "  * Since your agent only predicts the \"expected\" action, you will have to add noise to ensure exploration.\n",
        "  * Solve [MountainCarContinuous-v0](https://gym.openai.com/envs/MountainCarContinuous-v0), [LunarLanderContinuous-v2](https://gym.openai.com/envs/LunarLanderContinuous-v2). Slightly less points for getting some results below solution threshold. Note that discrete and continuous environments may have slightly different rules aside from action spaces.\n",
        "  * __Please list what you did in anytask submission form__"
      ]
    }
  ],
  "metadata": {
    "kernelspec": {
      "display_name": "Python 3",
      "language": "python",
      "name": "python3"
    },
    "language_info": {
      "codemirror_mode": {
        "name": "ipython",
        "version": 3
      },
      "file_extension": ".py",
      "mimetype": "text/x-python",
      "name": "python",
      "nbconvert_exporter": "python",
      "pygments_lexer": "ipython3",
      "version": "3.8.3"
    },
    "colab": {
      "provenance": [],
      "include_colab_link": true
    }
  },
  "nbformat": 4,
  "nbformat_minor": 0
}